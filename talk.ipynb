{
 "cells": [
  {
   "cell_type": "markdown",
   "id": "a4ba96d0",
   "metadata": {},
   "source": [
    "# Constructing HEP vectors and analyzing HEP data using Vector\n",
    "\n",
    "**Henry Schreiner\\*, Jim Pivarski\\*, and Saransh Chopra<sup>+</sup> (speaker)**\n",
    "\n",
    "\\*: Princeton University <sup>+</sup>: Cluster Innovation Centre, University of Delhi"
   ]
  },
  {
   "cell_type": "markdown",
   "id": "91dd3ce7",
   "metadata": {},
   "source": [
    "## Quick links"
   ]
  },
  {
   "cell_type": "markdown",
   "id": "33654a33",
   "metadata": {
    "jupyter": {
     "source_hidden": true
    }
   },
   "source": [
    "- GitHub repository (of vector) - https://github.com/scikit-hep/vector\n",
    "- Vector's documentation - https://vector.readthedocs.io/\n",
    "- GitHub repository (of this talk) - https://github.com/Saransh-cpp/PyHEP22-Constructing-HEP-vectors-and-analyzing-HEP-data-using-Vector\n",
    "- Binder (to run the code with us) - https://mybinder.org/v2/gh/Saransh-cpp/PyHEP22-Constructing-HEP-vectors-and-analyzing-HEP-data-using-Vector/HEAD?urlpath=lab/tree/talk.ipynb\n",
    "\n",
    "\n",
    "Some parts of this notebook are inspired by [vector's documentation](https://vector.readthedocs.io/en/latest/), [vector's README](https://github.com/scikit-hep/vector#readme), and [Data handling: uproot, awkward & vector by Mason Proffitt](https://indico.cern.ch/event/1076231/contributions/4560398/)."
   ]
  },
  {
   "cell_type": "markdown",
   "id": "3ccab8de",
   "metadata": {},
   "source": [
    "## Table of contents"
   ]
  },
  {
   "cell_type": "markdown",
   "id": "c518f74a",
   "metadata": {
    "jupyter": {
     "source_hidden": true
    }
   },
   "source": [
    "1. [Introduction](#Introduction)\n",
    "2. [Goals](#Goals)\n",
    "3. [Setup](#Setup)\n",
    "4. [Pure Python Object vectors](#Pure-Python-Object-vectors)\n",
    "5. [NumPy vectors](#NumPy-vectors)\n",
    "6. [Awkward vectors](#Awkward-vectors)\n",
    "7. [Compiling vectors with Numba](#Compiling-vectors-with-Numba)\n",
    "8. [Uproot, Awkward, and Vector](#Uproot,-Awkward,-and-Vector)\n",
    "9. [Recent developments](#Recent-developments)\n",
    "10. [Near future development plans](#Near-future-development-plans)\n",
    "11. [Stuck somewhere? Reach out!](#Stuck-somewhere?-Reach-out!)\n",
    "12. [Cite vector](#Cite-vector)"
   ]
  },
  {
   "cell_type": "markdown",
   "id": "29c34e16",
   "metadata": {},
   "source": [
    "## Introduction"
   ]
  },
  {
   "cell_type": "markdown",
   "id": "70939cd9",
   "metadata": {
    "jupyter": {
     "source_hidden": true
    }
   },
   "source": [
    "Vector is a Python library for 2D, 3D, and Lorentz vectors, including arrays of vectors, designed to solve common physics problems in a NumPy-like way. Vector currently supports pure Python Object, NumPy, Awkward, and Numba-based (Numba-Object, Numba-Awkward) backends.\n",
    "\n",
    "Main features of Vector:\n",
    "\n",
    "- Pure Python with NumPy as its only dependency. This makes it easier to install.\n",
    "- Vectors may be represented in a variety of coordinate systems: Cartesian, cylindrical, pseudorapidity, and any combination of these with time or proper time for Lorentz vectors. In all, there are 12 coordinate systems: {_x_-_y_ vs _ρ_-_φ_ in the azimuthal plane} × {_z_ vs _θ_ vs _η_ longitudinally} × {_t_ vs _τ_ temporally}.\n",
    "- Uses names and conventions set by [ROOT](https://root.cern/)'s [TLorentzVector](https://root.cern.ch/doc/master/classTLorentzVector.html) and [Math::LorentzVector](https://root.cern.ch/doc/master/classROOT_1_1Math_1_1LorentzVector.html), as well as [scikit-hep/math](https://github.com/scikit-hep/scikit-hep/tree/master/skhep/math), [uproot-methods TLorentzVector](https://github.com/scikit-hep/uproot3-methods/blob/master/uproot3_methods/classes/TLorentzVector.py), [henryiii/hepvector](https://github.com/henryiii/hepvector), and [coffea.nanoevents.methods.vector](https://coffeateam.github.io/coffea/modules/coffea.nanoevents.methods.vector.html).\n",
    "- Implemented on a variety of backends:\n",
    "  - pure Python objects\n",
    "  - NumPy arrays of vectors (as a [structured array](https://numpy.org/doc/stable/user/basics.rec.html) subclass)\n",
    "  - [Awkward Arrays](https://awkward-array.org/) of vectors\n",
    "  - potential for more: CuPy, TensorFlow, Torch, JAX...\n",
    "- NumPy/Awkward backends also implemented in [Numba](https://numba.pydata.org/) for JIT-compiled calculations on vectors.\n",
    "- Distinction between geometrical vectors, which have a minimum of attribute and method names, and vectors representing momentum, which have synonyms like `pt` = `rho`, `energy` = `t`, `mass` = `tau`."
   ]
  },
  {
   "cell_type": "markdown",
   "id": "97deaf18",
   "metadata": {},
   "source": [
    "## Goals"
   ]
  },
  {
   "cell_type": "markdown",
   "id": "44861b39",
   "metadata": {
    "jupyter": {
     "source_hidden": true
    }
   },
   "source": [
    "This talk will focus on introducing Vector and its backends through a data analysis pipeline. The session will build up from pure Python Object based vectors to Awkward based vectors, ending with a demonstration of Numba support. Furthermore, we will discuss the latest developments in the library's API and showcase some recent enhancements."
   ]
  },
  {
   "cell_type": "markdown",
   "id": "531bf50c",
   "metadata": {},
   "source": [
    "## Setup"
   ]
  },
  {
   "cell_type": "markdown",
   "id": "90fbf279",
   "metadata": {
    "jupyter": {
     "source_hidden": true
    }
   },
   "source": [
    "There are two ways to follow along (or run this notebook after the talk) -\n",
    "\n",
    "1. Locally\n",
    "\n",
    "    - Clone [this](https://github.com/Saransh-cpp/PyHEP22-Constructing-HEP-vectors-and-analyzing-HEP-data-using-Vector.git) repository -\n",
    "```bash\n",
    "git clone https://github.com/Saransh-cpp/PyHEP22-Constructing-HEP-vectors-and-analyzing-HEP-data-using-Vector.git\n",
    "```\n",
    "\n",
    "    - Change directory\n",
    "```bash\n",
    "cd Constructing-HEP-vectors-and-analyzing-HEP-data-using-Vector\n",
    "```\n",
    "\n",
    "    - Launch the classic Jupyter notebook or Jupyter lab -\n",
    "```bash\n",
    "jupyter notebook\n",
    "# or\n",
    "jupyter lab\n",
    "```\n",
    "\n",
    "2. On cloud (recommended)\n",
    "\n",
    "    - Binder (recommended)\n",
    "[![Binder](https://mybinder.org/badge_logo.svg)](https://mybinder.org/v2/gh/Saransh-cpp/PyHEP22-Constructing-HEP-vectors-and-analyzing-HEP-data-using-Vector/HEAD?urlpath=lab/tree/talk.ipynb)\n",
    "\n",
    "    - Google Colab\n",
    "[![Open In Colab](https://colab.research.google.com/assets/colab-badge.svg)](https://colab.research.google.com/github/Saransh-cpp/PyHEP22-Constructing-HEP-vectors-and-analyzing-HEP-data-using-Vector/blob/main/talk.ipynb)\n",
    "\n",
    "We will be directly importing `vector`, `awkward`, `numpy`, `numba`, and `uproot` in this tutorial. Hence, a user must install these packages if this notebook is being run locally or on Google Colab."
   ]
  },
  {
   "cell_type": "code",
   "execution_count": 1,
   "id": "87c8bead",
   "metadata": {},
   "outputs": [],
   "source": [
    "# Python 3.6 -\n",
    "# !pip install vector==0.9.0 awkward==1.9.0 uproot==4.5.3 numba\n",
    "\n",
    "# Python 3.7+ -\n",
    "# !pip install vector==0.10.0 awkward==1.10.0 uproot==4.5.3 numba\n",
    "\n",
    "import vector"
   ]
  },
  {
   "cell_type": "markdown",
   "id": "76e96848",
   "metadata": {},
   "source": [
    "## Pure Python Object vectors"
   ]
  },
  {
   "cell_type": "markdown",
   "id": "6fffeb57",
   "metadata": {},
   "source": [
    "### Generic vectors\n",
    "\n",
    "One can create `Object` type vectors using the `obj` constructor or using the -\n",
    "\n",
    "- VectorObject2D.from_xy()\n",
    "- VectorObject2D.from_rhophi()\n",
    "- VectorObject3D.from_xyz()\n",
    "- VectorObject3D.from_xytheta()\n",
    "- VectorObject3D.from_xyeta()\n",
    "- VectorObject3D.from_rhophiz()\n",
    "- ...\n",
    "- VectorObject4D.from_xyzt()\n",
    "- VectorObject4D.from_xythetat()\n",
    "- ...\n",
    "\n",
    "class methods."
   ]
  },
  {
   "cell_type": "code",
   "execution_count": 2,
   "id": "25a74457",
   "metadata": {},
   "outputs": [
    {
     "data": {
      "text/plain": [
       "(vector.obj(x=1, y=2), vector.obj(x=1, y=2, z=3))"
      ]
     },
     "execution_count": 2,
     "metadata": {},
     "output_type": "execute_result"
    }
   ],
   "source": [
    "v1 = vector.obj(x=1, y=2)\n",
    "v2 = vector.obj(x=1, y=2, z=3)\n",
    "\n",
    "v1, v2"
   ]
  },
  {
   "cell_type": "code",
   "execution_count": 3,
   "id": "4fa51229",
   "metadata": {},
   "outputs": [
    {
     "data": {
      "text/plain": [
       "(vector.obj(x=1, y=2), vector.obj(x=1, y=2, theta=3, t=4))"
      ]
     },
     "execution_count": 3,
     "metadata": {},
     "output_type": "execute_result"
    }
   ],
   "source": [
    "v1 = vector.VectorObject2D.from_xy(1, 2)\n",
    "v2 = vector.VectorObject4D.from_xythetat(1, 2, 3, 4)\n",
    "\n",
    "v1, v2"
   ]
  },
  {
   "cell_type": "markdown",
   "id": "a8589582",
   "metadata": {},
   "source": [
    "### Momentum vectors\n",
    "\n",
    "The `obj` constructor has momentum overloads, which allow users to create momentum vectors using the same syntax!"
   ]
  },
  {
   "cell_type": "code",
   "execution_count": 4,
   "id": "bb1d1d82",
   "metadata": {},
   "outputs": [
    {
     "data": {
      "text/plain": [
       "(vector.obj(px=1, py=2), vector.obj(px=1, py=2, pz=3, mass=4))"
      ]
     },
     "execution_count": 4,
     "metadata": {},
     "output_type": "execute_result"
    }
   ],
   "source": [
    "vm1 = vector.obj(px=1, py=2)\n",
    "vm2 = vector.obj(px=1, py=2, pz=3, m=4)\n",
    "\n",
    "vm1, vm2"
   ]
  },
  {
   "cell_type": "markdown",
   "id": "e8a321d3",
   "metadata": {},
   "source": [
    "### Inheritance and super classes"
   ]
  },
  {
   "cell_type": "code",
   "execution_count": 5,
   "id": "2e9a2314",
   "metadata": {},
   "outputs": [
    {
     "data": {
      "image/svg+xml": [
       "<svg xmlns:dc=\"http://purl.org/dc/elements/1.1/\" xmlns:cc=\"http://creativecommons.org/ns#\" xmlns:rdf=\"http://www.w3.org/1999/02/22-rdf-syntax-ns#\" xmlns:svg=\"http://www.w3.org/2000/svg\" xmlns=\"http://www.w3.org/2000/svg\" xmlns:sodipodi=\"http://sodipodi.sourceforge.net/DTD/sodipodi-0.dtd\" xmlns:inkscape=\"http://www.inkscape.org/namespaces/inkscape\" width=\"490.99344mm\" height=\"244.5182mm\" viewBox=\"0 0 490.99345 244.5182\" version=\"1.1\" id=\"svg8\" inkscape:version=\"0.92.5 (2060ec1f9f, 2020-04-08)\" sodipodi:docname=\"inheritance.svg\">\n",
       "  <defs id=\"defs2\">\n",
       "    <marker inkscape:isstock=\"true\" style=\"overflow:visible\" id=\"marker8312\" refX=\"0\" refY=\"0\" orient=\"auto\" inkscape:stockid=\"Arrow2Mend\">\n",
       "      <path inkscape:connector-curvature=\"0\" transform=\"scale(-0.6)\" d=\"M 8.7185878,4.0337352 -2.2072895,0.01601326 8.7185884,-4.0017078 c -1.7454984,2.3720609 -1.7354408,5.6174519 -6e-7,8.035443 z\" style=\"fill:#000000;fill-opacity:1;fill-rule:evenodd;stroke:#000000;stroke-width:0.625;stroke-linejoin:round;stroke-opacity:1\" id=\"path8310\"/>\n",
       "    </marker>\n",
       "    <marker inkscape:stockid=\"Arrow2Mend\" orient=\"auto\" refY=\"0\" refX=\"0\" id=\"marker7334\" style=\"overflow:visible\" inkscape:isstock=\"true\" inkscape:collect=\"always\">\n",
       "      <path id=\"path7332\" style=\"fill:#000000;fill-opacity:1;fill-rule:evenodd;stroke:#000000;stroke-width:0.625;stroke-linejoin:round;stroke-opacity:1\" d=\"M 8.7185878,4.0337352 -2.2072895,0.01601326 8.7185884,-4.0017078 c -1.7454984,2.3720609 -1.7354408,5.6174519 -6e-7,8.035443 z\" transform=\"scale(-0.6)\" inkscape:connector-curvature=\"0\"/>\n",
       "    </marker>\n",
       "    <marker inkscape:isstock=\"true\" style=\"overflow:visible\" id=\"marker5792\" refX=\"0\" refY=\"0\" orient=\"auto\" inkscape:stockid=\"Arrow2Mend\" inkscape:collect=\"always\">\n",
       "      <path inkscape:connector-curvature=\"0\" transform=\"scale(-0.6)\" d=\"M 8.7185878,4.0337352 -2.2072895,0.01601326 8.7185884,-4.0017078 c -1.7454984,2.3720609 -1.7354408,5.6174519 -6e-7,8.035443 z\" style=\"fill:#000000;fill-opacity:1;fill-rule:evenodd;stroke:#000000;stroke-width:0.625;stroke-linejoin:round;stroke-opacity:1\" id=\"path5790\"/>\n",
       "    </marker>\n",
       "    <marker inkscape:stockid=\"Arrow2Mend\" orient=\"auto\" refY=\"0\" refX=\"0\" id=\"marker4298\" style=\"overflow:visible\" inkscape:isstock=\"true\">\n",
       "      <path id=\"path4296\" style=\"fill:#000000;fill-opacity:1;fill-rule:evenodd;stroke:#000000;stroke-width:0.625;stroke-linejoin:round;stroke-opacity:1\" d=\"M 8.7185878,4.0337352 -2.2072895,0.01601326 8.7185884,-4.0017078 c -1.7454984,2.3720609 -1.7354408,5.6174519 -6e-7,8.035443 z\" transform=\"scale(-0.6)\" inkscape:connector-curvature=\"0\"/>\n",
       "    </marker>\n",
       "    <marker inkscape:isstock=\"true\" style=\"overflow:visible\" id=\"marker2882\" refX=\"0\" refY=\"0\" orient=\"auto\" inkscape:stockid=\"Arrow2Mend\" inkscape:collect=\"always\">\n",
       "      <path inkscape:connector-curvature=\"0\" transform=\"scale(-0.6)\" d=\"M 8.7185878,4.0337352 -2.2072895,0.01601326 8.7185884,-4.0017078 c -1.7454984,2.3720609 -1.7354408,5.6174519 -6e-7,8.035443 z\" style=\"fill:#000000;fill-opacity:1;fill-rule:evenodd;stroke:#000000;stroke-width:0.625;stroke-linejoin:round;stroke-opacity:1\" id=\"path2880\"/>\n",
       "    </marker>\n",
       "    <marker inkscape:isstock=\"true\" style=\"overflow:visible\" id=\"marker2785\" refX=\"0\" refY=\"0\" orient=\"auto\" inkscape:stockid=\"Arrow2Mend\">\n",
       "      <path transform=\"scale(-0.6)\" d=\"M 8.7185878,4.0337352 -2.2072895,0.01601326 8.7185884,-4.0017078 c -1.7454984,2.3720609 -1.7354408,5.6174519 -6e-7,8.035443 z\" style=\"fill:#ff0000;fill-opacity:1;fill-rule:evenodd;stroke:#ff0000;stroke-width:0.625;stroke-linejoin:round;stroke-opacity:1\" id=\"path2783\" inkscape:connector-curvature=\"0\"/>\n",
       "    </marker>\n",
       "    <marker inkscape:isstock=\"true\" style=\"overflow:visible\" id=\"marker11749\" refX=\"0\" refY=\"0\" orient=\"auto\" inkscape:stockid=\"Arrow2Mend\">\n",
       "      <path transform=\"scale(-0.6)\" d=\"M 8.7185878,4.0337352 -2.2072895,0.01601326 8.7185884,-4.0017078 c -1.7454984,2.3720609 -1.7354408,5.6174519 -6e-7,8.035443 z\" style=\"fill:#ff0000;fill-opacity:1;fill-rule:evenodd;stroke:#ff0000;stroke-width:0.625;stroke-linejoin:round;stroke-opacity:1\" id=\"path11747\" inkscape:connector-curvature=\"0\"/>\n",
       "    </marker>\n",
       "    <marker inkscape:stockid=\"Arrow2Mend\" orient=\"auto\" refY=\"0\" refX=\"0\" id=\"marker10961\" style=\"overflow:visible\" inkscape:isstock=\"true\">\n",
       "      <path inkscape:connector-curvature=\"0\" id=\"path10959\" style=\"fill:#ff0000;fill-opacity:1;fill-rule:evenodd;stroke:#ff0000;stroke-width:0.625;stroke-linejoin:round;stroke-opacity:1\" d=\"M 8.7185878,4.0337352 -2.2072895,0.01601326 8.7185884,-4.0017078 c -1.7454984,2.3720609 -1.7354408,5.6174519 -6e-7,8.035443 z\" transform=\"scale(-0.6)\"/>\n",
       "    </marker>\n",
       "    <marker inkscape:stockid=\"Arrow2Mend\" orient=\"auto\" refY=\"0\" refX=\"0\" id=\"marker9208\" style=\"overflow:visible\" inkscape:isstock=\"true\">\n",
       "      <path inkscape:connector-curvature=\"0\" id=\"path9206\" style=\"fill:#ff0000;fill-opacity:1;fill-rule:evenodd;stroke:#ff0000;stroke-width:0.625;stroke-linejoin:round;stroke-opacity:1\" d=\"M 8.7185878,4.0337352 -2.2072895,0.01601326 8.7185884,-4.0017078 c -1.7454984,2.3720609 -1.7354408,5.6174519 -6e-7,8.035443 z\" transform=\"scale(-0.6)\"/>\n",
       "    </marker>\n",
       "    <marker inkscape:stockid=\"Arrow2Mend\" orient=\"auto\" refY=\"0\" refX=\"0\" id=\"marker7725\" style=\"overflow:visible\" inkscape:isstock=\"true\" inkscape:collect=\"always\">\n",
       "      <path inkscape:connector-curvature=\"0\" id=\"path7723\" style=\"fill:#ff0000;fill-opacity:1;fill-rule:evenodd;stroke:#ff0000;stroke-width:0.625;stroke-linejoin:round;stroke-opacity:1\" d=\"M 8.7185878,4.0337352 -2.2072895,0.01601326 8.7185884,-4.0017078 c -1.7454984,2.3720609 -1.7354408,5.6174519 -6e-7,8.035443 z\" transform=\"scale(-0.6)\"/>\n",
       "    </marker>\n",
       "    <marker inkscape:stockid=\"Arrow2Mend\" orient=\"auto\" refY=\"0\" refX=\"0\" id=\"marker6242\" style=\"overflow:visible\" inkscape:isstock=\"true\" inkscape:collect=\"always\">\n",
       "      <path inkscape:connector-curvature=\"0\" id=\"path6240\" style=\"fill:#ff0000;fill-opacity:1;fill-rule:evenodd;stroke:#ff0000;stroke-width:0.625;stroke-linejoin:round;stroke-opacity:1\" d=\"M 8.7185878,4.0337352 -2.2072895,0.01601326 8.7185884,-4.0017078 c -1.7454984,2.3720609 -1.7354408,5.6174519 -6e-7,8.035443 z\" transform=\"scale(-0.6)\"/>\n",
       "    </marker>\n",
       "    <marker inkscape:stockid=\"Arrow2Mend\" orient=\"auto\" refY=\"0\" refX=\"0\" id=\"marker4783\" style=\"overflow:visible\" inkscape:isstock=\"true\">\n",
       "      <path inkscape:connector-curvature=\"0\" id=\"path4781\" style=\"fill:#ff0000;fill-opacity:1;fill-rule:evenodd;stroke:#ff0000;stroke-width:0.625;stroke-linejoin:round;stroke-opacity:1\" d=\"M 8.7185878,4.0337352 -2.2072895,0.01601326 8.7185884,-4.0017078 c -1.7454984,2.3720609 -1.7354408,5.6174519 -6e-7,8.035443 z\" transform=\"scale(-0.6)\"/>\n",
       "    </marker>\n",
       "    <marker inkscape:isstock=\"true\" style=\"overflow:visible\" id=\"marker3325\" refX=\"0\" refY=\"0\" orient=\"auto\" inkscape:stockid=\"Arrow2Mend\" inkscape:collect=\"always\">\n",
       "      <path transform=\"scale(-0.6)\" d=\"M 8.7185878,4.0337352 -2.2072895,0.01601326 8.7185884,-4.0017078 c -1.7454984,2.3720609 -1.7354408,5.6174519 -6e-7,8.035443 z\" style=\"fill:#ff0000;fill-opacity:1;fill-rule:evenodd;stroke:#ff0000;stroke-width:0.625;stroke-linejoin:round;stroke-opacity:1\" id=\"path3323\" inkscape:connector-curvature=\"0\"/>\n",
       "    </marker>\n",
       "    <marker inkscape:isstock=\"true\" style=\"overflow:visible\" id=\"marker59953\" refX=\"0\" refY=\"0\" orient=\"auto\" inkscape:stockid=\"Arrow2Mend\">\n",
       "      <path inkscape:connector-curvature=\"0\" transform=\"scale(-0.6)\" d=\"M 8.7185878,4.0337352 -2.2072895,0.01601326 8.7185884,-4.0017078 c -1.7454984,2.3720609 -1.7354408,5.6174519 -6e-7,8.035443 z\" style=\"fill:#000000;fill-opacity:1;fill-rule:evenodd;stroke:#000000;stroke-width:0.625;stroke-linejoin:round;stroke-opacity:1\" id=\"path59951\"/>\n",
       "    </marker>\n",
       "    <marker inkscape:isstock=\"true\" style=\"overflow:visible\" id=\"marker55111\" refX=\"0\" refY=\"0\" orient=\"auto\" inkscape:stockid=\"Arrow2Mend\">\n",
       "      <path inkscape:connector-curvature=\"0\" transform=\"scale(-0.6)\" d=\"M 8.7185878,4.0337352 -2.2072895,0.01601326 8.7185884,-4.0017078 c -1.7454984,2.3720609 -1.7354408,5.6174519 -6e-7,8.035443 z\" style=\"fill:#000000;fill-opacity:1;fill-rule:evenodd;stroke:#000000;stroke-width:0.625;stroke-linejoin:round;stroke-opacity:1\" id=\"path55109\"/>\n",
       "    </marker>\n",
       "    <marker inkscape:stockid=\"Arrow2Mend\" orient=\"auto\" refY=\"0\" refX=\"0\" id=\"marker47331\" style=\"overflow:visible\" inkscape:isstock=\"true\">\n",
       "      <path inkscape:connector-curvature=\"0\" id=\"path47329\" style=\"fill:#000000;fill-opacity:1;fill-rule:evenodd;stroke:#000000;stroke-width:0.625;stroke-linejoin:round;stroke-opacity:1\" d=\"M 8.7185878,4.0337352 -2.2072895,0.01601326 8.7185884,-4.0017078 c -1.7454984,2.3720609 -1.7354408,5.6174519 -6e-7,8.035443 z\" transform=\"scale(-0.6)\"/>\n",
       "    </marker>\n",
       "    <marker inkscape:stockid=\"Arrow2Mend\" orient=\"auto\" refY=\"0\" refX=\"0\" id=\"marker46650\" style=\"overflow:visible\" inkscape:isstock=\"true\">\n",
       "      <path inkscape:connector-curvature=\"0\" id=\"path46648\" style=\"fill:#000000;fill-opacity:1;fill-rule:evenodd;stroke:#000000;stroke-width:0.625;stroke-linejoin:round;stroke-opacity:1\" d=\"M 8.7185878,4.0337352 -2.2072895,0.01601326 8.7185884,-4.0017078 c -1.7454984,2.3720609 -1.7354408,5.6174519 -6e-7,8.035443 z\" transform=\"scale(-0.6)\"/>\n",
       "    </marker>\n",
       "    <marker inkscape:stockid=\"Arrow2Mend\" orient=\"auto\" refY=\"0\" refX=\"0\" id=\"marker45975\" style=\"overflow:visible\" inkscape:isstock=\"true\">\n",
       "      <path inkscape:connector-curvature=\"0\" id=\"path45973\" style=\"fill:#000000;fill-opacity:1;fill-rule:evenodd;stroke:#000000;stroke-width:0.625;stroke-linejoin:round;stroke-opacity:1\" d=\"M 8.7185878,4.0337352 -2.2072895,0.01601326 8.7185884,-4.0017078 c -1.7454984,2.3720609 -1.7354408,5.6174519 -6e-7,8.035443 z\" transform=\"scale(-0.6)\"/>\n",
       "    </marker>\n",
       "    <marker inkscape:stockid=\"Arrow2Mend\" orient=\"auto\" refY=\"0\" refX=\"0\" id=\"marker45276\" style=\"overflow:visible\" inkscape:isstock=\"true\">\n",
       "      <path inkscape:connector-curvature=\"0\" id=\"path45274\" style=\"fill:#000000;fill-opacity:1;fill-rule:evenodd;stroke:#000000;stroke-width:0.625;stroke-linejoin:round;stroke-opacity:1\" d=\"M 8.7185878,4.0337352 -2.2072895,0.01601326 8.7185884,-4.0017078 c -1.7454984,2.3720609 -1.7354408,5.6174519 -6e-7,8.035443 z\" transform=\"scale(-0.6)\"/>\n",
       "    </marker>\n",
       "    <marker inkscape:stockid=\"Arrow2Mend\" orient=\"auto\" refY=\"0\" refX=\"0\" id=\"marker44624\" style=\"overflow:visible\" inkscape:isstock=\"true\">\n",
       "      <path inkscape:connector-curvature=\"0\" id=\"path44622\" style=\"fill:#000000;fill-opacity:1;fill-rule:evenodd;stroke:#000000;stroke-width:0.625;stroke-linejoin:round;stroke-opacity:1\" d=\"M 8.7185878,4.0337352 -2.2072895,0.01601326 8.7185884,-4.0017078 c -1.7454984,2.3720609 -1.7354408,5.6174519 -6e-7,8.035443 z\" transform=\"scale(-0.6)\"/>\n",
       "    </marker>\n",
       "    <marker inkscape:stockid=\"Arrow2Mend\" orient=\"auto\" refY=\"0\" refX=\"0\" id=\"marker43972\" style=\"overflow:visible\" inkscape:isstock=\"true\" inkscape:collect=\"always\">\n",
       "      <path inkscape:connector-curvature=\"0\" id=\"path43970\" style=\"fill:#000000;fill-opacity:1;fill-rule:evenodd;stroke:#000000;stroke-width:0.625;stroke-linejoin:round;stroke-opacity:1\" d=\"M 8.7185878,4.0337352 -2.2072895,0.01601326 8.7185884,-4.0017078 c -1.7454984,2.3720609 -1.7354408,5.6174519 -6e-7,8.035443 z\" transform=\"scale(-0.6)\"/>\n",
       "    </marker>\n",
       "    <marker inkscape:stockid=\"Arrow2Mend\" orient=\"auto\" refY=\"0\" refX=\"0\" id=\"marker37517\" style=\"overflow:visible\" inkscape:isstock=\"true\">\n",
       "      <path inkscape:connector-curvature=\"0\" id=\"path37515\" style=\"fill:#000000;fill-opacity:1;fill-rule:evenodd;stroke:#000000;stroke-width:0.625;stroke-linejoin:round;stroke-opacity:1\" d=\"M 8.7185878,4.0337352 -2.2072895,0.01601326 8.7185884,-4.0017078 c -1.7454984,2.3720609 -1.7354408,5.6174519 -6e-7,8.035443 z\" transform=\"scale(-0.6)\"/>\n",
       "    </marker>\n",
       "    <marker inkscape:stockid=\"Arrow2Mend\" orient=\"auto\" refY=\"0\" refX=\"0\" id=\"marker33452\" style=\"overflow:visible\" inkscape:isstock=\"true\">\n",
       "      <path inkscape:connector-curvature=\"0\" id=\"path33450\" style=\"fill:#000000;fill-opacity:1;fill-rule:evenodd;stroke:#000000;stroke-width:0.625;stroke-linejoin:round;stroke-opacity:1\" d=\"M 8.7185878,4.0337352 -2.2072895,0.01601326 8.7185884,-4.0017078 c -1.7454984,2.3720609 -1.7354408,5.6174519 -6e-7,8.035443 z\" transform=\"scale(-0.6)\"/>\n",
       "    </marker>\n",
       "    <marker inkscape:stockid=\"Arrow2Mend\" orient=\"auto\" refY=\"0\" refX=\"0\" id=\"marker29597\" style=\"overflow:visible\" inkscape:isstock=\"true\">\n",
       "      <path inkscape:connector-curvature=\"0\" id=\"path29595\" style=\"fill:#000000;fill-opacity:1;fill-rule:evenodd;stroke:#000000;stroke-width:0.625;stroke-linejoin:round;stroke-opacity:1\" d=\"M 8.7185878,4.0337352 -2.2072895,0.01601326 8.7185884,-4.0017078 c -1.7454984,2.3720609 -1.7354408,5.6174519 -6e-7,8.035443 z\" transform=\"scale(-0.6)\"/>\n",
       "    </marker>\n",
       "    <marker inkscape:stockid=\"Arrow2Mend\" orient=\"auto\" refY=\"0\" refX=\"0\" id=\"marker28964\" style=\"overflow:visible\" inkscape:isstock=\"true\">\n",
       "      <path inkscape:connector-curvature=\"0\" id=\"path28962\" style=\"fill:#000000;fill-opacity:1;fill-rule:evenodd;stroke:#000000;stroke-width:0.625;stroke-linejoin:round;stroke-opacity:1\" d=\"M 8.7185878,4.0337352 -2.2072895,0.01601326 8.7185884,-4.0017078 c -1.7454984,2.3720609 -1.7354408,5.6174519 -6e-7,8.035443 z\" transform=\"scale(-0.6)\"/>\n",
       "    </marker>\n",
       "    <marker inkscape:stockid=\"Arrow2Mend\" orient=\"auto\" refY=\"0\" refX=\"0\" id=\"marker25553\" style=\"overflow:visible\" inkscape:isstock=\"true\">\n",
       "      <path inkscape:connector-curvature=\"0\" id=\"path25551\" style=\"fill:#000000;fill-opacity:1;fill-rule:evenodd;stroke:#000000;stroke-width:0.625;stroke-linejoin:round;stroke-opacity:1\" d=\"M 8.7185878,4.0337352 -2.2072895,0.01601326 8.7185884,-4.0017078 c -1.7454984,2.3720609 -1.7354408,5.6174519 -6e-7,8.035443 z\" transform=\"scale(-0.6)\"/>\n",
       "    </marker>\n",
       "    <marker inkscape:stockid=\"Arrow2Mend\" orient=\"auto\" refY=\"0\" refX=\"0\" id=\"marker22592\" style=\"overflow:visible\" inkscape:isstock=\"true\">\n",
       "      <path inkscape:connector-curvature=\"0\" id=\"path22590\" style=\"fill:#000000;fill-opacity:1;fill-rule:evenodd;stroke:#000000;stroke-width:0.625;stroke-linejoin:round;stroke-opacity:1\" d=\"M 8.7185878,4.0337352 -2.2072895,0.01601326 8.7185884,-4.0017078 c -1.7454984,2.3720609 -1.7354408,5.6174519 -6e-7,8.035443 z\" transform=\"scale(-0.6)\"/>\n",
       "    </marker>\n",
       "    <marker inkscape:stockid=\"Arrow2Mend\" orient=\"auto\" refY=\"0\" refX=\"0\" id=\"marker20387\" style=\"overflow:visible\" inkscape:isstock=\"true\">\n",
       "      <path inkscape:connector-curvature=\"0\" id=\"path20385\" style=\"fill:#000000;fill-opacity:1;fill-rule:evenodd;stroke:#000000;stroke-width:0.625;stroke-linejoin:round;stroke-opacity:1\" d=\"M 8.7185878,4.0337352 -2.2072895,0.01601326 8.7185884,-4.0017078 c -1.7454984,2.3720609 -1.7354408,5.6174519 -6e-7,8.035443 z\" transform=\"scale(-0.6)\"/>\n",
       "    </marker>\n",
       "    <marker inkscape:stockid=\"Arrow2Mend\" orient=\"auto\" refY=\"0\" refX=\"0\" id=\"marker19514\" style=\"overflow:visible\" inkscape:isstock=\"true\">\n",
       "      <path inkscape:connector-curvature=\"0\" id=\"path19512\" style=\"fill:#000000;fill-opacity:1;fill-rule:evenodd;stroke:#000000;stroke-width:0.625;stroke-linejoin:round;stroke-opacity:1\" d=\"M 8.7185878,4.0337352 -2.2072895,0.01601326 8.7185884,-4.0017078 c -1.7454984,2.3720609 -1.7354408,5.6174519 -6e-7,8.035443 z\" transform=\"scale(-0.6)\"/>\n",
       "    </marker>\n",
       "    <marker inkscape:stockid=\"Arrow2Mend\" orient=\"auto\" refY=\"0\" refX=\"0\" id=\"marker15257\" style=\"overflow:visible\" inkscape:isstock=\"true\">\n",
       "      <path inkscape:connector-curvature=\"0\" id=\"path15255\" style=\"fill:#000000;fill-opacity:1;fill-rule:evenodd;stroke:#000000;stroke-width:0.625;stroke-linejoin:round;stroke-opacity:1\" d=\"M 8.7185878,4.0337352 -2.2072895,0.01601326 8.7185884,-4.0017078 c -1.7454984,2.3720609 -1.7354408,5.6174519 -6e-7,8.035443 z\" transform=\"scale(-0.6)\"/>\n",
       "    </marker>\n",
       "    <marker inkscape:stockid=\"Arrow2Mend\" orient=\"auto\" refY=\"0\" refX=\"0\" id=\"marker14660\" style=\"overflow:visible\" inkscape:isstock=\"true\">\n",
       "      <path inkscape:connector-curvature=\"0\" id=\"path14658\" style=\"fill:#000000;fill-opacity:1;fill-rule:evenodd;stroke:#000000;stroke-width:0.625;stroke-linejoin:round;stroke-opacity:1\" d=\"M 8.7185878,4.0337352 -2.2072895,0.01601326 8.7185884,-4.0017078 c -1.7454984,2.3720609 -1.7354408,5.6174519 -6e-7,8.035443 z\" transform=\"scale(-0.6)\"/>\n",
       "    </marker>\n",
       "    <marker inkscape:stockid=\"Arrow2Mend\" orient=\"auto\" refY=\"0\" refX=\"0\" id=\"marker14069\" style=\"overflow:visible\" inkscape:isstock=\"true\">\n",
       "      <path inkscape:connector-curvature=\"0\" id=\"path14067\" style=\"fill:#000000;fill-opacity:1;fill-rule:evenodd;stroke:#000000;stroke-width:0.625;stroke-linejoin:round;stroke-opacity:1\" d=\"M 8.7185878,4.0337352 -2.2072895,0.01601326 8.7185884,-4.0017078 c -1.7454984,2.3720609 -1.7354408,5.6174519 -6e-7,8.035443 z\" transform=\"scale(-0.6)\"/>\n",
       "    </marker>\n",
       "    <marker inkscape:stockid=\"Arrow2Mend\" orient=\"auto\" refY=\"0\" refX=\"0\" id=\"marker12014\" style=\"overflow:visible\" inkscape:isstock=\"true\">\n",
       "      <path inkscape:connector-curvature=\"0\" id=\"path12012\" style=\"fill:#000000;fill-opacity:1;fill-rule:evenodd;stroke:#000000;stroke-width:0.625;stroke-linejoin:round;stroke-opacity:1\" d=\"M 8.7185878,4.0337352 -2.2072895,0.01601326 8.7185884,-4.0017078 c -1.7454984,2.3720609 -1.7354408,5.6174519 -6e-7,8.035443 z\" transform=\"scale(-0.6)\"/>\n",
       "    </marker>\n",
       "    <marker inkscape:stockid=\"Arrow2Mend\" orient=\"auto\" refY=\"0\" refX=\"0\" id=\"marker11425\" style=\"overflow:visible\" inkscape:isstock=\"true\">\n",
       "      <path inkscape:connector-curvature=\"0\" id=\"path11423\" style=\"fill:#000000;fill-opacity:1;fill-rule:evenodd;stroke:#000000;stroke-width:0.625;stroke-linejoin:round;stroke-opacity:1\" d=\"M 8.7185878,4.0337352 -2.2072895,0.01601326 8.7185884,-4.0017078 c -1.7454984,2.3720609 -1.7354408,5.6174519 -6e-7,8.035443 z\" transform=\"scale(-0.6)\"/>\n",
       "    </marker>\n",
       "    <marker inkscape:stockid=\"Arrow2Mend\" orient=\"auto\" refY=\"0\" refX=\"0\" id=\"marker10842\" style=\"overflow:visible\" inkscape:isstock=\"true\">\n",
       "      <path inkscape:connector-curvature=\"0\" id=\"path10840\" style=\"fill:#000000;fill-opacity:1;fill-rule:evenodd;stroke:#000000;stroke-width:0.625;stroke-linejoin:round;stroke-opacity:1\" d=\"M 8.7185878,4.0337352 -2.2072895,0.01601326 8.7185884,-4.0017078 c -1.7454984,2.3720609 -1.7354408,5.6174519 -6e-7,8.035443 z\" transform=\"scale(-0.6)\"/>\n",
       "    </marker>\n",
       "    <marker inkscape:isstock=\"true\" style=\"overflow:visible\" id=\"marker7394\" refX=\"0\" refY=\"0\" orient=\"auto\" inkscape:stockid=\"Arrow2Mend\">\n",
       "      <path inkscape:connector-curvature=\"0\" transform=\"scale(-0.6)\" d=\"M 8.7185878,4.0337352 -2.2072895,0.01601326 8.7185884,-4.0017078 c -1.7454984,2.3720609 -1.7354408,5.6174519 -6e-7,8.035443 z\" style=\"fill:#000000;fill-opacity:1;fill-rule:evenodd;stroke:#000000;stroke-width:0.625;stroke-linejoin:round;stroke-opacity:1\" id=\"path7392\"/>\n",
       "    </marker>\n",
       "    <marker inkscape:stockid=\"Arrow2Mend\" orient=\"auto\" refY=\"0\" refX=\"0\" id=\"marker6154\" style=\"overflow:visible\" inkscape:isstock=\"true\">\n",
       "      <path id=\"path6152\" style=\"fill:#000000;fill-opacity:1;fill-rule:evenodd;stroke:#000000;stroke-width:0.625;stroke-linejoin:round;stroke-opacity:1\" d=\"M 8.7185878,4.0337352 -2.2072895,0.01601326 8.7185884,-4.0017078 c -1.7454984,2.3720609 -1.7354408,5.6174519 -6e-7,8.035443 z\" transform=\"scale(-0.6)\" inkscape:connector-curvature=\"0\"/>\n",
       "    </marker>\n",
       "    <marker inkscape:isstock=\"true\" style=\"overflow:visible\" id=\"marker4110\" refX=\"0\" refY=\"0\" orient=\"auto\" inkscape:stockid=\"Arrow2Mend\">\n",
       "      <path inkscape:connector-curvature=\"0\" transform=\"scale(-0.6)\" d=\"M 8.7185878,4.0337352 -2.2072895,0.01601326 8.7185884,-4.0017078 c -1.7454984,2.3720609 -1.7354408,5.6174519 -6e-7,8.035443 z\" style=\"fill:#000000;fill-opacity:1;fill-rule:evenodd;stroke:#000000;stroke-width:0.625;stroke-linejoin:round;stroke-opacity:1\" id=\"path4108\"/>\n",
       "    </marker>\n",
       "    <marker inkscape:isstock=\"true\" style=\"overflow:visible\" id=\"marker3556\" refX=\"0\" refY=\"0\" orient=\"auto\" inkscape:stockid=\"Arrow2Mend\" inkscape:collect=\"always\">\n",
       "      <path inkscape:connector-curvature=\"0\" transform=\"scale(-0.6)\" d=\"M 8.7185878,4.0337352 -2.2072895,0.01601326 8.7185884,-4.0017078 c -1.7454984,2.3720609 -1.7354408,5.6174519 -6e-7,8.035443 z\" style=\"fill:#000000;fill-opacity:1;fill-rule:evenodd;stroke:#000000;stroke-width:0.625;stroke-linejoin:round;stroke-opacity:1\" id=\"path3554\"/>\n",
       "    </marker>\n",
       "    <marker inkscape:isstock=\"true\" style=\"overflow:visible\" id=\"marker43361\" refX=\"0\" refY=\"0\" orient=\"auto\" inkscape:stockid=\"Arrow2Mend\">\n",
       "      <path transform=\"scale(-0.6)\" d=\"M 8.7185878,4.0337352 -2.2072895,0.01601326 8.7185884,-4.0017078 c -1.7454984,2.3720609 -1.7354408,5.6174519 -6e-7,8.035443 z\" style=\"fill:#000000;fill-opacity:1;fill-rule:evenodd;stroke:#000000;stroke-width:0.625;stroke-linejoin:round;stroke-opacity:1\" id=\"path43359\" inkscape:connector-curvature=\"0\"/>\n",
       "    </marker>\n",
       "    <marker inkscape:isstock=\"true\" style=\"overflow:visible\" id=\"marker42764\" refX=\"0\" refY=\"0\" orient=\"auto\" inkscape:stockid=\"Arrow2Mend\">\n",
       "      <path transform=\"scale(-0.6)\" d=\"M 8.7185878,4.0337352 -2.2072895,0.01601326 8.7185884,-4.0017078 c -1.7454984,2.3720609 -1.7354408,5.6174519 -6e-7,8.035443 z\" style=\"fill:#000000;fill-opacity:1;fill-rule:evenodd;stroke:#000000;stroke-width:0.625;stroke-linejoin:round;stroke-opacity:1\" id=\"path42762\" inkscape:connector-curvature=\"0\"/>\n",
       "    </marker>\n",
       "    <marker inkscape:isstock=\"true\" style=\"overflow:visible\" id=\"marker42173\" refX=\"0\" refY=\"0\" orient=\"auto\" inkscape:stockid=\"Arrow2Mend\">\n",
       "      <path transform=\"scale(-0.6)\" d=\"M 8.7185878,4.0337352 -2.2072895,0.01601326 8.7185884,-4.0017078 c -1.7454984,2.3720609 -1.7354408,5.6174519 -6e-7,8.035443 z\" style=\"fill:#000000;fill-opacity:1;fill-rule:evenodd;stroke:#000000;stroke-width:0.625;stroke-linejoin:round;stroke-opacity:1\" id=\"path42171\" inkscape:connector-curvature=\"0\"/>\n",
       "    </marker>\n",
       "    <marker inkscape:isstock=\"true\" style=\"overflow:visible\" id=\"marker41588\" refX=\"0\" refY=\"0\" orient=\"auto\" inkscape:stockid=\"Arrow2Mend\">\n",
       "      <path transform=\"scale(-0.6)\" d=\"M 8.7185878,4.0337352 -2.2072895,0.01601326 8.7185884,-4.0017078 c -1.7454984,2.3720609 -1.7354408,5.6174519 -6e-7,8.035443 z\" style=\"fill:#000000;fill-opacity:1;fill-rule:evenodd;stroke:#000000;stroke-width:0.625;stroke-linejoin:round;stroke-opacity:1\" id=\"path41586\" inkscape:connector-curvature=\"0\"/>\n",
       "    </marker>\n",
       "    <marker inkscape:isstock=\"true\" style=\"overflow:visible\" id=\"marker41009\" refX=\"0\" refY=\"0\" orient=\"auto\" inkscape:stockid=\"Arrow2Mend\">\n",
       "      <path transform=\"scale(-0.6)\" d=\"M 8.7185878,4.0337352 -2.2072895,0.01601326 8.7185884,-4.0017078 c -1.7454984,2.3720609 -1.7354408,5.6174519 -6e-7,8.035443 z\" style=\"fill:#000000;fill-opacity:1;fill-rule:evenodd;stroke:#000000;stroke-width:0.625;stroke-linejoin:round;stroke-opacity:1\" id=\"path41007\" inkscape:connector-curvature=\"0\"/>\n",
       "    </marker>\n",
       "    <marker inkscape:isstock=\"true\" style=\"overflow:visible\" id=\"marker40436\" refX=\"0\" refY=\"0\" orient=\"auto\" inkscape:stockid=\"Arrow2Mend\">\n",
       "      <path transform=\"scale(-0.6)\" d=\"M 8.7185878,4.0337352 -2.2072895,0.01601326 8.7185884,-4.0017078 c -1.7454984,2.3720609 -1.7354408,5.6174519 -6e-7,8.035443 z\" style=\"fill:#000000;fill-opacity:1;fill-rule:evenodd;stroke:#000000;stroke-width:0.625;stroke-linejoin:round;stroke-opacity:1\" id=\"path40434\" inkscape:connector-curvature=\"0\"/>\n",
       "    </marker>\n",
       "    <marker inkscape:isstock=\"true\" style=\"overflow:visible\" id=\"marker39869\" refX=\"0\" refY=\"0\" orient=\"auto\" inkscape:stockid=\"Arrow2Mend\">\n",
       "      <path transform=\"scale(-0.6)\" d=\"M 8.7185878,4.0337352 -2.2072895,0.01601326 8.7185884,-4.0017078 c -1.7454984,2.3720609 -1.7354408,5.6174519 -6e-7,8.035443 z\" style=\"fill:#000000;fill-opacity:1;fill-rule:evenodd;stroke:#000000;stroke-width:0.625;stroke-linejoin:round;stroke-opacity:1\" id=\"path39867\" inkscape:connector-curvature=\"0\"/>\n",
       "    </marker>\n",
       "    <marker inkscape:isstock=\"true\" style=\"overflow:visible\" id=\"marker39308\" refX=\"0\" refY=\"0\" orient=\"auto\" inkscape:stockid=\"Arrow2Mend\">\n",
       "      <path transform=\"scale(-0.6)\" d=\"M 8.7185878,4.0337352 -2.2072895,0.01601326 8.7185884,-4.0017078 c -1.7454984,2.3720609 -1.7354408,5.6174519 -6e-7,8.035443 z\" style=\"fill:#000000;fill-opacity:1;fill-rule:evenodd;stroke:#000000;stroke-width:0.625;stroke-linejoin:round;stroke-opacity:1\" id=\"path39306\" inkscape:connector-curvature=\"0\"/>\n",
       "    </marker>\n",
       "    <marker inkscape:isstock=\"true\" style=\"overflow:visible\" id=\"marker38753\" refX=\"0\" refY=\"0\" orient=\"auto\" inkscape:stockid=\"Arrow2Mend\">\n",
       "      <path transform=\"scale(-0.6)\" d=\"M 8.7185878,4.0337352 -2.2072895,0.01601326 8.7185884,-4.0017078 c -1.7454984,2.3720609 -1.7354408,5.6174519 -6e-7,8.035443 z\" style=\"fill:#000000;fill-opacity:1;fill-rule:evenodd;stroke:#000000;stroke-width:0.625;stroke-linejoin:round;stroke-opacity:1\" id=\"path38751\" inkscape:connector-curvature=\"0\"/>\n",
       "    </marker>\n",
       "    <marker inkscape:isstock=\"true\" style=\"overflow:visible\" id=\"marker38049\" refX=\"0\" refY=\"0\" orient=\"auto\" inkscape:stockid=\"Arrow2Mend\">\n",
       "      <path transform=\"scale(-0.6)\" d=\"M 8.7185878,4.0337352 -2.2072895,0.01601326 8.7185884,-4.0017078 c -1.7454984,2.3720609 -1.7354408,5.6174519 -6e-7,8.035443 z\" style=\"fill:#000000;fill-opacity:1;fill-rule:evenodd;stroke:#000000;stroke-width:0.625;stroke-linejoin:round;stroke-opacity:1\" id=\"path38047\" inkscape:connector-curvature=\"0\"/>\n",
       "    </marker>\n",
       "    <marker inkscape:stockid=\"Arrow2Mend\" orient=\"auto\" refY=\"0\" refX=\"0\" id=\"marker37511\" style=\"overflow:visible\" inkscape:isstock=\"true\">\n",
       "      <path id=\"path37509\" style=\"fill:#000000;fill-opacity:1;fill-rule:evenodd;stroke:#000000;stroke-width:0.625;stroke-linejoin:round;stroke-opacity:1\" d=\"M 8.7185878,4.0337352 -2.2072895,0.01601326 8.7185884,-4.0017078 c -1.7454984,2.3720609 -1.7354408,5.6174519 -6e-7,8.035443 z\" transform=\"scale(-0.6)\" inkscape:connector-curvature=\"0\"/>\n",
       "    </marker>\n",
       "    <marker inkscape:stockid=\"Arrow2Mend\" orient=\"auto\" refY=\"0\" refX=\"0\" id=\"marker36985\" style=\"overflow:visible\" inkscape:isstock=\"true\">\n",
       "      <path id=\"path36983\" style=\"fill:#000000;fill-opacity:1;fill-rule:evenodd;stroke:#000000;stroke-width:0.625;stroke-linejoin:round;stroke-opacity:1\" d=\"M 8.7185878,4.0337352 -2.2072895,0.01601326 8.7185884,-4.0017078 c -1.7454984,2.3720609 -1.7354408,5.6174519 -6e-7,8.035443 z\" transform=\"scale(-0.6)\" inkscape:connector-curvature=\"0\"/>\n",
       "    </marker>\n",
       "    <marker inkscape:isstock=\"true\" style=\"overflow:visible\" id=\"marker36402\" refX=\"0\" refY=\"0\" orient=\"auto\" inkscape:stockid=\"Arrow2Mend\">\n",
       "      <path transform=\"scale(-0.6)\" d=\"M 8.7185878,4.0337352 -2.2072895,0.01601326 8.7185884,-4.0017078 c -1.7454984,2.3720609 -1.7354408,5.6174519 -6e-7,8.035443 z\" style=\"fill:#000000;fill-opacity:1;fill-rule:evenodd;stroke:#000000;stroke-width:0.625;stroke-linejoin:round;stroke-opacity:1\" id=\"path36400\" inkscape:connector-curvature=\"0\"/>\n",
       "    </marker>\n",
       "    <marker inkscape:isstock=\"true\" style=\"overflow:visible\" id=\"marker35811\" refX=\"0\" refY=\"0\" orient=\"auto\" inkscape:stockid=\"Arrow2Mend\">\n",
       "      <path transform=\"scale(-0.6)\" d=\"M 8.7185878,4.0337352 -2.2072895,0.01601326 8.7185884,-4.0017078 c -1.7454984,2.3720609 -1.7354408,5.6174519 -6e-7,8.035443 z\" style=\"fill:#000000;fill-opacity:1;fill-rule:evenodd;stroke:#000000;stroke-width:0.625;stroke-linejoin:round;stroke-opacity:1\" id=\"path35809\" inkscape:connector-curvature=\"0\"/>\n",
       "    </marker>\n",
       "    <marker inkscape:isstock=\"true\" style=\"overflow:visible\" id=\"marker34806\" refX=\"0\" refY=\"0\" orient=\"auto\" inkscape:stockid=\"Arrow2Mend\">\n",
       "      <path transform=\"scale(-0.6)\" d=\"M 8.7185878,4.0337352 -2.2072895,0.01601326 8.7185884,-4.0017078 c -1.7454984,2.3720609 -1.7354408,5.6174519 -6e-7,8.035443 z\" style=\"fill:#000000;fill-opacity:1;fill-rule:evenodd;stroke:#000000;stroke-width:0.625;stroke-linejoin:round;stroke-opacity:1\" id=\"path34804\" inkscape:connector-curvature=\"0\"/>\n",
       "    </marker>\n",
       "    <marker inkscape:stockid=\"Arrow2Mend\" orient=\"auto\" refY=\"0\" refX=\"0\" id=\"marker32890\" style=\"overflow:visible\" inkscape:isstock=\"true\">\n",
       "      <path id=\"path32888\" style=\"fill:#000000;fill-opacity:1;fill-rule:evenodd;stroke:#000000;stroke-width:0.625;stroke-linejoin:round;stroke-opacity:1\" d=\"M 8.7185878,4.0337352 -2.2072895,0.01601326 8.7185884,-4.0017078 c -1.7454984,2.3720609 -1.7354408,5.6174519 -6e-7,8.035443 z\" transform=\"scale(-0.6)\" inkscape:connector-curvature=\"0\"/>\n",
       "    </marker>\n",
       "    <marker inkscape:isstock=\"true\" style=\"overflow:visible\" id=\"marker31906\" refX=\"0\" refY=\"0\" orient=\"auto\" inkscape:stockid=\"Arrow2Mend\">\n",
       "      <path transform=\"scale(-0.6)\" d=\"M 8.7185878,4.0337352 -2.2072895,0.01601326 8.7185884,-4.0017078 c -1.7454984,2.3720609 -1.7354408,5.6174519 -6e-7,8.035443 z\" style=\"fill:#000000;fill-opacity:1;fill-rule:evenodd;stroke:#000000;stroke-width:0.625;stroke-linejoin:round;stroke-opacity:1\" id=\"path31904\" inkscape:connector-curvature=\"0\"/>\n",
       "    </marker>\n",
       "    <marker inkscape:isstock=\"true\" style=\"overflow:visible\" id=\"marker31040\" refX=\"0\" refY=\"0\" orient=\"auto\" inkscape:stockid=\"Arrow2Mend\">\n",
       "      <path transform=\"scale(-0.6)\" d=\"M 8.7185878,4.0337352 -2.2072895,0.01601326 8.7185884,-4.0017078 c -1.7454984,2.3720609 -1.7354408,5.6174519 -6e-7,8.035443 z\" style=\"fill:#000000;fill-opacity:1;fill-rule:evenodd;stroke:#000000;stroke-width:0.625;stroke-linejoin:round;stroke-opacity:1\" id=\"path31038\" inkscape:connector-curvature=\"0\"/>\n",
       "    </marker>\n",
       "    <marker inkscape:stockid=\"Arrow2Mend\" orient=\"auto\" refY=\"0\" refX=\"0\" id=\"marker30431\" style=\"overflow:visible\" inkscape:isstock=\"true\" inkscape:collect=\"always\">\n",
       "      <path id=\"path30429\" style=\"fill:#000000;fill-opacity:1;fill-rule:evenodd;stroke:#000000;stroke-width:0.625;stroke-linejoin:round;stroke-opacity:1\" d=\"M 8.7185878,4.0337352 -2.2072895,0.01601326 8.7185884,-4.0017078 c -1.7454984,2.3720609 -1.7354408,5.6174519 -6e-7,8.035443 z\" transform=\"scale(-0.6)\" inkscape:connector-curvature=\"0\"/>\n",
       "    </marker>\n",
       "    <marker inkscape:stockid=\"Arrow2Mend\" orient=\"auto\" refY=\"0\" refX=\"0\" id=\"marker29957\" style=\"overflow:visible\" inkscape:isstock=\"true\">\n",
       "      <path id=\"path29955\" style=\"fill:#000000;fill-opacity:1;fill-rule:evenodd;stroke:#000000;stroke-width:0.625;stroke-linejoin:round;stroke-opacity:1\" d=\"M 8.7185878,4.0337352 -2.2072895,0.01601326 8.7185884,-4.0017078 c -1.7454984,2.3720609 -1.7354408,5.6174519 -6e-7,8.035443 z\" transform=\"scale(-0.6)\" inkscape:connector-curvature=\"0\"/>\n",
       "    </marker>\n",
       "    <marker inkscape:isstock=\"true\" style=\"overflow:visible\" id=\"marker29475\" refX=\"0\" refY=\"0\" orient=\"auto\" inkscape:stockid=\"Arrow2Mend\">\n",
       "      <path transform=\"scale(-0.6)\" d=\"M 8.7185878,4.0337352 -2.2072895,0.01601326 8.7185884,-4.0017078 c -1.7454984,2.3720609 -1.7354408,5.6174519 -6e-7,8.035443 z\" style=\"fill:#000000;fill-opacity:1;fill-rule:evenodd;stroke:#000000;stroke-width:0.625;stroke-linejoin:round;stroke-opacity:1\" id=\"path29473\" inkscape:connector-curvature=\"0\"/>\n",
       "    </marker>\n",
       "    <marker inkscape:stockid=\"Arrow2Mend\" orient=\"auto\" refY=\"0\" refX=\"0\" id=\"marker28405\" style=\"overflow:visible\" inkscape:isstock=\"true\">\n",
       "      <path id=\"path28403\" style=\"fill:#000000;fill-opacity:1;fill-rule:evenodd;stroke:#000000;stroke-width:0.625;stroke-linejoin:round;stroke-opacity:1\" d=\"M 8.7185878,4.0337352 -2.2072895,0.01601326 8.7185884,-4.0017078 c -1.7454984,2.3720609 -1.7354408,5.6174519 -6e-7,8.035443 z\" transform=\"scale(-0.6)\" inkscape:connector-curvature=\"0\"/>\n",
       "    </marker>\n",
       "    <marker inkscape:stockid=\"Arrow2Mend\" orient=\"auto\" refY=\"0\" refX=\"0\" id=\"marker27355\" style=\"overflow:visible\" inkscape:isstock=\"true\">\n",
       "      <path id=\"path27353\" style=\"fill:#000000;fill-opacity:1;fill-rule:evenodd;stroke:#000000;stroke-width:0.625;stroke-linejoin:round;stroke-opacity:1\" d=\"M 8.7185878,4.0337352 -2.2072895,0.01601326 8.7185884,-4.0017078 c -1.7454984,2.3720609 -1.7354408,5.6174519 -6e-7,8.035443 z\" transform=\"scale(-0.6)\" inkscape:connector-curvature=\"0\"/>\n",
       "    </marker>\n",
       "    <marker inkscape:isstock=\"true\" style=\"overflow:visible\" id=\"marker26833\" refX=\"0\" refY=\"0\" orient=\"auto\" inkscape:stockid=\"Arrow2Mend\" inkscape:collect=\"always\">\n",
       "      <path transform=\"scale(-0.6)\" d=\"M 8.7185878,4.0337352 -2.2072895,0.01601326 8.7185884,-4.0017078 c -1.7454984,2.3720609 -1.7354408,5.6174519 -6e-7,8.035443 z\" style=\"fill:#000000;fill-opacity:1;fill-rule:evenodd;stroke:#000000;stroke-width:0.625;stroke-linejoin:round;stroke-opacity:1\" id=\"path26831\" inkscape:connector-curvature=\"0\"/>\n",
       "    </marker>\n",
       "    <marker inkscape:isstock=\"true\" style=\"overflow:visible\" id=\"marker25787\" refX=\"0\" refY=\"0\" orient=\"auto\" inkscape:stockid=\"Arrow2Mend\" inkscape:collect=\"always\">\n",
       "      <path transform=\"scale(-0.6)\" d=\"M 8.7185878,4.0337352 -2.2072895,0.01601326 8.7185884,-4.0017078 c -1.7454984,2.3720609 -1.7354408,5.6174519 -6e-7,8.035443 z\" style=\"fill:#000000;fill-opacity:1;fill-rule:evenodd;stroke:#000000;stroke-width:0.625;stroke-linejoin:round;stroke-opacity:1\" id=\"path25785\" inkscape:connector-curvature=\"0\"/>\n",
       "    </marker>\n",
       "    <marker inkscape:isstock=\"true\" style=\"overflow:visible\" id=\"marker24599\" refX=\"0\" refY=\"0\" orient=\"auto\" inkscape:stockid=\"Arrow2Mend\" inkscape:collect=\"always\">\n",
       "      <path transform=\"scale(-0.6)\" d=\"M 8.7185878,4.0337352 -2.2072895,0.01601326 8.7185884,-4.0017078 c -1.7454984,2.3720609 -1.7354408,5.6174519 -6e-7,8.035443 z\" style=\"fill:#000000;fill-opacity:1;fill-rule:evenodd;stroke:#000000;stroke-width:0.625;stroke-linejoin:round;stroke-opacity:1\" id=\"path24597\" inkscape:connector-curvature=\"0\"/>\n",
       "    </marker>\n",
       "    <marker inkscape:stockid=\"Arrow2Mend\" orient=\"auto\" refY=\"0\" refX=\"0\" id=\"marker23143\" style=\"overflow:visible\" inkscape:isstock=\"true\">\n",
       "      <path id=\"path23141\" style=\"fill:#808080;fill-opacity:1;fill-rule:evenodd;stroke:#808080;stroke-width:0.625;stroke-linejoin:round;stroke-opacity:1\" d=\"M 8.7185878,4.0337352 -2.2072895,0.01601326 8.7185884,-4.0017078 c -1.7454984,2.3720609 -1.7354408,5.6174519 -6e-7,8.035443 z\" transform=\"scale(-0.6)\" inkscape:connector-curvature=\"0\"/>\n",
       "    </marker>\n",
       "    <marker inkscape:stockid=\"Arrow2Mend\" orient=\"auto\" refY=\"0\" refX=\"0\" id=\"marker22234\" style=\"overflow:visible\" inkscape:isstock=\"true\">\n",
       "      <path id=\"path22232\" style=\"fill:#000000;fill-opacity:1;fill-rule:evenodd;stroke:#000000;stroke-width:0.625;stroke-linejoin:round;stroke-opacity:1\" d=\"M 8.7185878,4.0337352 -2.2072895,0.01601326 8.7185884,-4.0017078 c -1.7454984,2.3720609 -1.7354408,5.6174519 -6e-7,8.035443 z\" transform=\"scale(-0.6)\" inkscape:connector-curvature=\"0\"/>\n",
       "    </marker>\n",
       "    <marker inkscape:stockid=\"Arrow2Mend\" orient=\"auto\" refY=\"0\" refX=\"0\" id=\"marker21457\" style=\"overflow:visible\" inkscape:isstock=\"true\">\n",
       "      <path id=\"path21455\" style=\"fill:#000000;fill-opacity:1;fill-rule:evenodd;stroke:#000000;stroke-width:0.625;stroke-linejoin:round;stroke-opacity:1\" d=\"M 8.7185878,4.0337352 -2.2072895,0.01601326 8.7185884,-4.0017078 c -1.7454984,2.3720609 -1.7354408,5.6174519 -6e-7,8.035443 z\" transform=\"scale(-0.6)\" inkscape:connector-curvature=\"0\"/>\n",
       "    </marker>\n",
       "    <marker inkscape:stockid=\"Arrow2Mend\" orient=\"auto\" refY=\"0\" refX=\"0\" id=\"marker20710\" style=\"overflow:visible\" inkscape:isstock=\"true\">\n",
       "      <path id=\"path20708\" style=\"fill:#000000;fill-opacity:1;fill-rule:evenodd;stroke:#000000;stroke-width:0.625;stroke-linejoin:round;stroke-opacity:1\" d=\"M 8.7185878,4.0337352 -2.2072895,0.01601326 8.7185884,-4.0017078 c -1.7454984,2.3720609 -1.7354408,5.6174519 -6e-7,8.035443 z\" transform=\"scale(-0.6)\" inkscape:connector-curvature=\"0\"/>\n",
       "    </marker>\n",
       "    <marker inkscape:stockid=\"Arrow2Mend\" orient=\"auto\" refY=\"0\" refX=\"0\" id=\"marker19459\" style=\"overflow:visible\" inkscape:isstock=\"true\">\n",
       "      <path id=\"path19457\" style=\"fill:#000000;fill-opacity:1;fill-rule:evenodd;stroke:#000000;stroke-width:0.625;stroke-linejoin:round;stroke-opacity:1\" d=\"M 8.7185878,4.0337352 -2.2072895,0.01601326 8.7185884,-4.0017078 c -1.7454984,2.3720609 -1.7354408,5.6174519 -6e-7,8.035443 z\" transform=\"scale(-0.6)\" inkscape:connector-curvature=\"0\"/>\n",
       "    </marker>\n",
       "    <marker inkscape:stockid=\"Arrow2Mend\" orient=\"auto\" refY=\"0\" refX=\"0\" id=\"marker19097\" style=\"overflow:visible\" inkscape:isstock=\"true\" inkscape:collect=\"always\">\n",
       "      <path id=\"path19095\" style=\"fill:#000000;fill-opacity:1;fill-rule:evenodd;stroke:#000000;stroke-width:0.625;stroke-linejoin:round;stroke-opacity:1\" d=\"M 8.7185878,4.0337352 -2.2072895,0.01601326 8.7185884,-4.0017078 c -1.7454984,2.3720609 -1.7354408,5.6174519 -6e-7,8.035443 z\" transform=\"scale(-0.6)\" inkscape:connector-curvature=\"0\"/>\n",
       "    </marker>\n",
       "    <marker inkscape:isstock=\"true\" style=\"overflow:visible\" id=\"marker18463\" refX=\"0\" refY=\"0\" orient=\"auto\" inkscape:stockid=\"Arrow2Mend\" inkscape:collect=\"always\">\n",
       "      <path transform=\"scale(-0.6)\" d=\"M 8.7185878,4.0337352 -2.2072895,0.01601326 8.7185884,-4.0017078 c -1.7454984,2.3720609 -1.7354408,5.6174519 -6e-7,8.035443 z\" style=\"fill:#000000;fill-opacity:1;fill-rule:evenodd;stroke:#000000;stroke-width:0.625;stroke-linejoin:round;stroke-opacity:1\" id=\"path18461\" inkscape:connector-curvature=\"0\"/>\n",
       "    </marker>\n",
       "    <marker inkscape:isstock=\"true\" style=\"overflow:visible\" id=\"marker18077\" refX=\"0\" refY=\"0\" orient=\"auto\" inkscape:stockid=\"Arrow2Mend\" inkscape:collect=\"always\">\n",
       "      <path transform=\"scale(-0.6)\" d=\"M 8.7185878,4.0337352 -2.2072895,0.01601326 8.7185884,-4.0017078 c -1.7454984,2.3720609 -1.7354408,5.6174519 -6e-7,8.035443 z\" style=\"fill:#000000;fill-opacity:1;fill-rule:evenodd;stroke:#000000;stroke-width:0.625;stroke-linejoin:round;stroke-opacity:1\" id=\"path18075\" inkscape:connector-curvature=\"0\"/>\n",
       "    </marker>\n",
       "    <marker inkscape:stockid=\"Arrow2Mend\" orient=\"auto\" refY=\"0\" refX=\"0\" id=\"marker17717\" style=\"overflow:visible\" inkscape:isstock=\"true\" inkscape:collect=\"always\">\n",
       "      <path id=\"path17715\" style=\"fill:#000000;fill-opacity:1;fill-rule:evenodd;stroke:#000000;stroke-width:0.625;stroke-linejoin:round;stroke-opacity:1\" d=\"M 8.7185878,4.0337352 -2.2072895,0.01601326 8.7185884,-4.0017078 c -1.7454984,2.3720609 -1.7354408,5.6174519 -6e-7,8.035443 z\" transform=\"scale(-0.6)\" inkscape:connector-curvature=\"0\"/>\n",
       "    </marker>\n",
       "    <marker inkscape:isstock=\"true\" style=\"overflow:visible\" id=\"marker16771\" refX=\"0\" refY=\"0\" orient=\"auto\" inkscape:stockid=\"Arrow2Mend\">\n",
       "      <path transform=\"scale(-0.6)\" d=\"M 8.7185878,4.0337352 -2.2072895,0.01601326 8.7185884,-4.0017078 c -1.7454984,2.3720609 -1.7354408,5.6174519 -6e-7,8.035443 z\" style=\"fill:#000000;fill-opacity:1;fill-rule:evenodd;stroke:#000000;stroke-width:0.625;stroke-linejoin:round;stroke-opacity:1\" id=\"path16769\" inkscape:connector-curvature=\"0\"/>\n",
       "    </marker>\n",
       "    <marker inkscape:stockid=\"Arrow2Mend\" orient=\"auto\" refY=\"0\" refX=\"0\" id=\"marker16097\" style=\"overflow:visible\" inkscape:isstock=\"true\">\n",
       "      <path id=\"path16095\" style=\"fill:#000000;fill-opacity:1;fill-rule:evenodd;stroke:#000000;stroke-width:0.625;stroke-linejoin:round;stroke-opacity:1\" d=\"M 8.7185878,4.0337352 -2.2072895,0.01601326 8.7185884,-4.0017078 c -1.7454984,2.3720609 -1.7354408,5.6174519 -6e-7,8.035443 z\" transform=\"scale(-0.6)\" inkscape:connector-curvature=\"0\"/>\n",
       "    </marker>\n",
       "    <marker inkscape:stockid=\"Arrow2Mend\" orient=\"auto\" refY=\"0\" refX=\"0\" id=\"marker15757\" style=\"overflow:visible\" inkscape:isstock=\"true\">\n",
       "      <path id=\"path15755\" style=\"fill:#000000;fill-opacity:1;fill-rule:evenodd;stroke:#000000;stroke-width:0.625;stroke-linejoin:round;stroke-opacity:1\" d=\"M 8.7185878,4.0337352 -2.2072895,0.01601326 8.7185884,-4.0017078 c -1.7454984,2.3720609 -1.7354408,5.6174519 -6e-7,8.035443 z\" transform=\"scale(-0.6)\" inkscape:connector-curvature=\"0\"/>\n",
       "    </marker>\n",
       "    <marker inkscape:isstock=\"true\" style=\"overflow:visible\" id=\"marker12132\" refX=\"0\" refY=\"0\" orient=\"auto\" inkscape:stockid=\"Arrow2Mend\" inkscape:collect=\"always\">\n",
       "      <path transform=\"scale(-0.6)\" d=\"M 8.7185878,4.0337352 -2.2072895,0.01601326 8.7185884,-4.0017078 c -1.7454984,2.3720609 -1.7354408,5.6174519 -6e-7,8.035443 z\" style=\"fill:#000000;fill-opacity:1;fill-rule:evenodd;stroke:#000000;stroke-width:0.625;stroke-linejoin:round;stroke-opacity:1\" id=\"path12130\" inkscape:connector-curvature=\"0\"/>\n",
       "    </marker>\n",
       "    <marker inkscape:stockid=\"Arrow2Mend\" orient=\"auto\" refY=\"0\" refX=\"0\" id=\"marker11197\" style=\"overflow:visible\" inkscape:isstock=\"true\">\n",
       "      <path id=\"path11195\" style=\"fill:#000000;fill-opacity:1;fill-rule:evenodd;stroke:#000000;stroke-width:0.625;stroke-linejoin:round;stroke-opacity:1\" d=\"M 8.7185878,4.0337352 -2.2072895,0.01601326 8.7185884,-4.0017078 c -1.7454984,2.3720609 -1.7354408,5.6174519 -6e-7,8.035443 z\" transform=\"scale(-0.6)\" inkscape:connector-curvature=\"0\"/>\n",
       "    </marker>\n",
       "    <marker inkscape:stockid=\"Arrow2Mend\" orient=\"auto\" refY=\"0\" refX=\"0\" id=\"marker10628\" style=\"overflow:visible\" inkscape:isstock=\"true\">\n",
       "      <path id=\"path10626\" style=\"fill:#000000;fill-opacity:1;fill-rule:evenodd;stroke:#000000;stroke-width:0.625;stroke-linejoin:round;stroke-opacity:1\" d=\"M 8.7185878,4.0337352 -2.2072895,0.01601326 8.7185884,-4.0017078 c -1.7454984,2.3720609 -1.7354408,5.6174519 -6e-7,8.035443 z\" transform=\"scale(-0.6)\" inkscape:connector-curvature=\"0\"/>\n",
       "    </marker>\n",
       "    <marker inkscape:stockid=\"Arrow2Mend\" orient=\"auto\" refY=\"0\" refX=\"0\" id=\"marker10151\" style=\"overflow:visible\" inkscape:isstock=\"true\" inkscape:collect=\"always\">\n",
       "      <path id=\"path10149\" style=\"fill:#000000;fill-opacity:1;fill-rule:evenodd;stroke:#000000;stroke-width:0.625;stroke-linejoin:round;stroke-opacity:1\" d=\"M 8.7185878,4.0337352 -2.2072895,0.01601326 8.7185884,-4.0017078 c -1.7454984,2.3720609 -1.7354408,5.6174519 -6e-7,8.035443 z\" transform=\"scale(-0.6)\" inkscape:connector-curvature=\"0\"/>\n",
       "    </marker>\n",
       "    <marker inkscape:stockid=\"Arrow2Mend\" orient=\"auto\" refY=\"0\" refX=\"0\" id=\"marker9488\" style=\"overflow:visible\" inkscape:isstock=\"true\">\n",
       "      <path id=\"path9486\" style=\"fill:#000000;fill-opacity:1;fill-rule:evenodd;stroke:#000000;stroke-width:0.625;stroke-linejoin:round;stroke-opacity:1\" d=\"M 8.7185878,4.0337352 -2.2072895,0.01601326 8.7185884,-4.0017078 c -1.7454984,2.3720609 -1.7354408,5.6174519 -6e-7,8.035443 z\" transform=\"scale(-0.6)\" inkscape:connector-curvature=\"0\"/>\n",
       "    </marker>\n",
       "    <marker inkscape:stockid=\"Arrow2Mend\" orient=\"auto\" refY=\"0\" refX=\"0\" id=\"marker8642\" style=\"overflow:visible\" inkscape:isstock=\"true\">\n",
       "      <path id=\"path8640\" style=\"fill:#000000;fill-opacity:1;fill-rule:evenodd;stroke:#000000;stroke-width:0.625;stroke-linejoin:round;stroke-opacity:1\" d=\"M 8.7185878,4.0337352 -2.2072895,0.01601326 8.7185884,-4.0017078 c -1.7454984,2.3720609 -1.7354408,5.6174519 -6e-7,8.035443 z\" transform=\"scale(-0.6)\" inkscape:connector-curvature=\"0\"/>\n",
       "    </marker>\n",
       "    <marker inkscape:stockid=\"Arrow2Mend\" orient=\"auto\" refY=\"0\" refX=\"0\" id=\"marker8261\" style=\"overflow:visible\" inkscape:isstock=\"true\">\n",
       "      <path id=\"path8259\" style=\"fill:#000000;fill-opacity:1;fill-rule:evenodd;stroke:#000000;stroke-width:0.625;stroke-linejoin:round;stroke-opacity:1\" d=\"M 8.7185878,4.0337352 -2.2072895,0.01601326 8.7185884,-4.0017078 c -1.7454984,2.3720609 -1.7354408,5.6174519 -6e-7,8.035443 z\" transform=\"scale(-0.6)\" inkscape:connector-curvature=\"0\"/>\n",
       "    </marker>\n",
       "    <marker inkscape:stockid=\"Arrow2Mend\" orient=\"auto\" refY=\"0\" refX=\"0\" id=\"marker7904\" style=\"overflow:visible\" inkscape:isstock=\"true\" inkscape:collect=\"always\">\n",
       "      <path id=\"path7902\" style=\"fill:#000000;fill-opacity:1;fill-rule:evenodd;stroke:#000000;stroke-width:0.625;stroke-linejoin:round;stroke-opacity:1\" d=\"M 8.7185878,4.0337352 -2.2072895,0.01601326 8.7185884,-4.0017078 c -1.7454984,2.3720609 -1.7354408,5.6174519 -6e-7,8.035443 z\" transform=\"scale(-0.6)\" inkscape:connector-curvature=\"0\"/>\n",
       "    </marker>\n",
       "    <marker inkscape:isstock=\"true\" style=\"overflow:visible\" id=\"marker6911\" refX=\"0\" refY=\"0\" orient=\"auto\" inkscape:stockid=\"Arrow2Mend\">\n",
       "      <path transform=\"scale(-0.6)\" d=\"M 8.7185878,4.0337352 -2.2072895,0.01601326 8.7185884,-4.0017078 c -1.7454984,2.3720609 -1.7354408,5.6174519 -6e-7,8.035443 z\" style=\"fill:#000000;fill-opacity:1;fill-rule:evenodd;stroke:#000000;stroke-width:0.625;stroke-linejoin:round;stroke-opacity:1\" id=\"path6909\" inkscape:connector-curvature=\"0\"/>\n",
       "    </marker>\n",
       "    <marker inkscape:stockid=\"Arrow2Mend\" orient=\"auto\" refY=\"0\" refX=\"0\" id=\"marker6735\" style=\"overflow:visible\" inkscape:isstock=\"true\">\n",
       "      <path id=\"path6733\" style=\"fill:#000000;fill-opacity:1;fill-rule:evenodd;stroke:#000000;stroke-width:0.625;stroke-linejoin:round;stroke-opacity:1\" d=\"M 8.7185878,4.0337352 -2.2072895,0.01601326 8.7185884,-4.0017078 c -1.7454984,2.3720609 -1.7354408,5.6174519 -6e-7,8.035443 z\" transform=\"scale(-0.6)\" inkscape:connector-curvature=\"0\"/>\n",
       "    </marker>\n",
       "    <marker inkscape:stockid=\"Arrow2Mend\" orient=\"auto\" refY=\"0\" refX=\"0\" id=\"marker6384\" style=\"overflow:visible\" inkscape:isstock=\"true\">\n",
       "      <path id=\"path6382\" style=\"fill:#000000;fill-opacity:1;fill-rule:evenodd;stroke:#000000;stroke-width:0.625;stroke-linejoin:round;stroke-opacity:1\" d=\"M 8.7185878,4.0337352 -2.2072895,0.01601326 8.7185884,-4.0017078 c -1.7454984,2.3720609 -1.7354408,5.6174519 -6e-7,8.035443 z\" transform=\"scale(-0.6)\" inkscape:connector-curvature=\"0\"/>\n",
       "    </marker>\n",
       "    <marker inkscape:isstock=\"true\" style=\"overflow:visible\" id=\"marker6234\" refX=\"0\" refY=\"0\" orient=\"auto\" inkscape:stockid=\"Arrow2Mend\" inkscape:collect=\"always\">\n",
       "      <path transform=\"scale(-0.6)\" d=\"M 8.7185878,4.0337352 -2.2072895,0.01601326 8.7185884,-4.0017078 c -1.7454984,2.3720609 -1.7354408,5.6174519 -6e-7,8.035443 z\" style=\"fill:#000000;fill-opacity:1;fill-rule:evenodd;stroke:#000000;stroke-width:0.625;stroke-linejoin:round;stroke-opacity:1\" id=\"path6232\" inkscape:connector-curvature=\"0\"/>\n",
       "    </marker>\n",
       "    <marker inkscape:stockid=\"Arrow2Mend\" orient=\"auto\" refY=\"0\" refX=\"0\" id=\"marker5739\" style=\"overflow:visible\" inkscape:isstock=\"true\" inkscape:collect=\"always\">\n",
       "      <path id=\"path5737\" style=\"fill:#000000;fill-opacity:1;fill-rule:evenodd;stroke:#000000;stroke-width:0.625;stroke-linejoin:round;stroke-opacity:1\" d=\"M 8.7185878,4.0337352 -2.2072895,0.01601326 8.7185884,-4.0017078 c -1.7454984,2.3720609 -1.7354408,5.6174519 -6e-7,8.035443 z\" transform=\"scale(-0.6)\" inkscape:connector-curvature=\"0\"/>\n",
       "    </marker>\n",
       "    <marker inkscape:stockid=\"Arrow2Mend\" orient=\"auto\" refY=\"0\" refX=\"0\" id=\"marker5514\" style=\"overflow:visible\" inkscape:isstock=\"true\" inkscape:collect=\"always\">\n",
       "      <path id=\"path5512\" style=\"fill:#000000;fill-opacity:1;fill-rule:evenodd;stroke:#000000;stroke-width:0.625;stroke-linejoin:round;stroke-opacity:1\" d=\"M 8.7185878,4.0337352 -2.2072895,0.01601326 8.7185884,-4.0017078 c -1.7454984,2.3720609 -1.7354408,5.6174519 -6e-7,8.035443 z\" transform=\"scale(-0.6)\" inkscape:connector-curvature=\"0\"/>\n",
       "    </marker>\n",
       "    <marker inkscape:stockid=\"Arrow2Mend\" orient=\"auto\" refY=\"0\" refX=\"0\" id=\"marker5313\" style=\"overflow:visible\" inkscape:isstock=\"true\">\n",
       "      <path id=\"path5311\" style=\"fill:#000000;fill-opacity:1;fill-rule:evenodd;stroke:#000000;stroke-width:0.625;stroke-linejoin:round;stroke-opacity:1\" d=\"M 8.7185878,4.0337352 -2.2072895,0.01601326 8.7185884,-4.0017078 c -1.7454984,2.3720609 -1.7354408,5.6174519 -6e-7,8.035443 z\" transform=\"scale(-0.6)\" inkscape:connector-curvature=\"0\"/>\n",
       "    </marker>\n",
       "    <marker inkscape:stockid=\"Arrow2Mend\" orient=\"auto\" refY=\"0\" refX=\"0\" id=\"marker4728\" style=\"overflow:visible\" inkscape:isstock=\"true\">\n",
       "      <path id=\"path4726\" style=\"fill:#000000;fill-opacity:1;fill-rule:evenodd;stroke:#000000;stroke-width:0.625;stroke-linejoin:round;stroke-opacity:1\" d=\"M 8.7185878,4.0337352 -2.2072895,0.01601326 8.7185884,-4.0017078 c -1.7454984,2.3720609 -1.7354408,5.6174519 -6e-7,8.035443 z\" transform=\"scale(-0.6)\" inkscape:connector-curvature=\"0\"/>\n",
       "    </marker>\n",
       "    <marker inkscape:stockid=\"Arrow2Mend\" orient=\"auto\" refY=\"0\" refX=\"0\" id=\"marker4011\" style=\"overflow:visible\" inkscape:isstock=\"true\">\n",
       "      <path id=\"path4009\" style=\"fill:#000000;fill-opacity:1;fill-rule:evenodd;stroke:#000000;stroke-width:0.625;stroke-linejoin:round;stroke-opacity:1\" d=\"M 8.7185878,4.0337352 -2.2072895,0.01601326 8.7185884,-4.0017078 c -1.7454984,2.3720609 -1.7354408,5.6174519 -6e-7,8.035443 z\" transform=\"scale(-0.6)\" inkscape:connector-curvature=\"0\"/>\n",
       "    </marker>\n",
       "    <marker inkscape:stockid=\"Arrow2Mend\" orient=\"auto\" refY=\"0\" refX=\"0\" id=\"marker3473\" style=\"overflow:visible\" inkscape:isstock=\"true\">\n",
       "      <path id=\"path3471\" style=\"fill:#000000;fill-opacity:1;fill-rule:evenodd;stroke:#000000;stroke-width:0.625;stroke-linejoin:round;stroke-opacity:1\" d=\"M 8.7185878,4.0337352 -2.2072895,0.01601326 8.7185884,-4.0017078 c -1.7454984,2.3720609 -1.7354408,5.6174519 -6e-7,8.035443 z\" transform=\"scale(-0.6)\" inkscape:connector-curvature=\"0\"/>\n",
       "    </marker>\n",
       "    <marker inkscape:isstock=\"true\" style=\"overflow:visible\" id=\"marker2564\" refX=\"0\" refY=\"0\" orient=\"auto\" inkscape:stockid=\"Arrow2Mend\" inkscape:collect=\"always\">\n",
       "      <path transform=\"scale(-0.6)\" d=\"M 8.7185878,4.0337352 -2.2072895,0.01601326 8.7185884,-4.0017078 c -1.7454984,2.3720609 -1.7354408,5.6174519 -6e-7,8.035443 z\" style=\"fill:#000000;fill-opacity:1;fill-rule:evenodd;stroke:#000000;stroke-width:0.625;stroke-linejoin:round;stroke-opacity:1\" id=\"path2562\" inkscape:connector-curvature=\"0\"/>\n",
       "    </marker>\n",
       "    <marker inkscape:isstock=\"true\" style=\"overflow:visible\" id=\"marker2086\" refX=\"0\" refY=\"0\" orient=\"auto\" inkscape:stockid=\"Arrow2Mend\" inkscape:collect=\"always\">\n",
       "      <path transform=\"scale(-0.6)\" d=\"M 8.7185878,4.0337352 -2.2072895,0.01601326 8.7185884,-4.0017078 c -1.7454984,2.3720609 -1.7354408,5.6174519 -6e-7,8.035443 z\" style=\"fill:#000000;fill-opacity:1;fill-rule:evenodd;stroke:#000000;stroke-width:0.625;stroke-linejoin:round;stroke-opacity:1\" id=\"path2084\" inkscape:connector-curvature=\"0\"/>\n",
       "    </marker>\n",
       "    <marker inkscape:stockid=\"EmptyTriangleOutL\" orient=\"auto\" refY=\"0\" refX=\"0\" id=\"EmptyTriangleOutL\" style=\"overflow:visible\" inkscape:isstock=\"true\">\n",
       "      <path id=\"path1750\" d=\"M 5.77,0 -2.88,5 V -5 Z\" style=\"fill:#ffffff;fill-rule:evenodd;stroke:#000000;stroke-width:1.00000003pt;stroke-opacity:1\" transform=\"matrix(0.8,0,0,0.8,-4.8,0)\" inkscape:connector-curvature=\"0\"/>\n",
       "    </marker>\n",
       "    <marker inkscape:stockid=\"Arrow2Lend\" orient=\"auto\" refY=\"0\" refX=\"0\" id=\"Arrow2Lend\" style=\"overflow:visible\" inkscape:isstock=\"true\">\n",
       "      <path id=\"path1611\" style=\"fill:#000000;fill-opacity:1;fill-rule:evenodd;stroke:#000000;stroke-width:0.625;stroke-linejoin:round;stroke-opacity:1\" d=\"M 8.7185878,4.0337352 -2.2072895,0.01601326 8.7185884,-4.0017078 c -1.7454984,2.3720609 -1.7354408,5.6174519 -6e-7,8.035443 z\" transform=\"matrix(-1.1,0,0,-1.1,-1.1,0)\" inkscape:connector-curvature=\"0\"/>\n",
       "    </marker>\n",
       "    <marker inkscape:stockid=\"Arrow2Mend\" orient=\"auto\" refY=\"0\" refX=\"0\" id=\"Arrow2Mend-1\" style=\"overflow:visible\" inkscape:isstock=\"true\">\n",
       "      <path inkscape:connector-curvature=\"0\" id=\"path1617-9\" style=\"fill:#000000;fill-opacity:1;fill-rule:evenodd;stroke:#000000;stroke-width:0.625;stroke-linejoin:round;stroke-opacity:1\" d=\"M 8.7185878,4.0337352 -2.2072895,0.01601326 8.7185884,-4.0017078 c -1.7454984,2.3720609 -1.7354408,5.6174519 -6e-7,8.035443 z\" transform=\"scale(-0.6)\"/>\n",
       "    </marker>\n",
       "    <marker inkscape:isstock=\"true\" style=\"overflow:visible\" id=\"marker2086-2\" refX=\"0\" refY=\"0\" orient=\"auto\" inkscape:stockid=\"Arrow2Mend\">\n",
       "      <path inkscape:connector-curvature=\"0\" transform=\"scale(-0.6)\" d=\"M 8.7185878,4.0337352 -2.2072895,0.01601326 8.7185884,-4.0017078 c -1.7454984,2.3720609 -1.7354408,5.6174519 -6e-7,8.035443 z\" style=\"fill:#000000;fill-opacity:1;fill-rule:evenodd;stroke:#000000;stroke-width:0.625;stroke-linejoin:round;stroke-opacity:1\" id=\"path2084-5\"/>\n",
       "    </marker>\n",
       "    <marker inkscape:isstock=\"true\" style=\"overflow:visible\" id=\"marker2086-4\" refX=\"0\" refY=\"0\" orient=\"auto\" inkscape:stockid=\"Arrow2Mend\">\n",
       "      <path inkscape:connector-curvature=\"0\" transform=\"scale(-0.6)\" d=\"M 8.7185878,4.0337352 -2.2072895,0.01601326 8.7185884,-4.0017078 c -1.7454984,2.3720609 -1.7354408,5.6174519 -6e-7,8.035443 z\" style=\"fill:#000000;fill-opacity:1;fill-rule:evenodd;stroke:#000000;stroke-width:0.625;stroke-linejoin:round;stroke-opacity:1\" id=\"path2084-9\"/>\n",
       "    </marker>\n",
       "    <marker inkscape:isstock=\"true\" style=\"overflow:visible\" id=\"marker2086-3\" refX=\"0\" refY=\"0\" orient=\"auto\" inkscape:stockid=\"Arrow2Mend\">\n",
       "      <path inkscape:connector-curvature=\"0\" transform=\"scale(-0.6)\" d=\"M 8.7185878,4.0337352 -2.2072895,0.01601326 8.7185884,-4.0017078 c -1.7454984,2.3720609 -1.7354408,5.6174519 -6e-7,8.035443 z\" style=\"fill:#000000;fill-opacity:1;fill-rule:evenodd;stroke:#000000;stroke-width:0.625;stroke-linejoin:round;stroke-opacity:1\" id=\"path2084-6\"/>\n",
       "    </marker>\n",
       "    <marker inkscape:isstock=\"true\" style=\"overflow:visible\" id=\"marker2086-5\" refX=\"0\" refY=\"0\" orient=\"auto\" inkscape:stockid=\"Arrow2Mend\">\n",
       "      <path inkscape:connector-curvature=\"0\" transform=\"scale(-0.6)\" d=\"M 8.7185878,4.0337352 -2.2072895,0.01601326 8.7185884,-4.0017078 c -1.7454984,2.3720609 -1.7354408,5.6174519 -6e-7,8.035443 z\" style=\"fill:#000000;fill-opacity:1;fill-rule:evenodd;stroke:#000000;stroke-width:0.625;stroke-linejoin:round;stroke-opacity:1\" id=\"path2084-0\"/>\n",
       "    </marker>\n",
       "    <marker inkscape:isstock=\"true\" style=\"overflow:visible\" id=\"marker2086-9\" refX=\"0\" refY=\"0\" orient=\"auto\" inkscape:stockid=\"Arrow2Mend\">\n",
       "      <path inkscape:connector-curvature=\"0\" transform=\"scale(-0.6)\" d=\"M 8.7185878,4.0337352 -2.2072895,0.01601326 8.7185884,-4.0017078 c -1.7454984,2.3720609 -1.7354408,5.6174519 -6e-7,8.035443 z\" style=\"fill:#000000;fill-opacity:1;fill-rule:evenodd;stroke:#000000;stroke-width:0.625;stroke-linejoin:round;stroke-opacity:1\" id=\"path2084-4\"/>\n",
       "    </marker>\n",
       "    <marker inkscape:isstock=\"true\" style=\"overflow:visible\" id=\"marker2086-51\" refX=\"0\" refY=\"0\" orient=\"auto\" inkscape:stockid=\"Arrow2Mend\">\n",
       "      <path inkscape:connector-curvature=\"0\" transform=\"scale(-0.6)\" d=\"M 8.7185878,4.0337352 -2.2072895,0.01601326 8.7185884,-4.0017078 c -1.7454984,2.3720609 -1.7354408,5.6174519 -6e-7,8.035443 z\" style=\"fill:#000000;fill-opacity:1;fill-rule:evenodd;stroke:#000000;stroke-width:0.625;stroke-linejoin:round;stroke-opacity:1\" id=\"path2084-7\"/>\n",
       "    </marker>\n",
       "    <marker inkscape:isstock=\"true\" style=\"overflow:visible\" id=\"marker2086-31\" refX=\"0\" refY=\"0\" orient=\"auto\" inkscape:stockid=\"Arrow2Mend\">\n",
       "      <path inkscape:connector-curvature=\"0\" transform=\"scale(-0.6)\" d=\"M 8.7185878,4.0337352 -2.2072895,0.01601326 8.7185884,-4.0017078 c -1.7454984,2.3720609 -1.7354408,5.6174519 -6e-7,8.035443 z\" style=\"fill:#000000;fill-opacity:1;fill-rule:evenodd;stroke:#000000;stroke-width:0.625;stroke-linejoin:round;stroke-opacity:1\" id=\"path2084-46\"/>\n",
       "    </marker>\n",
       "    <marker inkscape:isstock=\"true\" style=\"overflow:visible\" id=\"marker2086-42\" refX=\"0\" refY=\"0\" orient=\"auto\" inkscape:stockid=\"Arrow2Mend\">\n",
       "      <path inkscape:connector-curvature=\"0\" transform=\"scale(-0.6)\" d=\"M 8.7185878,4.0337352 -2.2072895,0.01601326 8.7185884,-4.0017078 c -1.7454984,2.3720609 -1.7354408,5.6174519 -6e-7,8.035443 z\" style=\"fill:#000000;fill-opacity:1;fill-rule:evenodd;stroke:#000000;stroke-width:0.625;stroke-linejoin:round;stroke-opacity:1\" id=\"path2084-2\"/>\n",
       "    </marker>\n",
       "    <marker inkscape:isstock=\"true\" style=\"overflow:visible\" id=\"marker2086-41\" refX=\"0\" refY=\"0\" orient=\"auto\" inkscape:stockid=\"Arrow2Mend\">\n",
       "      <path inkscape:connector-curvature=\"0\" transform=\"scale(-0.6)\" d=\"M 8.7185878,4.0337352 -2.2072895,0.01601326 8.7185884,-4.0017078 c -1.7454984,2.3720609 -1.7354408,5.6174519 -6e-7,8.035443 z\" style=\"fill:#000000;fill-opacity:1;fill-rule:evenodd;stroke:#000000;stroke-width:0.625;stroke-linejoin:round;stroke-opacity:1\" id=\"path2084-28\"/>\n",
       "    </marker>\n",
       "    <marker inkscape:isstock=\"true\" style=\"overflow:visible\" id=\"marker2086-92\" refX=\"0\" refY=\"0\" orient=\"auto\" inkscape:stockid=\"Arrow2Mend\">\n",
       "      <path inkscape:connector-curvature=\"0\" transform=\"scale(-0.6)\" d=\"M 8.7185878,4.0337352 -2.2072895,0.01601326 8.7185884,-4.0017078 c -1.7454984,2.3720609 -1.7354408,5.6174519 -6e-7,8.035443 z\" style=\"fill:#000000;fill-opacity:1;fill-rule:evenodd;stroke:#000000;stroke-width:0.625;stroke-linejoin:round;stroke-opacity:1\" id=\"path2084-8\"/>\n",
       "    </marker>\n",
       "    <marker inkscape:isstock=\"true\" style=\"overflow:visible\" id=\"marker2086-8\" refX=\"0\" refY=\"0\" orient=\"auto\" inkscape:stockid=\"Arrow2Mend\">\n",
       "      <path inkscape:connector-curvature=\"0\" transform=\"scale(-0.6)\" d=\"M 8.7185878,4.0337352 -2.2072895,0.01601326 8.7185884,-4.0017078 c -1.7454984,2.3720609 -1.7354408,5.6174519 -6e-7,8.035443 z\" style=\"fill:#000000;fill-opacity:1;fill-rule:evenodd;stroke:#000000;stroke-width:0.625;stroke-linejoin:round;stroke-opacity:1\" id=\"path2084-68\"/>\n",
       "    </marker>\n",
       "    <marker inkscape:isstock=\"true\" style=\"overflow:visible\" id=\"marker2086-83\" refX=\"0\" refY=\"0\" orient=\"auto\" inkscape:stockid=\"Arrow2Mend\">\n",
       "      <path inkscape:connector-curvature=\"0\" transform=\"scale(-0.6)\" d=\"M 8.7185878,4.0337352 -2.2072895,0.01601326 8.7185884,-4.0017078 c -1.7454984,2.3720609 -1.7354408,5.6174519 -6e-7,8.035443 z\" style=\"fill:#000000;fill-opacity:1;fill-rule:evenodd;stroke:#000000;stroke-width:0.625;stroke-linejoin:round;stroke-opacity:1\" id=\"path2084-3\"/>\n",
       "    </marker>\n",
       "    <marker inkscape:isstock=\"true\" style=\"overflow:visible\" id=\"marker2086-80\" refX=\"0\" refY=\"0\" orient=\"auto\" inkscape:stockid=\"Arrow2Mend\">\n",
       "      <path inkscape:connector-curvature=\"0\" transform=\"scale(-0.6)\" d=\"M 8.7185878,4.0337352 -2.2072895,0.01601326 8.7185884,-4.0017078 c -1.7454984,2.3720609 -1.7354408,5.6174519 -6e-7,8.035443 z\" style=\"fill:#000000;fill-opacity:1;fill-rule:evenodd;stroke:#000000;stroke-width:0.625;stroke-linejoin:round;stroke-opacity:1\" id=\"path2084-47\"/>\n",
       "    </marker>\n",
       "    <marker inkscape:isstock=\"true\" style=\"overflow:visible\" id=\"marker2086-89\" refX=\"0\" refY=\"0\" orient=\"auto\" inkscape:stockid=\"Arrow2Mend\">\n",
       "      <path inkscape:connector-curvature=\"0\" transform=\"scale(-0.6)\" d=\"M 8.7185878,4.0337352 -2.2072895,0.01601326 8.7185884,-4.0017078 c -1.7454984,2.3720609 -1.7354408,5.6174519 -6e-7,8.035443 z\" style=\"fill:#000000;fill-opacity:1;fill-rule:evenodd;stroke:#000000;stroke-width:0.625;stroke-linejoin:round;stroke-opacity:1\" id=\"path2084-06\"/>\n",
       "    </marker>\n",
       "    <marker inkscape:isstock=\"true\" style=\"overflow:visible\" id=\"marker2086-7\" refX=\"0\" refY=\"0\" orient=\"auto\" inkscape:stockid=\"Arrow2Mend\">\n",
       "      <path inkscape:connector-curvature=\"0\" transform=\"scale(-0.6)\" d=\"M 8.7185878,4.0337352 -2.2072895,0.01601326 8.7185884,-4.0017078 c -1.7454984,2.3720609 -1.7354408,5.6174519 -6e-7,8.035443 z\" style=\"fill:#000000;fill-opacity:1;fill-rule:evenodd;stroke:#000000;stroke-width:0.625;stroke-linejoin:round;stroke-opacity:1\" id=\"path2084-90\"/>\n",
       "    </marker>\n",
       "    <marker inkscape:isstock=\"true\" style=\"overflow:visible\" id=\"marker2086-33\" refX=\"0\" refY=\"0\" orient=\"auto\" inkscape:stockid=\"Arrow2Mend\">\n",
       "      <path inkscape:connector-curvature=\"0\" transform=\"scale(-0.6)\" d=\"M 8.7185878,4.0337352 -2.2072895,0.01601326 8.7185884,-4.0017078 c -1.7454984,2.3720609 -1.7354408,5.6174519 -6e-7,8.035443 z\" style=\"fill:#000000;fill-opacity:1;fill-rule:evenodd;stroke:#000000;stroke-width:0.625;stroke-linejoin:round;stroke-opacity:1\" id=\"path2084-73\"/>\n",
       "    </marker>\n",
       "    <marker inkscape:isstock=\"true\" style=\"overflow:visible\" id=\"marker2086-6\" refX=\"0\" refY=\"0\" orient=\"auto\" inkscape:stockid=\"Arrow2Mend\">\n",
       "      <path inkscape:connector-curvature=\"0\" transform=\"scale(-0.6)\" d=\"M 8.7185878,4.0337352 -2.2072895,0.01601326 8.7185884,-4.0017078 c -1.7454984,2.3720609 -1.7354408,5.6174519 -6e-7,8.035443 z\" style=\"fill:#000000;fill-opacity:1;fill-rule:evenodd;stroke:#000000;stroke-width:0.625;stroke-linejoin:round;stroke-opacity:1\" id=\"path2084-52\"/>\n",
       "    </marker>\n",
       "    <marker inkscape:isstock=\"true\" style=\"overflow:visible\" id=\"marker2086-58\" refX=\"0\" refY=\"0\" orient=\"auto\" inkscape:stockid=\"Arrow2Mend\">\n",
       "      <path inkscape:connector-curvature=\"0\" transform=\"scale(-0.6)\" d=\"M 8.7185878,4.0337352 -2.2072895,0.01601326 8.7185884,-4.0017078 c -1.7454984,2.3720609 -1.7354408,5.6174519 -6e-7,8.035443 z\" style=\"fill:#000000;fill-opacity:1;fill-rule:evenodd;stroke:#000000;stroke-width:0.625;stroke-linejoin:round;stroke-opacity:1\" id=\"path2084-79\"/>\n",
       "    </marker>\n",
       "    <marker inkscape:isstock=\"true\" style=\"overflow:visible\" id=\"marker2086-0\" refX=\"0\" refY=\"0\" orient=\"auto\" inkscape:stockid=\"Arrow2Mend\">\n",
       "      <path inkscape:connector-curvature=\"0\" transform=\"scale(-0.6)\" d=\"M 8.7185878,4.0337352 -2.2072895,0.01601326 8.7185884,-4.0017078 c -1.7454984,2.3720609 -1.7354408,5.6174519 -6e-7,8.035443 z\" style=\"fill:#000000;fill-opacity:1;fill-rule:evenodd;stroke:#000000;stroke-width:0.625;stroke-linejoin:round;stroke-opacity:1\" id=\"path2084-41\"/>\n",
       "    </marker>\n",
       "    <marker inkscape:isstock=\"true\" style=\"overflow:visible\" id=\"marker2086-48\" refX=\"0\" refY=\"0\" orient=\"auto\" inkscape:stockid=\"Arrow2Mend\">\n",
       "      <path inkscape:connector-curvature=\"0\" transform=\"scale(-0.6)\" d=\"M 8.7185878,4.0337352 -2.2072895,0.01601326 8.7185884,-4.0017078 c -1.7454984,2.3720609 -1.7354408,5.6174519 -6e-7,8.035443 z\" style=\"fill:#000000;fill-opacity:1;fill-rule:evenodd;stroke:#000000;stroke-width:0.625;stroke-linejoin:round;stroke-opacity:1\" id=\"path2084-70\"/>\n",
       "    </marker>\n",
       "    <marker inkscape:isstock=\"true\" style=\"overflow:visible\" id=\"marker2086-62\" refX=\"0\" refY=\"0\" orient=\"auto\" inkscape:stockid=\"Arrow2Mend\">\n",
       "      <path inkscape:connector-curvature=\"0\" transform=\"scale(-0.6)\" d=\"M 8.7185878,4.0337352 -2.2072895,0.01601326 8.7185884,-4.0017078 c -1.7454984,2.3720609 -1.7354408,5.6174519 -6e-7,8.035443 z\" style=\"fill:#000000;fill-opacity:1;fill-rule:evenodd;stroke:#000000;stroke-width:0.625;stroke-linejoin:round;stroke-opacity:1\" id=\"path2084-479\"/>\n",
       "    </marker>\n",
       "    <marker inkscape:isstock=\"true\" style=\"overflow:visible\" id=\"marker2086-928\" refX=\"0\" refY=\"0\" orient=\"auto\" inkscape:stockid=\"Arrow2Mend\">\n",
       "      <path inkscape:connector-curvature=\"0\" transform=\"scale(-0.6)\" d=\"M 8.7185878,4.0337352 -2.2072895,0.01601326 8.7185884,-4.0017078 c -1.7454984,2.3720609 -1.7354408,5.6174519 -6e-7,8.035443 z\" style=\"fill:#000000;fill-opacity:1;fill-rule:evenodd;stroke:#000000;stroke-width:0.625;stroke-linejoin:round;stroke-opacity:1\" id=\"path2084-30\"/>\n",
       "    </marker>\n",
       "    <marker inkscape:stockid=\"Arrow2Mend\" orient=\"auto\" refY=\"0\" refX=\"0\" id=\"marker9059-7\" style=\"overflow:visible\" inkscape:isstock=\"true\">\n",
       "      <path inkscape:connector-curvature=\"0\" id=\"path9057-8\" style=\"fill:#000000;fill-opacity:1;fill-rule:evenodd;stroke:#000000;stroke-width:0.625;stroke-linejoin:round;stroke-opacity:1\" d=\"M 8.7185878,4.0337352 -2.2072895,0.01601326 8.7185884,-4.0017078 c -1.7454984,2.3720609 -1.7354408,5.6174519 -6e-7,8.035443 z\" transform=\"scale(-0.6)\"/>\n",
       "    </marker>\n",
       "    <marker inkscape:stockid=\"Arrow2Mend\" orient=\"auto\" refY=\"0\" refX=\"0\" id=\"marker15417-5\" style=\"overflow:visible\" inkscape:isstock=\"true\">\n",
       "      <path inkscape:connector-curvature=\"0\" id=\"path15415-9\" style=\"fill:#000000;fill-opacity:1;fill-rule:evenodd;stroke:#000000;stroke-width:0.625;stroke-linejoin:round;stroke-opacity:1\" d=\"M 8.7185878,4.0337352 -2.2072895,0.01601326 8.7185884,-4.0017078 c -1.7454984,2.3720609 -1.7354408,5.6174519 -6e-7,8.035443 z\" transform=\"scale(-0.6)\"/>\n",
       "    </marker>\n",
       "    <marker inkscape:stockid=\"Arrow2Mend\" orient=\"auto\" refY=\"0\" refX=\"0\" id=\"marker15417-57\" style=\"overflow:visible\" inkscape:isstock=\"true\">\n",
       "      <path inkscape:connector-curvature=\"0\" id=\"path15415-0\" style=\"fill:#000000;fill-opacity:1;fill-rule:evenodd;stroke:#000000;stroke-width:0.625;stroke-linejoin:round;stroke-opacity:1\" d=\"M 8.7185878,4.0337352 -2.2072895,0.01601326 8.7185884,-4.0017078 c -1.7454984,2.3720609 -1.7354408,5.6174519 -6e-7,8.035443 z\" transform=\"scale(-0.6)\"/>\n",
       "    </marker>\n",
       "    <marker inkscape:stockid=\"Arrow2Mend\" orient=\"auto\" refY=\"0\" refX=\"0\" id=\"marker7904-5\" style=\"overflow:visible\" inkscape:isstock=\"true\">\n",
       "      <path id=\"path7902-6\" style=\"fill:#000000;fill-opacity:1;fill-rule:evenodd;stroke:#000000;stroke-width:0.625;stroke-linejoin:round;stroke-opacity:1\" d=\"M 8.7185878,4.0337352 -2.2072895,0.01601326 8.7185884,-4.0017078 c -1.7454984,2.3720609 -1.7354408,5.6174519 -6e-7,8.035443 z\" transform=\"scale(-0.6)\" inkscape:connector-curvature=\"0\"/>\n",
       "    </marker>\n",
       "    <marker inkscape:stockid=\"Arrow2Mend\" orient=\"auto\" refY=\"0\" refX=\"0\" id=\"marker43972-7\" style=\"overflow:visible\" inkscape:isstock=\"true\">\n",
       "      <path inkscape:connector-curvature=\"0\" id=\"path43970-5\" style=\"fill:#000000;fill-opacity:1;fill-rule:evenodd;stroke:#000000;stroke-width:0.625;stroke-linejoin:round;stroke-opacity:1\" d=\"M 8.7185878,4.0337352 -2.2072895,0.01601326 8.7185884,-4.0017078 c -1.7454984,2.3720609 -1.7354408,5.6174519 -6e-7,8.035443 z\" transform=\"scale(-0.6)\"/>\n",
       "    </marker>\n",
       "    <marker inkscape:isstock=\"true\" style=\"overflow:visible\" id=\"marker3325-5\" refX=\"0\" refY=\"0\" orient=\"auto\" inkscape:stockid=\"Arrow2Mend\">\n",
       "      <path transform=\"scale(-0.6)\" d=\"M 8.7185878,4.0337352 -2.2072895,0.01601326 8.7185884,-4.0017078 c -1.7454984,2.3720609 -1.7354408,5.6174519 -6e-7,8.035443 z\" style=\"fill:#ff0000;fill-opacity:1;fill-rule:evenodd;stroke:#ff0000;stroke-width:0.625;stroke-linejoin:round;stroke-opacity:1\" id=\"path3323-6\" inkscape:connector-curvature=\"0\"/>\n",
       "    </marker>\n",
       "    <marker inkscape:isstock=\"true\" style=\"overflow:visible\" id=\"marker3325-9\" refX=\"0\" refY=\"0\" orient=\"auto\" inkscape:stockid=\"Arrow2Mend\">\n",
       "      <path transform=\"scale(-0.6)\" d=\"M 8.7185878,4.0337352 -2.2072895,0.01601326 8.7185884,-4.0017078 c -1.7454984,2.3720609 -1.7354408,5.6174519 -6e-7,8.035443 z\" style=\"fill:#ff0000;fill-opacity:1;fill-rule:evenodd;stroke:#ff0000;stroke-width:0.625;stroke-linejoin:round;stroke-opacity:1\" id=\"path3323-1\" inkscape:connector-curvature=\"0\"/>\n",
       "    </marker>\n",
       "    <marker inkscape:isstock=\"true\" style=\"overflow:visible\" id=\"marker3325-7\" refX=\"0\" refY=\"0\" orient=\"auto\" inkscape:stockid=\"Arrow2Mend\">\n",
       "      <path transform=\"scale(-0.6)\" d=\"M 8.7185878,4.0337352 -2.2072895,0.01601326 8.7185884,-4.0017078 c -1.7454984,2.3720609 -1.7354408,5.6174519 -6e-7,8.035443 z\" style=\"fill:#ff0000;fill-opacity:1;fill-rule:evenodd;stroke:#ff0000;stroke-width:0.625;stroke-linejoin:round;stroke-opacity:1\" id=\"path3323-0\" inkscape:connector-curvature=\"0\"/>\n",
       "    </marker>\n",
       "    <marker inkscape:isstock=\"true\" style=\"overflow:visible\" id=\"marker3325-3\" refX=\"0\" refY=\"0\" orient=\"auto\" inkscape:stockid=\"Arrow2Mend\">\n",
       "      <path transform=\"scale(-0.6)\" d=\"M 8.7185878,4.0337352 -2.2072895,0.01601326 8.7185884,-4.0017078 c -1.7454984,2.3720609 -1.7354408,5.6174519 -6e-7,8.035443 z\" style=\"fill:#ff0000;fill-opacity:1;fill-rule:evenodd;stroke:#ff0000;stroke-width:0.625;stroke-linejoin:round;stroke-opacity:1\" id=\"path3323-60\" inkscape:connector-curvature=\"0\"/>\n",
       "    </marker>\n",
       "    <marker inkscape:isstock=\"true\" style=\"overflow:visible\" id=\"marker3325-2\" refX=\"0\" refY=\"0\" orient=\"auto\" inkscape:stockid=\"Arrow2Mend\">\n",
       "      <path transform=\"scale(-0.6)\" d=\"M 8.7185878,4.0337352 -2.2072895,0.01601326 8.7185884,-4.0017078 c -1.7454984,2.3720609 -1.7354408,5.6174519 -6e-7,8.035443 z\" style=\"fill:#ff0000;fill-opacity:1;fill-rule:evenodd;stroke:#ff0000;stroke-width:0.625;stroke-linejoin:round;stroke-opacity:1\" id=\"path3323-61\" inkscape:connector-curvature=\"0\"/>\n",
       "    </marker>\n",
       "  </defs>\n",
       "  <sodipodi:namedview id=\"base\" pagecolor=\"#ffffff\" bordercolor=\"#666666\" borderopacity=\"1.0\" inkscape:pageopacity=\"1\" inkscape:pageshadow=\"2\" inkscape:zoom=\"0.7\" inkscape:cx=\"592.65276\" inkscape:cy=\"492.45016\" inkscape:document-units=\"mm\" inkscape:current-layer=\"layer1\" showgrid=\"false\" inkscape:window-width=\"1711\" inkscape:window-height=\"990\" inkscape:window-x=\"39\" inkscape:window-y=\"76\" inkscape:window-maximized=\"0\" units=\"mm\" width=\"20in\" inkscape:snap-nodes=\"true\" fit-margin-top=\"10\" fit-margin-left=\"10\" fit-margin-right=\"10\" fit-margin-bottom=\"10\" inkscape:object-nodes=\"true\" inkscape:snap-midpoints=\"false\" inkscape:snap-object-midpoints=\"false\" inkscape:snap-others=\"false\" inkscape:object-paths=\"false\"/>\n",
       "  <metadata id=\"metadata5\">\n",
       "    <rdf:RDF>\n",
       "      <cc:Work rdf:about=\"\">\n",
       "        <dc:format>image/svg+xml</dc:format>\n",
       "        <dc:type rdf:resource=\"http://purl.org/dc/dcmitype/StillImage\"/>\n",
       "        <dc:title/>\n",
       "      </cc:Work>\n",
       "    </rdf:RDF>\n",
       "  </metadata>\n",
       "  <g inkscape:label=\"Layer 1\" inkscape:groupmode=\"layer\" id=\"layer1\" transform=\"translate(138.29582,-72.779957)\">\n",
       "    <rect style=\"opacity:1;vector-effect:none;fill:#f2f2f2;fill-opacity:1;fill-rule:evenodd;stroke:#000000;stroke-width:0.5291667;stroke-linecap:butt;stroke-linejoin:miter;stroke-miterlimit:4;stroke-dasharray:none;stroke-dashoffset:0;stroke-opacity:1\" id=\"rect61930\" width=\"64.633926\" height=\"23.8125\" x=\"277.7991\" y=\"149.11331\"/>\n",
       "    <path style=\"opacity:1;vector-effect:none;fill:#f2f2f2;fill-opacity:1;stroke:none;stroke-width:0.5291667;stroke-linecap:butt;stroke-linejoin:miter;stroke-miterlimit:4;stroke-dasharray:none;stroke-dashoffset:0;stroke-opacity:1\" d=\"M -34.787208,144.39041 H 111.1116 v 38.10001 H 342.43303 V 307.29815 H -34.45648 Z\" id=\"path61973\" inkscape:connector-curvature=\"0\" sodipodi:nodetypes=\"ccccccc\"/>\n",
       "    <path style=\"opacity:1;vector-effect:none;fill:none;fill-opacity:1;stroke:#000000;stroke-width:0.52899998;stroke-linecap:butt;stroke-linejoin:miter;stroke-miterlimit:4;stroke-dasharray:none;stroke-dashoffset:0;stroke-opacity:1;marker-end:url(#marker43972)\" d=\"M 81.244195,159.61738 V 266.56317 H 59.993087\" id=\"path43931\" inkscape:connector-curvature=\"0\" sodipodi:nodetypes=\"ccc\"/>\n",
       "    <path style=\"opacity:1;vector-effect:none;fill:none;fill-opacity:1;stroke:#000000;stroke-width:0.52899998;stroke-linecap:butt;stroke-linejoin:miter;stroke-miterlimit:4;stroke-dasharray:none;stroke-dashoffset:0;stroke-opacity:1;marker-end:url(#marker45276)\" d=\"M 78.036961,159.88465 V 221.5283 H 59.993087\" id=\"path43933\" inkscape:connector-curvature=\"0\" sodipodi:nodetypes=\"ccc\"/>\n",
       "    <path style=\"opacity:1;vector-effect:none;fill:none;fill-opacity:1;stroke:#000000;stroke-width:0.52899998;stroke-linecap:butt;stroke-linejoin:miter;stroke-miterlimit:4;stroke-dasharray:none;stroke-dashoffset:0;stroke-opacity:1;marker-end:url(#marker44624)\" d=\"m 74.829726,159.88465 v 16.60873 H 59.993087\" id=\"path43937\" inkscape:connector-curvature=\"0\" sodipodi:nodetypes=\"ccc\"/>\n",
       "    <path style=\"opacity:1;vector-effect:none;fill:none;fill-opacity:1;stroke:#000000;stroke-width:0.52899998;stroke-linecap:butt;stroke-linejoin:miter;stroke-miterlimit:4;stroke-dasharray:none;stroke-dashoffset:0;stroke-opacity:1;marker-end:url(#marker45975)\" d=\"m 46.699626,112.06145 c 0.615959,59.20178 -4.523245,41.48681 -5.160398,147.782\" id=\"path45962\" inkscape:connector-curvature=\"0\" sodipodi:nodetypes=\"cc\"/>\n",
       "    <path style=\"opacity:1;vector-effect:none;fill:none;fill-opacity:1;stroke:#000000;stroke-width:0.52899998;stroke-linecap:butt;stroke-linejoin:miter;stroke-miterlimit:4;stroke-dasharray:none;stroke-dashoffset:0;stroke-opacity:1;marker-end:url(#marker46650)\" d=\"m 12.303821,128.46561 c 0.551499,30.73408 19.139481,5.22679 24.959094,87.27837\" id=\"path46637\" inkscape:connector-curvature=\"0\" sodipodi:nodetypes=\"cc\"/>\n",
       "    <path style=\"opacity:1;vector-effect:none;fill:none;fill-opacity:1;stroke:#000000;stroke-width:0.52899998;stroke-linecap:butt;stroke-linejoin:miter;stroke-miterlimit:4;stroke-dasharray:none;stroke-dashoffset:0;stroke-opacity:1;marker-end:url(#marker47331)\" d=\"m -22.091995,112.06145 c 0.479469,30.76863 32.90509,35.74764 44.922354,58.78125\" id=\"path47318\" inkscape:connector-curvature=\"0\" sodipodi:nodetypes=\"cc\"/>\n",
       "    <path style=\"opacity:1;vector-effect:none;fill:none;fill-opacity:1;stroke:#000000;stroke-width:0.52899998;stroke-linecap:butt;stroke-linejoin:miter;stroke-miterlimit:4;stroke-dasharray:none;stroke-dashoffset:0;stroke-opacity:1;marker-end:url(#marker28964)\" d=\"m 97.773275,118.1906 c -0.228152,23.10055 32.754725,45.82669 31.203715,89.01385\" id=\"path28951\" inkscape:connector-curvature=\"0\" sodipodi:nodetypes=\"cc\"/>\n",
       "    <path style=\"opacity:1;vector-effect:none;fill:none;fill-opacity:1;stroke:#000000;stroke-width:0.52899998;stroke-linecap:butt;stroke-linejoin:miter;stroke-miterlimit:4;stroke-dasharray:none;stroke-dashoffset:0;stroke-opacity:1;marker-end:url(#marker29597)\" d=\"m 111.67129,128.88138 c -0.50892,15.25415 22.68087,28.64332 21.24792,94.29243\" id=\"path29584\" inkscape:connector-curvature=\"0\" sodipodi:nodetypes=\"cc\"/>\n",
       "    <path style=\"opacity:1;vector-effect:none;fill:none;fill-opacity:1;stroke:#000000;stroke-width:0.52899998;stroke-linecap:butt;stroke-linejoin:miter;stroke-miterlimit:4;stroke-dasharray:none;stroke-dashoffset:0;stroke-opacity:1;marker-end:url(#marker20387)\" d=\"m 155.63486,141.88286 c -7.56842,55.35182 54.24588,9.18525 37.58971,95.9587\" id=\"path20374\" inkscape:connector-curvature=\"0\" sodipodi:nodetypes=\"cc\"/>\n",
       "    <path style=\"opacity:1;vector-effect:none;fill:none;fill-opacity:1;stroke:#000000;stroke-width:0.52899998;stroke-linecap:butt;stroke-linejoin:miter;stroke-miterlimit:4;stroke-dasharray:none;stroke-dashoffset:0;stroke-opacity:1;marker-end:url(#marker22592)\" d=\"m 161.49349,152.46619 c -3.85492,36.71683 54.32529,-0.81107 33.88962,101.22605\" id=\"path22579\" inkscape:connector-curvature=\"0\" sodipodi:nodetypes=\"cc\"/>\n",
       "    <path style=\"opacity:1;vector-effect:none;fill:none;fill-opacity:1;stroke:#000000;stroke-width:0.52899998;stroke-linecap:butt;stroke-linejoin:miter;stroke-miterlimit:4;stroke-dasharray:none;stroke-dashoffset:0;stroke-opacity:1;marker-end:url(#marker25553)\" d=\"m 173.02176,163.04952 c 0.0537,13.73046 49.55173,9.13497 24.6913,106.49479\" id=\"path25540\" inkscape:connector-curvature=\"0\" sodipodi:nodetypes=\"cc\"/>\n",
       "    <path style=\"opacity:1;vector-effect:none;fill:none;fill-opacity:1;stroke:#000000;stroke-width:0.52899998;stroke-linecap:butt;stroke-linejoin:miter;stroke-miterlimit:4;stroke-dasharray:none;stroke-dashoffset:0;stroke-opacity:1;marker-end:url(#marker33452)\" d=\"m 217.47175,164.18345 c 0.98336,51.36723 116.20988,-25.35229 57.66968,99.1326\" id=\"path33439\" inkscape:connector-curvature=\"0\" sodipodi:nodetypes=\"cc\"/>\n",
       "    <path style=\"opacity:1;vector-effect:none;fill:none;fill-opacity:1;stroke:#000000;stroke-width:0.52899998;stroke-linecap:butt;stroke-linejoin:miter;stroke-miterlimit:4;stroke-dasharray:none;stroke-dashoffset:0;stroke-opacity:1;marker-end:url(#marker37517)\" d=\"m 230.32296,174.57779 c -0.46678,21.39074 111.54335,-34.93324 47.28481,104.51042\" id=\"path37504\" inkscape:connector-curvature=\"0\" sodipodi:nodetypes=\"cc\"/>\n",
       "    <path style=\"opacity:1;vector-effect:none;fill:none;fill-opacity:1;stroke:#ff0000;stroke-width:0.52899998;stroke-linecap:butt;stroke-linejoin:miter;stroke-miterlimit:4;stroke-dasharray:none;stroke-dashoffset:0;stroke-opacity:1;marker-end:url(#marker6242)\" d=\"m 296.81294,292.15622 -0.004,9.11068\" id=\"path11745\" inkscape:connector-curvature=\"0\" sodipodi:nodetypes=\"cc\"/>\n",
       "    <path style=\"opacity:1;vector-effect:none;fill:none;fill-opacity:1;stroke:#ff0000;stroke-width:0.52899998;stroke-linecap:butt;stroke-linejoin:miter;stroke-miterlimit:4;stroke-dasharray:none;stroke-dashoffset:0;stroke-opacity:1;marker-end:url(#marker11749)\" d=\"M 296.80894,302.32523 H 48.536828 v -29.89389\" id=\"path8784\" inkscape:connector-curvature=\"0\" sodipodi:nodetypes=\"ccc\"/>\n",
       "    <path style=\"opacity:1;vector-effect:none;fill:none;fill-opacity:1;stroke:#000000;stroke-width:0.52899998;stroke-linecap:butt;stroke-linejoin:miter;stroke-miterlimit:4;stroke-dasharray:none;stroke-dashoffset:0;stroke-opacity:1;marker-end:url(#marker5514)\" d=\"m 260.5258,153.62378 v 6.61458 h -5.66964\" id=\"path5411\" inkscape:connector-curvature=\"0\"/>\n",
       "    <path style=\"opacity:1;vector-effect:none;fill:none;fill-opacity:1;stroke:#000000;stroke-width:0.52899998;stroke-linecap:butt;stroke-linejoin:miter;stroke-miterlimit:4;stroke-dasharray:none;stroke-dashoffset:0;stroke-opacity:1;marker-end:url(#marker3556)\" d=\"m 262.60468,153.71827 v 11.52828\" id=\"path5624\" inkscape:connector-curvature=\"0\"/>\n",
       "    <path inkscape:connector-curvature=\"0\" id=\"path6905\" d=\"m 140.11893,107.65151 v 6.61458 h -5.66964\" style=\"opacity:1;vector-effect:none;fill:none;fill-opacity:1;stroke:#000000;stroke-width:0.52899998;stroke-linecap:butt;stroke-linejoin:miter;stroke-miterlimit:4;stroke-dasharray:none;stroke-dashoffset:0;stroke-opacity:1;marker-end:url(#marker6911)\"/>\n",
       "    <path inkscape:connector-curvature=\"0\" id=\"path6907\" d=\"m 142.19781,107.746 v 11.52828\" style=\"opacity:1;vector-effect:none;fill:none;fill-opacity:1;stroke:#000000;stroke-width:0.52899998;stroke-linecap:butt;stroke-linejoin:miter;stroke-miterlimit:4;stroke-dasharray:none;stroke-dashoffset:0;stroke-opacity:1;marker-end:url(#marker5739)\"/>\n",
       "    <path style=\"opacity:1;vector-effect:none;fill:none;fill-opacity:1;stroke:#000000;stroke-width:0.52899998;stroke-linecap:butt;stroke-linejoin:miter;stroke-miterlimit:4;stroke-dasharray:none;stroke-dashoffset:0;stroke-opacity:1;marker-end:url(#marker7904)\" d=\"m 213.29469,92.4393 28.24196,50.68777\" id=\"path7735\" inkscape:connector-curvature=\"0\" sodipodi:nodetypes=\"cc\"/>\n",
       "    <path style=\"opacity:1;vector-effect:none;fill:none;fill-opacity:1;stroke:#000000;stroke-width:0.52899998;stroke-linecap:butt;stroke-linejoin:miter;stroke-miterlimit:4;stroke-dasharray:none;stroke-dashoffset:0;stroke-opacity:1;marker-end:url(#marker8261)\" d=\"m 213.29469,92.4393 -67.81837,10.45105\" id=\"path8080\" inkscape:connector-curvature=\"0\" sodipodi:nodetypes=\"cc\"/>\n",
       "    <path style=\"opacity:1;vector-effect:none;fill:none;fill-opacity:1;stroke:#000000;stroke-width:0.52899998;stroke-linecap:butt;stroke-linejoin:miter;stroke-miterlimit:4;stroke-dasharray:none;stroke-dashoffset:0;stroke-opacity:1;marker-end:url(#marker8642)\" d=\"m 213.29469,92.4393 -26.7773,28.83709\" id=\"path8449\" inkscape:connector-curvature=\"0\" sodipodi:nodetypes=\"cc\"/>\n",
       "    <path style=\"opacity:1;vector-effect:none;fill:none;fill-opacity:1;stroke:#000000;stroke-width:0.52899998;stroke-linecap:butt;stroke-linejoin:miter;stroke-miterlimit:4;stroke-dasharray:none;stroke-dashoffset:0;stroke-opacity:1;marker-end:url(#marker10151)\" d=\"m -63.140403,167.5405 v 34.89479\" id=\"path9922\" inkscape:connector-curvature=\"0\" sodipodi:nodetypes=\"cc\"/>\n",
       "    <path style=\"opacity:1;vector-effect:none;fill:none;fill-opacity:1;stroke:#000000;stroke-width:0.52899998;stroke-linecap:butt;stroke-linejoin:miter;stroke-miterlimit:4;stroke-dasharray:none;stroke-dashoffset:0;stroke-opacity:1;marker-end:url(#marker10628)\" d=\"m -63.140403,212.57542 v 34.89476\" id=\"path10387\" inkscape:connector-curvature=\"0\" sodipodi:nodetypes=\"cc\"/>\n",
       "    <path sodipodi:nodetypes=\"ccc\" style=\"opacity:1;vector-effect:none;fill:none;fill-opacity:1;stroke:#000000;stroke-width:0.52899998;stroke-linecap:butt;stroke-linejoin:miter;stroke-miterlimit:4;stroke-dasharray:none;stroke-dashoffset:0;stroke-opacity:1;marker-end:url(#marker12132)\" d=\"m 247.54266,231.56646 v 43.45533 h -3.72782\" id=\"path16765\" inkscape:connector-curvature=\"0\"/>\n",
       "    <path sodipodi:nodetypes=\"ccc\" inkscape:connector-curvature=\"0\" id=\"path16767\" d=\"m 242.25099,231.56644 v 27.58034 h -3.72782\" style=\"opacity:1;vector-effect:none;fill:none;fill-opacity:1;stroke:#000000;stroke-width:0.52899998;stroke-linecap:butt;stroke-linejoin:miter;stroke-miterlimit:4;stroke-dasharray:none;stroke-dashoffset:0;stroke-opacity:1;marker-end:url(#marker17717)\"/>\n",
       "    <path style=\"opacity:1;vector-effect:none;fill:none;fill-opacity:1;stroke:#000000;stroke-width:0.52899998;stroke-linecap:butt;stroke-linejoin:miter;stroke-miterlimit:4;stroke-dasharray:none;stroke-dashoffset:0;stroke-opacity:1;marker-end:url(#marker18077)\" d=\"m 236.95932,231.56643 v 11.70534 h -3.72782\" id=\"path18073\" inkscape:connector-curvature=\"0\" sodipodi:nodetypes=\"ccc\"/>\n",
       "    <path style=\"opacity:1;vector-effect:none;fill:none;fill-opacity:1;stroke:#000000;stroke-width:0.52899998;stroke-linecap:butt;stroke-linejoin:miter;stroke-miterlimit:4;stroke-dasharray:none;stroke-dashoffset:0;stroke-opacity:1;marker-end:url(#marker18463)\" d=\"m 328.27361,256.97525 v 27.58033 h -3.72782\" id=\"path18457\" inkscape:connector-curvature=\"0\" sodipodi:nodetypes=\"ccc\"/>\n",
       "    <path sodipodi:nodetypes=\"ccc\" inkscape:connector-curvature=\"0\" id=\"path18459\" d=\"m 322.98194,256.97523 v 11.70534 h -3.72782\" style=\"opacity:1;vector-effect:none;fill:none;fill-opacity:1;stroke:#000000;stroke-width:0.52899998;stroke-linecap:butt;stroke-linejoin:miter;stroke-miterlimit:4;stroke-dasharray:none;stroke-dashoffset:0;stroke-opacity:1;marker-end:url(#marker55111)\"/>\n",
       "    <path sodipodi:nodetypes=\"ccc\" inkscape:connector-curvature=\"0\" id=\"path19453\" d=\"m 183.10139,201.14934 v 27.58033 h -3.72782\" style=\"opacity:1;vector-effect:none;fill:none;fill-opacity:1;stroke:#000000;stroke-width:0.52899998;stroke-linecap:butt;stroke-linejoin:miter;stroke-miterlimit:4;stroke-dasharray:none;stroke-dashoffset:0;stroke-opacity:1;marker-end:url(#marker19459)\"/>\n",
       "    <path style=\"opacity:1;vector-effect:none;fill:none;fill-opacity:1;stroke:#000000;stroke-width:0.52899998;stroke-linecap:butt;stroke-linejoin:miter;stroke-miterlimit:4;stroke-dasharray:none;stroke-dashoffset:0;stroke-opacity:1;marker-end:url(#marker19097)\" d=\"m 177.80972,201.14932 v 11.70534 h -3.72782\" id=\"path19455\" inkscape:connector-curvature=\"0\" sodipodi:nodetypes=\"ccc\"/>\n",
       "    <rect style=\"opacity:1;vector-effect:none;fill:#e5d5ff;fill-opacity:1;fill-rule:evenodd;stroke:#000000;stroke-width:0.52916682;stroke-linecap:butt;stroke-linejoin:miter;stroke-miterlimit:4;stroke-dasharray:none;stroke-dashoffset:0;stroke-opacity:1\" id=\"rect1121-24-8\" width=\"51.048477\" height=\"8.5526247\" x=\"186.15085\" y=\"254.87047\"/>\n",
       "    <rect style=\"opacity:1;vector-effect:none;fill:#e5d5ff;fill-opacity:1;fill-rule:evenodd;stroke:#000000;stroke-width:0.52916682;stroke-linecap:butt;stroke-linejoin:miter;stroke-miterlimit:4;stroke-dasharray:none;stroke-dashoffset:0;stroke-opacity:1\" id=\"rect1121-24-0\" width=\"51.048477\" height=\"8.5526247\" x=\"191.44252\" y=\"270.74545\"/>\n",
       "    <rect style=\"opacity:1;vector-effect:none;fill:#e5d5ff;fill-opacity:1;fill-rule:evenodd;stroke:#000000;stroke-width:0.52916682;stroke-linecap:butt;stroke-linejoin:miter;stroke-miterlimit:4;stroke-dasharray:none;stroke-dashoffset:0;stroke-opacity:1\" id=\"rect1121-24-6\" width=\"51.048477\" height=\"8.5526247\" x=\"180.85918\" y=\"238.99547\"/>\n",
       "    <rect style=\"opacity:1;vector-effect:none;fill:#fff6d5;fill-opacity:1;fill-rule:evenodd;stroke:#000000;stroke-width:0.52916682;stroke-linecap:butt;stroke-linejoin:miter;stroke-miterlimit:4;stroke-dasharray:none;stroke-dashoffset:0;stroke-opacity:1\" id=\"rect1121-24-6-6\" width=\"51.048477\" height=\"8.5526247\" x=\"206.25914\" y=\"223.12045\"/>\n",
       "    <rect style=\"opacity:1;vector-effect:none;fill:#e5d5ff;fill-opacity:1;fill-rule:evenodd;stroke:#000000;stroke-width:0.52916682;stroke-linecap:butt;stroke-linejoin:miter;stroke-miterlimit:4;stroke-dasharray:none;stroke-dashoffset:0;stroke-opacity:1\" id=\"rect1121-24-6-4\" width=\"51.048477\" height=\"8.5526247\" x=\"127.01399\" y=\"224.45337\"/>\n",
       "    <rect style=\"opacity:1;vector-effect:none;fill:#e5d5ff;fill-opacity:1;fill-rule:evenodd;stroke:#000000;stroke-width:0.52916682;stroke-linecap:butt;stroke-linejoin:miter;stroke-miterlimit:4;stroke-dasharray:none;stroke-dashoffset:0;stroke-opacity:1\" id=\"rect1121-24-6-0\" width=\"51.048477\" height=\"8.5526247\" x=\"121.72232\" y=\"208.57835\"/>\n",
       "    <rect style=\"opacity:1;vector-effect:none;fill:#fff6d5;fill-opacity:1;fill-rule:evenodd;stroke:#000000;stroke-width:0.52916682;stroke-linecap:butt;stroke-linejoin:miter;stroke-miterlimit:4;stroke-dasharray:none;stroke-dashoffset:0;stroke-opacity:1\" id=\"rect1121-24-6-04\" width=\"51.048477\" height=\"8.5526247\" x=\"134.95152\" y=\"192.70334\"/>\n",
       "    <rect style=\"opacity:1;vector-effect:none;fill:#fff6d5;fill-opacity:1;fill-rule:evenodd;stroke:#000000;stroke-width:0.52916682;stroke-linecap:butt;stroke-linejoin:miter;stroke-miterlimit:4;stroke-dasharray:none;stroke-dashoffset:0;stroke-opacity:1\" id=\"rect1121-24-6-62\" width=\"51.048477\" height=\"8.5526247\" x=\"280.12375\" y=\"248.52928\"/>\n",
       "    <rect style=\"opacity:1;vector-effect:none;fill:#e5d5ff;fill-opacity:1;fill-rule:evenodd;stroke:#000000;stroke-width:0.52916682;stroke-linecap:butt;stroke-linejoin:miter;stroke-miterlimit:4;stroke-dasharray:none;stroke-dashoffset:0;stroke-opacity:1\" id=\"rect1121-24-6-67\" width=\"51.048477\" height=\"8.5526247\" x=\"267.42374\" y=\"264.40427\"/>\n",
       "    <rect style=\"opacity:1;vector-effect:none;fill:#e5d5ff;fill-opacity:1;fill-rule:evenodd;stroke:#000000;stroke-width:0.52916682;stroke-linecap:butt;stroke-linejoin:miter;stroke-miterlimit:4;stroke-dasharray:none;stroke-dashoffset:0;stroke-opacity:1\" id=\"rect1121-24-6-5\" width=\"51.048477\" height=\"8.5526247\" x=\"272.71539\" y=\"280.27924\"/>\n",
       "    <rect style=\"opacity:1;vector-effect:none;fill:#fff6d5;fill-opacity:1;fill-rule:evenodd;stroke:#000000;stroke-width:0.52916682;stroke-linecap:butt;stroke-linejoin:miter;stroke-miterlimit:4;stroke-dasharray:none;stroke-dashoffset:0;stroke-opacity:1\" id=\"rect1121-24-6-2\" width=\"51.048477\" height=\"8.5526247\" x=\"-27.4918\" y=\"277.63266\"/>\n",
       "    <rect style=\"opacity:1;vector-effect:none;fill:#fff6d5;fill-opacity:1;fill-rule:evenodd;stroke:#000000;stroke-width:0.52916682;stroke-linecap:butt;stroke-linejoin:miter;stroke-miterlimit:4;stroke-dasharray:none;stroke-dashoffset:0;stroke-opacity:1\" id=\"rect1121-9-19-5\" width=\"39.823174\" height=\"8.5526276\" x=\"224.69705\" y=\"166.31694\"/>\n",
       "    <rect style=\"opacity:1;vector-effect:none;fill:#fff6d5;fill-opacity:1;fill-rule:evenodd;stroke:#000000;stroke-width:0.52916682;stroke-linecap:butt;stroke-linejoin:miter;stroke-miterlimit:4;stroke-dasharray:none;stroke-dashoffset:0;stroke-opacity:1\" id=\"rect1121-9-19-9\" width=\"39.823174\" height=\"8.5526276\" x=\"214.11368\" y=\"155.73357\"/>\n",
       "    <rect style=\"opacity:1;vector-effect:none;fill:#fff6d5;fill-opacity:1;fill-rule:evenodd;stroke:#000000;stroke-width:0.52916682;stroke-linecap:butt;stroke-linejoin:miter;stroke-miterlimit:4;stroke-dasharray:none;stroke-dashoffset:0;stroke-opacity:1\" id=\"rect1121-9-19-91\" width=\"39.823174\" height=\"8.5526276\" x=\"224.69705\" y=\"145.15022\"/>\n",
       "    <rect style=\"opacity:1;vector-effect:none;fill:#fff6d5;fill-opacity:1;fill-rule:evenodd;stroke:#000000;stroke-width:0.52916682;stroke-linecap:butt;stroke-linejoin:miter;stroke-miterlimit:4;stroke-dasharray:none;stroke-dashoffset:0;stroke-opacity:1\" id=\"rect1121-9-19-910\" width=\"39.823174\" height=\"8.5526276\" x=\"163.84143\" y=\"122.6125\"/>\n",
       "    <rect style=\"opacity:1;vector-effect:none;fill:#fff6d5;fill-opacity:1;fill-rule:evenodd;stroke:#000000;stroke-width:0.52916682;stroke-linecap:butt;stroke-linejoin:miter;stroke-miterlimit:4;stroke-dasharray:none;stroke-dashoffset:0;stroke-opacity:1\" id=\"rect1121-9-19-58\" width=\"39.823174\" height=\"8.5526276\" x=\"104.06566\" y=\"120.30988\"/>\n",
       "    <rect style=\"opacity:1;vector-effect:none;fill:#fff6d5;fill-opacity:1;fill-rule:evenodd;stroke:#000000;stroke-width:0.52916682;stroke-linecap:butt;stroke-linejoin:miter;stroke-miterlimit:4;stroke-dasharray:none;stroke-dashoffset:0;stroke-opacity:1\" id=\"rect1121-9-19-70\" width=\"39.823174\" height=\"8.5526276\" x=\"93.482338\" y=\"109.72655\"/>\n",
       "    <rect style=\"opacity:1;vector-effect:none;fill:#fff6d5;fill-opacity:1;fill-rule:evenodd;stroke:#000000;stroke-width:0.52916682;stroke-linecap:butt;stroke-linejoin:miter;stroke-miterlimit:4;stroke-dasharray:none;stroke-dashoffset:0;stroke-opacity:1\" id=\"rect1121-9-19-8\" width=\"39.823174\" height=\"8.5526276\" x=\"104.06566\" y=\"99.143204\"/>\n",
       "    <rect style=\"opacity:1;vector-effect:none;fill:#ccffaa;fill-opacity:1;fill-rule:evenodd;stroke:#000000;stroke-width:0.52916682;stroke-linecap:butt;stroke-linejoin:miter;stroke-miterlimit:4;stroke-dasharray:none;stroke-dashoffset:0;stroke-opacity:1\" id=\"rect1121-9-19-0\" width=\"39.823174\" height=\"8.5526276\" x=\"-83.051979\" y=\"158.98793\"/>\n",
       "    <rect style=\"opacity:1;vector-effect:none;fill:#ccffaa;fill-opacity:1;fill-rule:evenodd;stroke:#000000;stroke-width:0.52916682;stroke-linecap:butt;stroke-linejoin:miter;stroke-miterlimit:4;stroke-dasharray:none;stroke-dashoffset:0;stroke-opacity:1\" id=\"rect1121-9-19-42\" width=\"39.823174\" height=\"8.5526276\" x=\"-83.051979\" y=\"204.02284\"/>\n",
       "    <rect style=\"opacity:1;vector-effect:none;fill:#ccffaa;fill-opacity:1;fill-rule:evenodd;stroke:#000000;stroke-width:0.52916682;stroke-linecap:butt;stroke-linejoin:miter;stroke-miterlimit:4;stroke-dasharray:none;stroke-dashoffset:0;stroke-opacity:1\" id=\"rect1121-9-19-96\" width=\"39.823174\" height=\"8.5526276\" x=\"-83.051979\" y=\"249.05774\"/>\n",
       "    <text xml:space=\"preserve\" style=\"font-style:normal;font-variant:normal;font-weight:normal;font-stretch:normal;font-size:4.23333311px;line-height:1.10000002;font-family:'Nimbus Sans';-inkscape-font-specification:'Nimbus Sans';text-align:center;letter-spacing:0px;word-spacing:0px;text-anchor:middle;fill:#000000;fill-opacity:1;stroke:none;stroke-width:0.26458332\" x=\"124.08942\" y=\"104.91389\" id=\"text876\"><tspan sodipodi:role=\"line\" id=\"tspan874\" x=\"124.08942\" y=\"104.91389\" style=\"text-align:center;text-anchor:middle;stroke-width:0.26458332\">Azimuthal</tspan></text>\n",
       "    <text xml:space=\"preserve\" style=\"font-style:normal;font-variant:normal;font-weight:normal;font-stretch:normal;font-size:4.23333311px;line-height:1.10000002;font-family:'Nimbus Sans';-inkscape-font-specification:'Nimbus Sans';text-align:center;letter-spacing:0px;word-spacing:0px;text-anchor:middle;fill:#000000;fill-opacity:1;stroke:none;stroke-width:0.26458332\" x=\"183.73184\" y=\"127.97044\" id=\"text880\"><tspan sodipodi:role=\"line\" id=\"tspan878\" x=\"183.73184\" y=\"127.97044\" style=\"text-align:center;text-anchor:middle;stroke-width:0.26458332\">Longitudinal</tspan></text>\n",
       "    <text xml:space=\"preserve\" style=\"font-style:normal;font-variant:normal;font-weight:normal;font-stretch:normal;font-size:4.23333311px;line-height:1.10000002;font-family:'Nimbus Sans';-inkscape-font-specification:'Nimbus Sans';text-align:center;letter-spacing:0px;word-spacing:0px;text-anchor:middle;fill:#000000;fill-opacity:1;stroke:none;stroke-width:0.26458332\" x=\"244.7124\" y=\"150.50818\" id=\"text884\"><tspan sodipodi:role=\"line\" id=\"tspan882\" x=\"244.7124\" y=\"150.50818\" style=\"text-align:center;text-anchor:middle;stroke-width:0.26458332\">Temporal</tspan></text>\n",
       "    <text xml:space=\"preserve\" style=\"font-style:normal;font-variant:normal;font-weight:normal;font-stretch:normal;font-size:4.23333311px;line-height:1.10000002;font-family:'Nimbus Sans';-inkscape-font-specification:'Nimbus Sans';text-align:center;letter-spacing:0px;word-spacing:0px;text-anchor:middle;fill:#000000;fill-opacity:1;stroke:none;stroke-width:0.26458332\" x=\"113.37064\" y=\"115.49722\" id=\"text888\"><tspan sodipodi:role=\"line\" id=\"tspan886\" x=\"113.37064\" y=\"115.49722\" style=\"stroke-width:0.26458332\">AzimuthalXY</tspan></text>\n",
       "    <text xml:space=\"preserve\" style=\"font-style:normal;font-variant:normal;font-weight:normal;font-stretch:normal;font-size:4.23333311px;line-height:1.10000002;font-family:'Nimbus Sans';-inkscape-font-specification:'Nimbus Sans';text-align:center;letter-spacing:0px;word-spacing:0px;text-anchor:middle;fill:#000000;fill-opacity:1;stroke:none;stroke-width:0.26458332\" x=\"124.09371\" y=\"126.08056\" id=\"text892\"><tspan sodipodi:role=\"line\" id=\"tspan890\" x=\"124.09371\" y=\"126.08056\" style=\"stroke-width:0.26458332\">AzimuthalRhoPhi</tspan></text>\n",
       "    <text xml:space=\"preserve\" style=\"font-style:normal;font-variant:normal;font-weight:normal;font-stretch:normal;font-size:4.23333311px;line-height:1.10000002;font-family:'Nimbus Sans';-inkscape-font-specification:'Nimbus Sans';text-align:center;letter-spacing:0px;word-spacing:0px;text-anchor:middle;fill:#000000;fill-opacity:1;stroke:none;stroke-width:0.26458332\" x=\"234.01898\" y=\"161.09151\" id=\"text912\"><tspan sodipodi:role=\"line\" id=\"tspan910\" x=\"234.01898\" y=\"161.09151\" style=\"stroke-width:0.26458332\">TemporalT</tspan></text>\n",
       "    <text xml:space=\"preserve\" style=\"font-style:normal;font-variant:normal;font-weight:normal;font-stretch:normal;font-size:4.23333311px;line-height:1.10000002;font-family:'Nimbus Sans';-inkscape-font-specification:'Nimbus Sans';text-align:center;letter-spacing:0px;word-spacing:0px;text-anchor:middle;fill:#000000;fill-opacity:1;stroke:none;stroke-width:0.26458332\" x=\"244.72089\" y=\"171.67487\" id=\"text916\"><tspan sodipodi:role=\"line\" id=\"tspan914\" x=\"244.72089\" y=\"171.67487\" style=\"stroke-width:0.26458332\">TemporalTau</tspan></text>\n",
       "    <text xml:space=\"preserve\" style=\"font-style:normal;font-variant:normal;font-weight:normal;font-stretch:normal;font-size:4.23333311px;line-height:1.10000002;font-family:'Nimbus Sans';-inkscape-font-specification:'Nimbus Sans';text-align:center;letter-spacing:0px;word-spacing:0px;text-anchor:middle;fill:#000000;fill-opacity:1;stroke:none;stroke-width:0.26458332\" x=\"-63.307625\" y=\"164.75861\" id=\"text924\"><tspan sodipodi:role=\"line\" x=\"-63.307625\" y=\"164.75861\" style=\"stroke-width:0.26458332\" id=\"tspan1032\">Planar</tspan></text>\n",
       "    <text xml:space=\"preserve\" style=\"font-style:normal;font-variant:normal;font-weight:normal;font-stretch:normal;font-size:4.23333311px;line-height:1.10000002;font-family:'Nimbus Sans';-inkscape-font-specification:'Nimbus Sans';text-align:center;letter-spacing:0px;word-spacing:0px;text-anchor:middle;fill:#000000;fill-opacity:1;stroke:none;stroke-width:0.26458332\" x=\"-63.093842\" y=\"209.40617\" id=\"text928\"><tspan sodipodi:role=\"line\" x=\"-63.093842\" y=\"209.40617\" style=\"stroke-width:0.26458332\" id=\"tspan1036\">Spatial</tspan></text>\n",
       "    <text xml:space=\"preserve\" style=\"font-style:normal;font-variant:normal;font-weight:normal;font-stretch:normal;font-size:4.23333311px;line-height:1.10000002;font-family:'Nimbus Sans';-inkscape-font-specification:'Nimbus Sans';text-align:center;letter-spacing:0px;word-spacing:0px;text-anchor:middle;fill:#000000;fill-opacity:1;stroke:none;stroke-width:0.26458332\" x=\"-63.218719\" y=\"254.82838\" id=\"text932\"><tspan sodipodi:role=\"line\" x=\"-63.218719\" y=\"254.82838\" style=\"stroke-width:0.26458332\" id=\"tspan1040\">Lorentz</tspan></text>\n",
       "    <text id=\"text972\" y=\"198.08667\" x=\"160.49059\" style=\"font-style:normal;font-variant:normal;font-weight:normal;font-stretch:normal;font-size:4.23333311px;line-height:1.10000002;font-family:'Nimbus Sans';-inkscape-font-specification:'Nimbus Sans';text-align:center;letter-spacing:0px;word-spacing:0px;text-anchor:middle;fill:#000000;fill-opacity:1;stroke:none;stroke-width:0.26458332\" xml:space=\"preserve\"><tspan style=\"text-align:center;text-anchor:middle;stroke-width:0.26458332\" y=\"198.08667\" x=\"160.49059\" id=\"tspan970\" sodipodi:role=\"line\">AzimuthalObject</tspan></text>\n",
       "    <text id=\"text976\" y=\"228.50378\" x=\"231.66484\" style=\"font-style:normal;font-variant:normal;font-weight:normal;font-stretch:normal;font-size:4.23333311px;line-height:1.10000002;font-family:'Nimbus Sans';-inkscape-font-specification:'Nimbus Sans';text-align:center;letter-spacing:0px;word-spacing:0px;text-anchor:middle;fill:#000000;fill-opacity:1;stroke:none;stroke-width:0.26458332\" xml:space=\"preserve\"><tspan style=\"text-align:center;text-anchor:middle;stroke-width:0.26458332\" y=\"228.50378\" x=\"231.66484\" id=\"tspan974\" sodipodi:role=\"line\">LongitudinalObject</tspan></text>\n",
       "    <text id=\"text980\" y=\"253.91261\" x=\"305.65421\" style=\"font-style:normal;font-variant:normal;font-weight:normal;font-stretch:normal;font-size:4.23333311px;line-height:1.10000002;font-family:'Nimbus Sans';-inkscape-font-specification:'Nimbus Sans';text-align:center;letter-spacing:0px;word-spacing:0px;text-anchor:middle;fill:#000000;fill-opacity:1;stroke:none;stroke-width:0.26458332\" xml:space=\"preserve\"><tspan style=\"text-align:center;text-anchor:middle;stroke-width:0.26458332\" y=\"253.91261\" x=\"305.65421\" id=\"tspan978\" sodipodi:role=\"line\">TemporalObject</tspan></text>\n",
       "    <text id=\"text984\" y=\"213.96169\" x=\"147.22327\" style=\"font-style:normal;font-variant:normal;font-weight:normal;font-stretch:normal;font-size:4.23333311px;line-height:1.10000002;font-family:'Nimbus Sans';-inkscape-font-specification:'Nimbus Sans';text-align:center;letter-spacing:0px;word-spacing:0px;text-anchor:middle;fill:#000000;fill-opacity:1;stroke:none;stroke-width:0.26458332\" xml:space=\"preserve\"><tspan style=\"stroke-width:0.26458332\" y=\"213.96169\" x=\"147.22327\" id=\"tspan982\" sodipodi:role=\"line\">AzimuthalObjectXY</tspan></text>\n",
       "    <text id=\"text988\" y=\"229.8367\" x=\"152.65463\" style=\"font-style:normal;font-variant:normal;font-weight:normal;font-stretch:normal;font-size:4.23333311px;line-height:1.10000002;font-family:'Nimbus Sans';-inkscape-font-specification:'Nimbus Sans';text-align:center;letter-spacing:0px;word-spacing:0px;text-anchor:middle;fill:#000000;fill-opacity:1;stroke:none;stroke-width:0.26458332\" xml:space=\"preserve\"><tspan style=\"stroke-width:0.26458332\" y=\"229.8367\" x=\"152.65463\" id=\"tspan986\" sodipodi:role=\"line\">AzimuthalObjectRhoPhi</tspan></text>\n",
       "    <text id=\"text992\" y=\"244.37878\" x=\"206.27335\" style=\"font-style:normal;font-variant:normal;font-weight:normal;font-stretch:normal;font-size:4.23333311px;line-height:1.10000002;font-family:'Nimbus Sans';-inkscape-font-specification:'Nimbus Sans';text-align:center;letter-spacing:0px;word-spacing:0px;text-anchor:middle;fill:#000000;fill-opacity:1;stroke:none;stroke-width:0.26458332\" xml:space=\"preserve\"><tspan style=\"stroke-width:0.26458332\" y=\"244.37878\" x=\"206.27335\" id=\"tspan990\" sodipodi:role=\"line\">LongitudinalObjectZ</tspan></text>\n",
       "    <text id=\"text996\" y=\"260.25381\" x=\"211.5502\" style=\"font-style:normal;font-variant:normal;font-weight:normal;font-stretch:normal;font-size:4.23333311px;line-height:1.10000002;font-family:'Nimbus Sans';-inkscape-font-specification:'Nimbus Sans';text-align:center;letter-spacing:0px;word-spacing:0px;text-anchor:middle;fill:#000000;fill-opacity:1;stroke:none;stroke-width:0.26458332\" xml:space=\"preserve\"><tspan style=\"stroke-width:0.26458332\" y=\"260.25381\" x=\"211.5502\" id=\"tspan994\" sodipodi:role=\"line\">LongitudinalObjectTheta</tspan></text>\n",
       "    <text id=\"text1000\" y=\"276.12878\" x=\"216.84187\" style=\"font-style:normal;font-variant:normal;font-weight:normal;font-stretch:normal;font-size:4.23333311px;line-height:1.10000002;font-family:'Nimbus Sans';-inkscape-font-specification:'Nimbus Sans';text-align:center;letter-spacing:0px;word-spacing:0px;text-anchor:middle;fill:#000000;fill-opacity:1;stroke:none;stroke-width:0.26458332\" xml:space=\"preserve\"><tspan style=\"stroke-width:0.26458332\" y=\"276.12878\" x=\"216.84187\" id=\"tspan998\" sodipodi:role=\"line\">LongitudinalObjectEta</tspan></text>\n",
       "    <text id=\"text1008\" y=\"269.7876\" x=\"292.94159\" style=\"font-style:normal;font-variant:normal;font-weight:normal;font-stretch:normal;font-size:4.23333311px;line-height:1.10000002;font-family:'Nimbus Sans';-inkscape-font-specification:'Nimbus Sans';text-align:center;letter-spacing:0px;word-spacing:0px;text-anchor:middle;fill:#000000;fill-opacity:1;stroke:none;stroke-width:0.26458332\" xml:space=\"preserve\"><tspan style=\"stroke-width:0.26458332\" y=\"269.7876\" x=\"292.94159\" id=\"tspan1006\" sodipodi:role=\"line\">TemporalObjectT</tspan></text>\n",
       "    <text id=\"text1012\" y=\"285.66257\" x=\"298.35178\" style=\"font-style:normal;font-variant:normal;font-weight:normal;font-stretch:normal;font-size:4.23333311px;line-height:1.10000002;font-family:'Nimbus Sans';-inkscape-font-specification:'Nimbus Sans';text-align:center;letter-spacing:0px;word-spacing:0px;text-anchor:middle;fill:#000000;fill-opacity:1;stroke:none;stroke-width:0.26458332\" xml:space=\"preserve\"><tspan style=\"stroke-width:0.26458332\" y=\"285.66257\" x=\"298.35178\" id=\"tspan1010\" sodipodi:role=\"line\">TemporalObjectTau</tspan></text>\n",
       "    <text xml:space=\"preserve\" style=\"font-style:normal;font-variant:normal;font-weight:normal;font-stretch:normal;font-size:4.23333311px;line-height:1.10000002;font-family:'Nimbus Sans';-inkscape-font-specification:'Nimbus Sans';text-align:center;letter-spacing:0px;word-spacing:0px;text-anchor:middle;fill:#000000;fill-opacity:1;stroke:none;stroke-width:0.26458332\" x=\"-2.0099008\" y=\"283.01596\" id=\"text1060\"><tspan sodipodi:role=\"line\" id=\"tspan1058\" x=\"-2.0099006\" y=\"283.01596\" style=\"stroke-width:0.26458332\">MomentumObject4D</tspan></text>\n",
       "    <path sodipodi:nodetypes=\"cc\" inkscape:connector-curvature=\"0\" id=\"path3406\" d=\"M 12.298736,96.715623 V 118.40107\" style=\"opacity:1;vector-effect:none;fill:none;fill-opacity:1;stroke:#000000;stroke-width:0.52899998;stroke-linecap:butt;stroke-linejoin:miter;stroke-miterlimit:4;stroke-dasharray:none;stroke-dashoffset:0;stroke-opacity:1;marker-end:url(#marker2086)\"/>\n",
       "    <path inkscape:connector-curvature=\"0\" id=\"path3408\" d=\"m 32.215403,92.4393 h 5.56926 l 8.504466,9.5946\" style=\"opacity:1;vector-effect:none;fill:none;fill-opacity:1;stroke:#000000;stroke-width:0.52899998;stroke-linecap:butt;stroke-linejoin:miter;stroke-miterlimit:4;stroke-dasharray:none;stroke-dashoffset:0;stroke-opacity:1;marker-end:url(#marker24599)\" sodipodi:nodetypes=\"ccc\"/>\n",
       "    <path style=\"opacity:1;vector-effect:none;fill:none;fill-opacity:1;stroke:#000000;stroke-width:0.52899998;stroke-linecap:butt;stroke-linejoin:miter;stroke-miterlimit:4;stroke-dasharray:none;stroke-dashoffset:0;stroke-opacity:1;marker-end:url(#marker2564)\" d=\"m -7.7283833,92.4393 h -5.5692587 l -8.504467,9.5946\" id=\"path3410\" inkscape:connector-curvature=\"0\" sodipodi:nodetypes=\"ccc\"/>\n",
       "    <rect y=\"88.162987\" x=\"-7.6077657\" height=\"8.5526276\" width=\"39.823174\" id=\"rect3382\" style=\"opacity:1;vector-effect:none;fill:#fff6d5;fill-opacity:1;fill-rule:evenodd;stroke:#000000;stroke-width:0.52916682;stroke-linecap:butt;stroke-linejoin:miter;stroke-miterlimit:4;stroke-dasharray:none;stroke-dashoffset:0;stroke-opacity:1\"/>\n",
       "    <rect y=\"119.91299\" x=\"-7.6077657\" height=\"8.5526276\" width=\"39.823174\" id=\"rect3384\" style=\"opacity:1;vector-effect:none;fill:#ccffaa;fill-opacity:1;fill-rule:evenodd;stroke:#000000;stroke-width:0.52916682;stroke-linecap:butt;stroke-linejoin:miter;stroke-miterlimit:4;stroke-dasharray:none;stroke-dashoffset:0;stroke-opacity:1;font-variant-east_asian:normal\"/>\n",
       "    <text id=\"text3388\" y=\"93.933662\" x=\"12.161999\" style=\"font-style:normal;font-variant:normal;font-weight:normal;font-stretch:normal;font-size:4.23333311px;line-height:1.10000002;font-family:'Nimbus Sans';-inkscape-font-specification:'Nimbus Sans';text-align:center;letter-spacing:0px;word-spacing:0px;text-anchor:middle;fill:#000000;fill-opacity:1;stroke:none;stroke-width:0.26458332\" xml:space=\"preserve\"><tspan style=\"text-align:center;text-anchor:middle;stroke-width:0.26458332\" y=\"93.933662\" x=\"12.161999\" id=\"tspan3386\" sodipodi:role=\"line\">Vector</tspan></text>\n",
       "    <text id=\"text3392\" y=\"125.29631\" x=\"12.253014\" style=\"font-style:normal;font-variant:normal;font-weight:normal;font-stretch:normal;font-size:4.23333311px;line-height:1.10000002;font-family:'Nimbus Sans';-inkscape-font-specification:'Nimbus Sans';text-align:center;letter-spacing:0px;word-spacing:0px;text-anchor:middle;fill:#000000;fill-opacity:1;stroke:none;stroke-width:0.26458332\" xml:space=\"preserve\"><tspan style=\"text-align:center;text-anchor:middle;stroke-width:0.26458332\" y=\"125.29631\" x=\"12.253014\" id=\"tspan3390\" sodipodi:role=\"line\">Vector3D</tspan></text>\n",
       "    <rect style=\"opacity:1;vector-effect:none;fill:#ccffaa;fill-opacity:1;fill-rule:evenodd;stroke:#000000;stroke-width:0.52916682;stroke-linecap:butt;stroke-linejoin:miter;stroke-miterlimit:4;stroke-dasharray:none;stroke-dashoffset:0;stroke-opacity:1;font-variant-east_asian:normal\" id=\"rect3394\" width=\"39.823174\" height=\"8.5526276\" x=\"26.78804\" y=\"103.50882\"/>\n",
       "    <rect style=\"opacity:1;vector-effect:none;fill:#ccffaa;fill-opacity:1;fill-rule:evenodd;stroke:#000000;stroke-width:0.52916682;stroke-linecap:butt;stroke-linejoin:miter;stroke-miterlimit:4;stroke-dasharray:none;stroke-dashoffset:0;stroke-opacity:1;font-variant-east_asian:normal\" id=\"rect3396\" width=\"39.823174\" height=\"8.5526276\" x=\"-42.003574\" y=\"103.50882\"/>\n",
       "    <text id=\"text3400\" y=\"109.27951\" x=\"-22.259216\" style=\"font-style:normal;font-variant:normal;font-weight:normal;font-stretch:normal;font-size:4.23333311px;line-height:1.10000002;font-family:'Nimbus Sans';-inkscape-font-specification:'Nimbus Sans';text-align:center;letter-spacing:0px;word-spacing:0px;text-anchor:middle;fill:#000000;fill-opacity:1;stroke:none;stroke-width:0.26458332\" xml:space=\"preserve\"><tspan style=\"text-align:center;text-anchor:middle;stroke-width:0.26458332\" y=\"109.27951\" x=\"-22.259216\" id=\"tspan3398\" sodipodi:role=\"line\">Vector2D</tspan></text>\n",
       "    <text id=\"text3404\" y=\"109.27951\" x=\"46.555687\" style=\"font-style:normal;font-variant:normal;font-weight:normal;font-stretch:normal;font-size:4.23333311px;line-height:1.10000002;font-family:'Nimbus Sans';-inkscape-font-specification:'Nimbus Sans';text-align:center;letter-spacing:0px;word-spacing:0px;text-anchor:middle;fill:#000000;fill-opacity:1;stroke:none;stroke-width:0.26458332\" xml:space=\"preserve\"><tspan style=\"text-align:center;text-anchor:middle;stroke-width:0.26458332\" y=\"109.27951\" x=\"46.555687\" id=\"tspan3402\" sodipodi:role=\"line\">Vector4D</tspan></text>\n",
       "    <rect style=\"opacity:1;vector-effect:none;fill:#fff6d5;fill-opacity:1;fill-rule:evenodd;stroke:#000000;stroke-width:0.52916682;stroke-linecap:butt;stroke-linejoin:miter;stroke-miterlimit:4;stroke-dasharray:none;stroke-dashoffset:0;stroke-opacity:1\" id=\"rect1121-9-19-7\" width=\"39.823174\" height=\"8.5526276\" x=\"193.3831\" y=\"88.162987\"/>\n",
       "    <text xml:space=\"preserve\" style=\"font-style:normal;font-variant:normal;font-weight:normal;font-stretch:normal;font-size:4.23333311px;line-height:1.10000002;font-family:'Nimbus Sans';-inkscape-font-specification:'Nimbus Sans';text-align:center;letter-spacing:0px;word-spacing:0px;text-anchor:middle;fill:#000000;fill-opacity:1;stroke:none;stroke-width:0.26458332\" x=\"213.27992\" y=\"93.959068\" id=\"text872\"><tspan sodipodi:role=\"line\" id=\"tspan870\" x=\"213.27992\" y=\"93.959068\" style=\"text-align:center;text-anchor:middle;stroke-width:0.26458332\">Coordinates</tspan></text>\n",
       "    <path inkscape:connector-curvature=\"0\" id=\"path26381\" d=\"M 7.9475553,266.56317 H 2.3782966 l -8.5044669,9.5946\" style=\"opacity:1;vector-effect:none;fill:none;fill-opacity:1;stroke:#000000;stroke-width:0.52899998;stroke-linecap:butt;stroke-linejoin:miter;stroke-miterlimit:4;stroke-dasharray:none;stroke-dashoffset:0;stroke-opacity:1;marker-end:url(#marker25787)\" sodipodi:nodetypes=\"ccc\"/>\n",
       "    <path style=\"opacity:1;vector-effect:none;fill:none;fill-opacity:1;stroke:#000000;stroke-width:0.52899998;stroke-linecap:butt;stroke-linejoin:miter;stroke-miterlimit:4;stroke-dasharray:none;stroke-dashoffset:0;stroke-opacity:1;marker-end:url(#marker26833)\" d=\"m -43.310775,163.25444 h 55.55462 v 7.87106\" id=\"path26383\" inkscape:connector-curvature=\"0\" sodipodi:nodetypes=\"ccc\"/>\n",
       "    <path sodipodi:nodetypes=\"ccc\" inkscape:connector-curvature=\"0\" id=\"path27351\" d=\"m -43.310776,208.28935 h 55.554621 v 7.87106\" style=\"opacity:1;vector-effect:none;fill:none;fill-opacity:1;stroke:#000000;stroke-width:0.52899998;stroke-linecap:butt;stroke-linejoin:miter;stroke-miterlimit:4;stroke-dasharray:none;stroke-dashoffset:0;stroke-opacity:1;marker-end:url(#marker27355)\"/>\n",
       "    <path sodipodi:nodetypes=\"ccc\" inkscape:connector-curvature=\"0\" id=\"path28401\" d=\"m -43.310775,253.32423 h 55.55462 v 7.87106\" style=\"opacity:1;vector-effect:none;fill:none;fill-opacity:1;stroke:#000000;stroke-width:0.52899998;stroke-linecap:butt;stroke-linejoin:miter;stroke-miterlimit:4;stroke-dasharray:none;stroke-dashoffset:0;stroke-opacity:1;marker-end:url(#marker28405)\"/>\n",
       "    <ellipse style=\"opacity:1;vector-effect:none;fill:none;fill-opacity:1;fill-rule:evenodd;stroke:#ff0000;stroke-width:0.52916723;stroke-linecap:butt;stroke-linejoin:miter;stroke-miterlimit:4;stroke-dasharray:none;stroke-dashoffset:0;stroke-opacity:1\" id=\"path29447\" cx=\"64.193535\" cy=\"328.66684\" rx=\"43.535034\" ry=\"29.208042\" transform=\"matrix(0.86272542,-0.50567267,0.50745036,0.86168099,0,0)\"/>\n",
       "    <ellipse style=\"opacity:1;vector-effect:none;fill:none;fill-opacity:1;fill-rule:evenodd;stroke:#ff0000;stroke-width:0.5291667;stroke-linecap:butt;stroke-linejoin:miter;stroke-miterlimit:4;stroke-dasharray:none;stroke-dashoffset:0;stroke-opacity:1\" id=\"path29449\" cx=\"272.81876\" cy=\"296.21799\" rx=\"35.977184\" ry=\"23.595007\" transform=\"rotate(-5.5917247)\"/>\n",
       "    <ellipse style=\"opacity:1;vector-effect:none;fill:none;fill-opacity:1;fill-rule:evenodd;stroke:#ff0000;stroke-width:0.5291667;stroke-linecap:butt;stroke-linejoin:miter;stroke-miterlimit:4;stroke-dasharray:none;stroke-dashoffset:0;stroke-opacity:1\" id=\"path29455\" cx=\"7.5557299\" cy=\"262.71292\" rx=\"32.712872\" ry=\"22.022091\" transform=\"rotate(-34.790871)\"/>\n",
       "    <rect style=\"opacity:1;vector-effect:none;fill:#e5d5ff;fill-opacity:1;fill-rule:evenodd;stroke:#000000;stroke-width:0.52916682;stroke-linecap:butt;stroke-linejoin:miter;stroke-miterlimit:4;stroke-dasharray:none;stroke-dashoffset:0;stroke-opacity:1\" id=\"rect1121-24-6-7\" width=\"51.048477\" height=\"8.5526247\" x=\"7.8862767\" y=\"262.28687\"/>\n",
       "    <text xml:space=\"preserve\" style=\"font-style:normal;font-variant:normal;font-weight:normal;font-stretch:normal;font-size:4.23333311px;line-height:1.10000002;font-family:'Nimbus Sans';-inkscape-font-specification:'Nimbus Sans';text-align:center;letter-spacing:0px;word-spacing:0px;text-anchor:middle;fill:#000000;fill-opacity:1;stroke:none;stroke-width:0.26458332\" x=\"33.291981\" y=\"267.67017\" id=\"text1056\"><tspan sodipodi:role=\"line\" id=\"tspan1054\" x=\"33.291981\" y=\"267.67017\" style=\"stroke-width:0.26458332\">VectorObject4D</tspan></text>\n",
       "    <rect style=\"opacity:1;vector-effect:none;fill:#fff6d5;fill-opacity:1;fill-rule:evenodd;stroke:#000000;stroke-width:0.52916682;stroke-linecap:butt;stroke-linejoin:miter;stroke-miterlimit:4;stroke-dasharray:none;stroke-dashoffset:0;stroke-opacity:1\" id=\"rect1121-24-6-9\" width=\"51.048477\" height=\"8.5526247\" x=\"-27.4918\" y=\"232.59784\"/>\n",
       "    <rect style=\"opacity:1;vector-effect:none;fill:#e5d5ff;fill-opacity:1;fill-rule:evenodd;stroke:#000000;stroke-width:0.52916682;stroke-linecap:butt;stroke-linejoin:miter;stroke-miterlimit:4;stroke-dasharray:none;stroke-dashoffset:0;stroke-opacity:1\" id=\"rect1121-24-6-96\" width=\"51.048477\" height=\"8.5526247\" x=\"7.8862767\" y=\"217.25198\"/>\n",
       "    <text id=\"text1044\" y=\"222.63531\" x=\"33.359715\" style=\"font-style:normal;font-variant:normal;font-weight:normal;font-stretch:normal;font-size:4.23333311px;line-height:1.10000002;font-family:'Nimbus Sans';-inkscape-font-specification:'Nimbus Sans';text-align:center;letter-spacing:0px;word-spacing:0px;text-anchor:middle;fill:#000000;fill-opacity:1;stroke:none;stroke-width:0.26458332\" xml:space=\"preserve\"><tspan style=\"stroke-width:0.26458332\" y=\"222.63531\" x=\"33.359715\" id=\"tspan1042\" sodipodi:role=\"line\">VectorObject3D</tspan></text>\n",
       "    <text id=\"text1048\" y=\"237.98117\" x=\"-2.0099008\" style=\"font-style:normal;font-variant:normal;font-weight:normal;font-stretch:normal;font-size:4.23333311px;line-height:1.10000002;font-family:'Nimbus Sans';-inkscape-font-specification:'Nimbus Sans';text-align:center;letter-spacing:0px;word-spacing:0px;text-anchor:middle;fill:#000000;fill-opacity:1;stroke:none;stroke-width:0.26458332\" xml:space=\"preserve\"><tspan style=\"stroke-width:0.26458332\" y=\"237.98117\" x=\"-2.0099006\" id=\"tspan1046\" sodipodi:role=\"line\">MomentumObject3D</tspan></text>\n",
       "    <path style=\"opacity:1;vector-effect:none;fill:none;fill-opacity:1;stroke:#000000;stroke-width:0.52899998;stroke-linecap:butt;stroke-linejoin:miter;stroke-miterlimit:4;stroke-dasharray:none;stroke-dashoffset:0;stroke-opacity:1;marker-end:url(#marker29957)\" d=\"M 7.9475553,221.5283 H 2.3782966 l -8.5044669,9.5946\" id=\"path26375\" inkscape:connector-curvature=\"0\" sodipodi:nodetypes=\"ccc\"/>\n",
       "    <path sodipodi:nodetypes=\"ccc\" style=\"opacity:1;vector-effect:none;fill:none;fill-opacity:1;stroke:#ff0000;stroke-width:0.52899998;stroke-linecap:butt;stroke-linejoin:miter;stroke-miterlimit:4;stroke-dasharray:none;stroke-dashoffset:0;stroke-opacity:1;marker-end:url(#marker3325)\" d=\"M 127.94794,212.15705 H 48.536828 v -29.89389\" id=\"path30427\" inkscape:connector-curvature=\"0\"/>\n",
       "    <rect style=\"opacity:1;vector-effect:none;fill:#fff6d5;fill-opacity:1;fill-rule:evenodd;stroke:#000000;stroke-width:0.52916682;stroke-linecap:butt;stroke-linejoin:miter;stroke-miterlimit:4;stroke-dasharray:none;stroke-dashoffset:0;stroke-opacity:1\" id=\"rect1121-24-6-76\" width=\"51.048477\" height=\"8.5526247\" x=\"-27.4918\" y=\"187.56293\"/>\n",
       "    <rect style=\"opacity:1;vector-effect:none;fill:#e5d5ff;fill-opacity:1;fill-rule:evenodd;stroke:#000000;stroke-width:0.52916682;stroke-linecap:butt;stroke-linejoin:miter;stroke-miterlimit:4;stroke-dasharray:none;stroke-dashoffset:0;stroke-opacity:1\" id=\"rect1121-24-6-1\" width=\"51.048477\" height=\"8.5526247\" x=\"7.8862767\" y=\"172.21707\"/>\n",
       "    <text xml:space=\"preserve\" style=\"font-style:normal;font-variant:normal;font-weight:normal;font-stretch:normal;font-size:4.23333311px;line-height:1.10000002;font-family:'Nimbus Sans';-inkscape-font-specification:'Nimbus Sans';text-align:center;letter-spacing:0px;word-spacing:0px;text-anchor:middle;fill:#000000;fill-opacity:1;stroke:none;stroke-width:0.26458332\" x=\"33.268696\" y=\"177.6004\" id=\"text1020\"><tspan sodipodi:role=\"line\" id=\"tspan1018\" x=\"33.268696\" y=\"177.6004\" style=\"stroke-width:0.26458332\">VectorObject2D</tspan></text>\n",
       "    <text xml:space=\"preserve\" style=\"font-style:normal;font-variant:normal;font-weight:normal;font-stretch:normal;font-size:4.23333311px;line-height:1.10000002;font-family:'Nimbus Sans';-inkscape-font-specification:'Nimbus Sans';text-align:center;letter-spacing:0px;word-spacing:0px;text-anchor:middle;fill:#000000;fill-opacity:1;stroke:none;stroke-width:0.26458332\" x=\"-2.0099008\" y=\"192.94626\" id=\"text1024\"><tspan sodipodi:role=\"line\" id=\"tspan1022\" x=\"-2.0099006\" y=\"192.94626\" style=\"stroke-width:0.26458332\">MomentumObject2D</tspan></text>\n",
       "    <path inkscape:connector-curvature=\"0\" id=\"path25783\" d=\"M 7.9475553,176.49339 H 2.3782966 l -8.5044669,9.5946\" style=\"opacity:1;vector-effect:none;fill:none;fill-opacity:1;stroke:#000000;stroke-width:0.52899998;stroke-linecap:butt;stroke-linejoin:miter;stroke-miterlimit:4;stroke-dasharray:none;stroke-dashoffset:0;stroke-opacity:1;marker-end:url(#marker30431)\" sodipodi:nodetypes=\"ccc\"/>\n",
       "    <rect y=\"96.911095\" x=\"269.72025\" height=\"8.5526123\" width=\"14.120792\" id=\"rect43970\" style=\"opacity:1;vector-effect:none;fill:#ccffaa;fill-opacity:1;fill-rule:evenodd;stroke:#000000;stroke-width:0.52916682;stroke-linecap:butt;stroke-linejoin:miter;stroke-miterlimit:4;stroke-dasharray:none;stroke-dashoffset:0;stroke-opacity:1\"/>\n",
       "    <text xml:space=\"preserve\" style=\"font-style:normal;font-variant:normal;font-weight:normal;font-stretch:normal;font-size:4.23333311px;line-height:1.10000002;font-family:'Nimbus Sans';-inkscape-font-specification:'Nimbus Sans';text-align:start;letter-spacing:0px;word-spacing:0px;text-anchor:start;fill:#000000;fill-opacity:1;stroke:none;stroke-width:0.26458332\" x=\"287.70682\" y=\"102.6881\" id=\"text43974\"><tspan sodipodi:role=\"line\" id=\"tspan43972\" x=\"287.70682\" y=\"102.6881\" style=\"stroke-width:0.26458332\">user interface methods</tspan></text>\n",
       "    <rect style=\"opacity:1;vector-effect:none;fill:#fff6d5;fill-opacity:1;fill-rule:evenodd;stroke:#000000;stroke-width:0.52916682;stroke-linecap:butt;stroke-linejoin:miter;stroke-miterlimit:4;stroke-dasharray:none;stroke-dashoffset:0;stroke-opacity:1\" id=\"rect43976\" width=\"14.120792\" height=\"8.5526123\" x=\"269.72025\" y=\"86.327782\"/>\n",
       "    <text id=\"text43980\" y=\"92.10479\" x=\"287.70682\" style=\"font-style:normal;font-variant:normal;font-weight:normal;font-stretch:normal;font-size:4.23333311px;line-height:1.10000002;font-family:'Nimbus Sans';-inkscape-font-specification:'Nimbus Sans';text-align:start;letter-spacing:0px;word-spacing:0px;text-anchor:start;fill:#000000;fill-opacity:1;stroke:none;stroke-width:0.26458332\" xml:space=\"preserve\"><tspan style=\"stroke-width:0.26458332\" y=\"92.10479\" x=\"287.70682\" id=\"tspan43978\" sodipodi:role=\"line\">mix-in class or superclass</tspan></text>\n",
       "    <rect style=\"opacity:1;vector-effect:none;fill:#e5d5ff;fill-opacity:1;fill-rule:evenodd;stroke:#000000;stroke-width:0.52916682;stroke-linecap:butt;stroke-linejoin:miter;stroke-miterlimit:4;stroke-dasharray:none;stroke-dashoffset:0;stroke-opacity:1\" id=\"rect2462\" width=\"14.120792\" height=\"8.5526123\" x=\"269.72025\" y=\"107.49441\"/>\n",
       "    <text id=\"text2466\" y=\"113.27142\" x=\"287.70682\" style=\"font-style:normal;font-variant:normal;font-weight:normal;font-stretch:normal;font-size:4.23333311px;line-height:1.10000002;font-family:'Nimbus Sans';-inkscape-font-specification:'Nimbus Sans';text-align:start;letter-spacing:0px;word-spacing:0px;text-anchor:start;fill:#000000;fill-opacity:1;stroke:none;stroke-width:0.26458332\" xml:space=\"preserve\"><tspan style=\"stroke-width:0.26458332\" y=\"113.27142\" x=\"287.70682\" id=\"tspan2464\" sodipodi:role=\"line\">has data members</tspan></text>\n",
       "    <rect style=\"opacity:1;vector-effect:none;fill:none;fill-opacity:1;fill-rule:evenodd;stroke:#000000;stroke-width:0.5291667;stroke-linecap:butt;stroke-linejoin:miter;stroke-miterlimit:4;stroke-dasharray:none;stroke-dashoffset:0;stroke-opacity:1\" id=\"rect2966\" width=\"76.511024\" height=\"56.504177\" x=\"265.922\" y=\"83.04454\"/>\n",
       "    <path inkscape:connector-curvature=\"0\" id=\"path8778\" d=\"M 182.02309,257.06481 H 48.536828 v -29.89389\" style=\"opacity:1;vector-effect:none;fill:none;fill-opacity:1;stroke:#ff0000;stroke-width:0.52899998;stroke-linecap:butt;stroke-linejoin:miter;stroke-miterlimit:4;stroke-dasharray:none;stroke-dashoffset:0;stroke-opacity:1;marker-end:url(#marker4783)\" sodipodi:nodetypes=\"ccc\"/>\n",
       "    <path style=\"opacity:1;vector-effect:none;fill:none;fill-opacity:1;stroke:#000000;stroke-width:0.52899998;stroke-linecap:butt;stroke-linejoin:miter;stroke-miterlimit:4;stroke-dasharray:none;stroke-dashoffset:0;stroke-opacity:1;marker-end:url(#marker59953)\" d=\"m 269.72025,122.35405 h 14.12079\" id=\"path8799\" inkscape:connector-curvature=\"0\"/>\n",
       "    <text xml:space=\"preserve\" style=\"font-style:normal;font-variant:normal;font-weight:normal;font-stretch:normal;font-size:4.23333311px;line-height:1.10000002;font-family:'Nimbus Sans';-inkscape-font-specification:'Nimbus Sans';text-align:start;letter-spacing:0px;word-spacing:0px;text-anchor:start;fill:#000000;fill-opacity:1;stroke:none;stroke-width:0.26458332\" x=\"287.70682\" y=\"123.85475\" id=\"text8808\"><tspan sodipodi:role=\"line\" id=\"tspan8806\" x=\"287.70682\" y=\"123.85475\" style=\"stroke-width:0.26458332\">class inheritance</tspan></text>\n",
       "    <path style=\"opacity:1;vector-effect:none;fill:none;fill-opacity:1;stroke:#000000;stroke-width:0.52899998;stroke-linecap:butt;stroke-linejoin:miter;stroke-miterlimit:4;stroke-dasharray:none;stroke-dashoffset:0;stroke-opacity:1;marker-end:url(#marker21457)\" d=\"M 251.44171,196.97965 229.9586,221.46839\" id=\"path21078\" inkscape:connector-curvature=\"0\" sodipodi:nodetypes=\"cc\"/>\n",
       "    <path style=\"opacity:1;vector-effect:none;fill:none;fill-opacity:1;stroke:#000000;stroke-width:0.52899998;stroke-linecap:butt;stroke-linejoin:miter;stroke-miterlimit:4;stroke-dasharray:none;stroke-dashoffset:0;stroke-opacity:1;marker-end:url(#marker20710)\" d=\"m 251.44171,196.97965 50.42876,49.61427\" id=\"path20343\" inkscape:connector-curvature=\"0\" sodipodi:nodetypes=\"cc\"/>\n",
       "    <path style=\"opacity:1;vector-effect:none;fill:none;fill-opacity:1;stroke:#000000;stroke-width:0.52899998;stroke-linecap:butt;stroke-linejoin:miter;stroke-miterlimit:4;stroke-dasharray:none;stroke-dashoffset:0;stroke-opacity:1;marker-end:url(#marker19514)\" d=\"M 251.44171,196.97965 H 187.27145\" id=\"path19501\" inkscape:connector-curvature=\"0\" sodipodi:nodetypes=\"cc\"/>\n",
       "    <rect style=\"opacity:1;vector-effect:none;fill:#fff6d5;fill-opacity:1;fill-rule:evenodd;stroke:#000000;stroke-width:0.52916682;stroke-linecap:butt;stroke-linejoin:miter;stroke-miterlimit:4;stroke-dasharray:none;stroke-dashoffset:0;stroke-opacity:1\" id=\"rect1121-24-6-69\" width=\"51.048477\" height=\"8.5526247\" x=\"225.91747\" y=\"192.70334\"/>\n",
       "    <text xml:space=\"preserve\" style=\"font-style:normal;font-variant:normal;font-weight:normal;font-stretch:normal;font-size:4.23333311px;line-height:1.10000002;font-family:'Nimbus Sans';-inkscape-font-specification:'Nimbus Sans';text-align:center;letter-spacing:0px;word-spacing:0px;text-anchor:middle;fill:#000000;fill-opacity:1;stroke:none;stroke-width:0.26458332\" x=\"251.3909\" y=\"198.08667\" id=\"text1016\"><tspan sodipodi:role=\"line\" id=\"tspan1014\" x=\"251.3909\" y=\"198.08667\" style=\"stroke-width:0.26458332\">CoordinatesObject</tspan></text>\n",
       "    <path sodipodi:nodetypes=\"cc\" inkscape:connector-curvature=\"0\" id=\"path6230\" d=\"m 201.34459,131.27503 v 21.82812\" style=\"opacity:1;vector-effect:none;fill:none;fill-opacity:1;stroke:#000000;stroke-width:0.52899998;stroke-linecap:butt;stroke-linejoin:miter;stroke-miterlimit:4;stroke-dasharray:none;stroke-dashoffset:0;stroke-opacity:1;marker-end:url(#marker6234)\"/>\n",
       "    <path style=\"opacity:1;vector-effect:none;fill:none;fill-opacity:1;stroke:#000000;stroke-width:0.52899998;stroke-linecap:butt;stroke-linejoin:miter;stroke-miterlimit:4;stroke-dasharray:none;stroke-dashoffset:0;stroke-opacity:1;marker-end:url(#marker6384)\" d=\"m 197.11126,131.27503 v 11.24478\" id=\"path6380\" inkscape:connector-curvature=\"0\" sodipodi:nodetypes=\"cc\"/>\n",
       "    <rect style=\"opacity:1;vector-effect:none;fill:#fff6d5;fill-opacity:1;fill-rule:evenodd;stroke:#000000;stroke-width:0.52916682;stroke-linecap:butt;stroke-linejoin:miter;stroke-miterlimit:4;stroke-dasharray:none;stroke-dashoffset:0;stroke-opacity:1\" id=\"rect1121-9-19-3\" width=\"39.823174\" height=\"8.5526276\" x=\"159.07889\" y=\"143.77917\"/>\n",
       "    <rect style=\"opacity:1;vector-effect:none;fill:#fff6d5;fill-opacity:1;fill-rule:evenodd;stroke:#000000;stroke-width:0.52916682;stroke-linecap:butt;stroke-linejoin:miter;stroke-miterlimit:4;stroke-dasharray:none;stroke-dashoffset:0;stroke-opacity:1\" id=\"rect1121-9-19-2\" width=\"39.823174\" height=\"8.5526276\" x=\"165.95804\" y=\"154.36253\"/>\n",
       "    <rect style=\"opacity:1;vector-effect:none;fill:#fff6d5;fill-opacity:1;fill-rule:evenodd;stroke:#000000;stroke-width:0.52916682;stroke-linecap:butt;stroke-linejoin:miter;stroke-miterlimit:4;stroke-dasharray:none;stroke-dashoffset:0;stroke-opacity:1\" id=\"rect1121-9-19-4\" width=\"39.823174\" height=\"8.5526276\" x=\"146.90804\" y=\"133.19582\"/>\n",
       "    <text xml:space=\"preserve\" style=\"font-style:normal;font-variant:normal;font-weight:normal;font-stretch:normal;font-size:4.23333311px;line-height:1.10000002;font-family:'Nimbus Sans';-inkscape-font-specification:'Nimbus Sans';text-align:center;letter-spacing:0px;word-spacing:0px;text-anchor:middle;fill:#000000;fill-opacity:1;stroke:none;stroke-width:0.26458332\" x=\"166.70961\" y=\"138.55376\" id=\"text896\"><tspan sodipodi:role=\"line\" id=\"tspan894\" x=\"166.70961\" y=\"138.55376\" style=\"stroke-width:0.26458332\">LongitudinalZ</tspan></text>\n",
       "    <text xml:space=\"preserve\" style=\"font-style:normal;font-variant:normal;font-weight:normal;font-stretch:normal;font-size:4.23333311px;line-height:1.10000002;font-family:'Nimbus Sans';-inkscape-font-specification:'Nimbus Sans';text-align:center;letter-spacing:0px;word-spacing:0px;text-anchor:middle;fill:#000000;fill-opacity:1;stroke:none;stroke-width:0.26458332\" x=\"178.86563\" y=\"149.1371\" id=\"text900\"><tspan sodipodi:role=\"line\" id=\"tspan898\" x=\"178.86563\" y=\"149.1371\" style=\"stroke-width:0.26458332\">LongitudinalTheta</tspan></text>\n",
       "    <text xml:space=\"preserve\" style=\"font-style:normal;font-variant:normal;font-weight:normal;font-stretch:normal;font-size:4.23333311px;line-height:1.10000002;font-family:'Nimbus Sans';-inkscape-font-specification:'Nimbus Sans';text-align:center;letter-spacing:0px;word-spacing:0px;text-anchor:middle;fill:#000000;fill-opacity:1;stroke:none;stroke-width:0.26458332\" x=\"185.74481\" y=\"159.72046\" id=\"text904\"><tspan sodipodi:role=\"line\" id=\"tspan902\" x=\"185.74481\" y=\"159.72046\" style=\"stroke-width:0.26458332\">LongitudinalEta</tspan></text>\n",
       "    <path inkscape:connector-curvature=\"0\" id=\"path4104\" d=\"m 193.46209,131.16956 v 6.61458 h -5.66964\" style=\"opacity:1;vector-effect:none;fill:none;fill-opacity:1;stroke:#000000;stroke-width:0.52899998;stroke-linecap:butt;stroke-linejoin:miter;stroke-miterlimit:4;stroke-dasharray:none;stroke-dashoffset:0;stroke-opacity:1;marker-end:url(#marker4110)\"/>\n",
       "    <rect y=\"151.0504\" x=\"52.865456\" height=\"8.5526247\" width=\"51.048477\" id=\"rect40765\" style=\"opacity:1;vector-effect:none;fill:#fff6d5;fill-opacity:1;fill-rule:evenodd;stroke:#000000;stroke-width:0.52916682;stroke-linecap:butt;stroke-linejoin:miter;stroke-miterlimit:4;stroke-dasharray:none;stroke-dashoffset:0;stroke-opacity:1\"/>\n",
       "    <text id=\"text40769\" y=\"156.43373\" x=\"78.247864\" style=\"font-style:normal;font-variant:normal;font-weight:normal;font-stretch:normal;font-size:4.23333311px;line-height:1.10000002;font-family:'Nimbus Sans';-inkscape-font-specification:'Nimbus Sans';text-align:center;letter-spacing:0px;word-spacing:0px;text-anchor:middle;fill:#000000;fill-opacity:1;stroke:none;stroke-width:0.26458332\" xml:space=\"preserve\"><tspan style=\"stroke-width:0.26458332\" y=\"156.43373\" x=\"78.247864\" id=\"tspan40767\" sodipodi:role=\"line\">VectorObject</tspan></text>\n",
       "    <path inkscape:connector-curvature=\"0\" id=\"path59247\" d=\"M 283.84104,132.93739 H 269.72025\" style=\"opacity:1;vector-effect:none;fill:none;fill-opacity:1;stroke:#ff0000;stroke-width:0.52899998;stroke-linecap:butt;stroke-linejoin:miter;stroke-miterlimit:4;stroke-dasharray:none;stroke-dashoffset:0;stroke-opacity:1;marker-end:url(#marker10961)\" sodipodi:nodetypes=\"cc\"/>\n",
       "    <text id=\"text59251\" y=\"134.4381\" x=\"287.70682\" style=\"font-style:normal;font-variant:normal;font-weight:normal;font-stretch:normal;font-size:4.23333311px;line-height:1.10000002;font-family:'Nimbus Sans';-inkscape-font-specification:'Nimbus Sans';text-align:start;letter-spacing:0px;word-spacing:0px;text-anchor:start;fill:#000000;fill-opacity:1;stroke:none;stroke-width:0.26458332\" xml:space=\"preserve\"><tspan style=\"stroke-width:0.26458332\" y=\"134.4381\" x=\"287.70682\" id=\"tspan59249\" sodipodi:role=\"line\">contains object as member</tspan></text>\n",
       "    <text xml:space=\"preserve\" style=\"font-style:normal;font-variant:normal;font-weight:normal;font-stretch:normal;font-size:4.23333311px;line-height:1.25;font-family:'Nimbus Sans';-inkscape-font-specification:'Nimbus Sans';font-variant-ligatures:normal;font-variant-position:normal;font-variant-caps:normal;font-variant-numeric:normal;font-variant-alternates:normal;font-feature-settings:normal;text-indent:0;text-align:center;text-decoration:none;text-decoration-line:none;text-decoration-style:solid;text-decoration-color:#000000;letter-spacing:0px;word-spacing:0px;text-transform:none;writing-mode:lr-tb;direction:ltr;text-orientation:mixed;dominant-baseline:auto;baseline-shift:baseline;text-anchor:middle;white-space:normal;shape-padding:0;opacity:1;vector-effect:none;fill:#000000;fill-opacity:1;stroke:none;stroke-width:0.26458332;stroke-linecap:butt;stroke-linejoin:miter;stroke-miterlimit:4;stroke-dasharray:none;stroke-dashoffset:0;stroke-opacity:1\" x=\"282.0047\" y=\"156.83492\" id=\"text61895\"><tspan sodipodi:role=\"line\" id=\"tspan61893\" x=\"282.0047\" y=\"156.83492\" style=\"font-style:normal;font-variant:normal;font-weight:normal;font-stretch:normal;font-size:4.23333311px;line-height:1.25;font-family:'Nimbus Sans';-inkscape-font-specification:'Nimbus Sans';font-variant-ligatures:normal;font-variant-position:normal;font-variant-caps:normal;font-variant-numeric:normal;font-variant-alternates:normal;font-feature-settings:normal;text-indent:0;text-align:start;text-decoration:none;text-decoration-line:none;text-decoration-style:solid;text-decoration-color:#000000;letter-spacing:0px;word-spacing:0px;text-transform:none;writing-mode:lr-tb;direction:ltr;text-orientation:mixed;dominant-baseline:auto;baseline-shift:baseline;text-anchor:start;white-space:normal;shape-padding:0;vector-effect:none;fill:#000000;fill-opacity:1;stroke:none;stroke-width:0.26458332;stroke-linecap:butt;stroke-linejoin:miter;stroke-miterlimit:4;stroke-dasharray:none;stroke-dashoffset:0;stroke-opacity:1\">&quot;Object&quot; is one backend.</tspan><tspan sodipodi:role=\"line\" x=\"282.0047\" y=\"162.12659\" style=\"font-style:normal;font-variant:normal;font-weight:normal;font-stretch:normal;font-size:4.23333311px;line-height:1.25;font-family:'Nimbus Sans';-inkscape-font-specification:'Nimbus Sans';font-variant-ligatures:normal;font-variant-position:normal;font-variant-caps:normal;font-variant-numeric:normal;font-variant-alternates:normal;font-feature-settings:normal;text-indent:0;text-align:start;text-decoration:none;text-decoration-line:none;text-decoration-style:solid;text-decoration-color:#000000;letter-spacing:0px;word-spacing:0px;text-transform:none;writing-mode:lr-tb;direction:ltr;text-orientation:mixed;dominant-baseline:auto;baseline-shift:baseline;text-anchor:start;white-space:normal;shape-padding:0;vector-effect:none;fill:#000000;fill-opacity:1;stroke:none;stroke-width:0.26458332;stroke-linecap:butt;stroke-linejoin:miter;stroke-miterlimit:4;stroke-dasharray:none;stroke-dashoffset:0;stroke-opacity:1\" id=\"tspan61913\">For other backends, replace</tspan><tspan sodipodi:role=\"line\" x=\"282.0047\" y=\"167.41824\" style=\"font-style:normal;font-variant:normal;font-weight:normal;font-stretch:normal;font-size:4.23333311px;line-height:1.25;font-family:'Nimbus Sans';-inkscape-font-specification:'Nimbus Sans';font-variant-ligatures:normal;font-variant-position:normal;font-variant-caps:normal;font-variant-numeric:normal;font-variant-alternates:normal;font-feature-settings:normal;text-indent:0;text-align:start;text-decoration:none;text-decoration-line:none;text-decoration-style:solid;text-decoration-color:#000000;letter-spacing:0px;word-spacing:0px;text-transform:none;writing-mode:lr-tb;direction:ltr;text-orientation:mixed;dominant-baseline:auto;baseline-shift:baseline;text-anchor:start;white-space:normal;shape-padding:0;vector-effect:none;fill:#000000;fill-opacity:1;stroke:none;stroke-width:0.26458332;stroke-linecap:butt;stroke-linejoin:miter;stroke-miterlimit:4;stroke-dasharray:none;stroke-dashoffset:0;stroke-opacity:1\" id=\"tspan61915\">with &quot;Numpy&quot;, &quot;Awkward&quot;, etc.</tspan></text>\n",
       "    <text xml:space=\"preserve\" style=\"font-style:normal;font-variant:normal;font-weight:normal;font-stretch:normal;font-size:4.23333311px;line-height:1.10000002;font-family:'Nimbus Sans';-inkscape-font-specification:'Nimbus Sans';text-align:start;letter-spacing:0px;word-spacing:0px;text-anchor:start;fill:#000000;fill-opacity:1;stroke:none;stroke-width:0.26458332\" x=\"316.40961\" y=\"174.62851\" id=\"text61928\"><tspan sodipodi:role=\"line\" id=\"tspan61926\" x=\"316.40961\" y=\"177.92627\" style=\"stroke-width:0.26458332\"/></text>\n",
       "    <text xml:space=\"preserve\" style=\"font-style:normal;font-variant:normal;font-weight:normal;font-stretch:normal;font-size:4.23333311px;line-height:1.10000002;font-family:'Nimbus Sans';-inkscape-font-specification:'Nimbus Sans';font-variant-ligatures:normal;font-variant-position:normal;font-variant-caps:normal;font-variant-numeric:normal;font-variant-alternates:normal;font-feature-settings:normal;text-indent:0;text-align:center;text-decoration:none;text-decoration-line:none;text-decoration-style:solid;text-decoration-color:#000000;letter-spacing:0px;word-spacing:0px;text-transform:none;writing-mode:lr-tb;direction:ltr;text-orientation:mixed;dominant-baseline:auto;baseline-shift:baseline;text-anchor:middle;white-space:normal;shape-padding:0;opacity:1;vector-effect:none;fill:#ff0000;fill-opacity:1;stroke:none;stroke-width:0.26458332;stroke-linecap:butt;stroke-linejoin:miter;stroke-miterlimit:4;stroke-dasharray:none;stroke-dashoffset:0;stroke-opacity:1\" x=\"93.546646\" y=\"299.36368\" id=\"text8788\"><tspan sodipodi:role=\"line\" id=\"tspan8786\" x=\"93.546646\" y=\"299.36368\" style=\"font-style:normal;font-variant:normal;font-weight:normal;font-stretch:normal;font-size:4.23333311px;line-height:1.10000002;font-family:'Nimbus Sans';-inkscape-font-specification:'Nimbus Sans';font-variant-ligatures:normal;font-variant-position:normal;font-variant-caps:normal;font-variant-numeric:normal;font-variant-alternates:normal;font-feature-settings:normal;text-indent:0;text-align:center;text-decoration:none;text-decoration-line:none;text-decoration-style:solid;text-decoration-color:#000000;letter-spacing:0px;word-spacing:0px;text-transform:none;writing-mode:lr-tb;direction:ltr;text-orientation:mixed;dominant-baseline:auto;baseline-shift:baseline;text-anchor:middle;white-space:normal;shape-padding:0;vector-effect:none;fill:#ff0000;fill-opacity:1;stroke:none;stroke-width:0.26458332;stroke-linecap:butt;stroke-linejoin:miter;stroke-miterlimit:4;stroke-dasharray:none;stroke-dashoffset:0;stroke-opacity:1\">contains azimuthal, longitudinal, and temporal</tspan></text>\n",
       "    <rect style=\"opacity:1;vector-effect:none;fill:#f2f2f2;fill-opacity:1;fill-rule:evenodd;stroke:none;stroke-width:0.5291667;stroke-linecap:butt;stroke-linejoin:miter;stroke-miterlimit:4;stroke-dasharray:none;stroke-dashoffset:0;stroke-opacity:1\" id=\"rect62314\" width=\"9.8889723\" height=\"5.2117558\" x=\"75.143829\" y=\"205.04494\"/>\n",
       "    <text xml:space=\"preserve\" style=\"font-style:normal;font-variant:normal;font-weight:normal;font-stretch:normal;font-size:4.23333311px;line-height:1.10000002;font-family:'Nimbus Sans';-inkscape-font-specification:'Nimbus Sans';font-variant-ligatures:normal;font-variant-position:normal;font-variant-caps:normal;font-variant-numeric:normal;font-variant-alternates:normal;font-feature-settings:normal;text-indent:0;text-align:center;text-decoration:none;text-decoration-line:none;text-decoration-style:solid;text-decoration-color:#000000;letter-spacing:0px;word-spacing:0px;text-transform:none;writing-mode:lr-tb;direction:ltr;text-orientation:mixed;dominant-baseline:auto;baseline-shift:baseline;text-anchor:middle;white-space:normal;shape-padding:0;opacity:1;vector-effect:none;fill:#ff0000;fill-opacity:1;stroke:none;stroke-width:0.26458332;stroke-linecap:butt;stroke-linejoin:miter;stroke-miterlimit:4;stroke-dasharray:none;stroke-dashoffset:0;stroke-opacity:1\" x=\"68.250412\" y=\"209.1954\" id=\"text30917\"><tspan sodipodi:role=\"line\" id=\"tspan30915\" x=\"68.250412\" y=\"209.1954\" style=\"font-style:normal;font-variant:normal;font-weight:normal;font-stretch:normal;font-size:4.23333311px;line-height:1.10000002;font-family:'Nimbus Sans';-inkscape-font-specification:'Nimbus Sans';font-variant-ligatures:normal;font-variant-position:normal;font-variant-caps:normal;font-variant-numeric:normal;font-variant-alternates:normal;font-feature-settings:normal;text-indent:0;text-align:center;text-decoration:none;text-decoration-line:none;text-decoration-style:solid;text-decoration-color:#000000;letter-spacing:0px;word-spacing:0px;text-transform:none;writing-mode:lr-tb;direction:ltr;text-orientation:mixed;dominant-baseline:auto;baseline-shift:baseline;text-anchor:middle;white-space:normal;shape-padding:0;vector-effect:none;fill:#ff0000;fill-opacity:1;stroke:none;stroke-width:0.26458332;stroke-linecap:butt;stroke-linejoin:miter;stroke-miterlimit:4;stroke-dasharray:none;stroke-dashoffset:0;stroke-opacity:1\">contains azimuthal</tspan></text>\n",
       "    <rect y=\"250.02419\" x=\"75.143829\" height=\"5.2117558\" width=\"9.8889723\" id=\"rect62321\" style=\"opacity:1;vector-effect:none;fill:#f2f2f2;fill-opacity:1;fill-rule:evenodd;stroke:none;stroke-width:0.5291667;stroke-linecap:butt;stroke-linejoin:miter;stroke-miterlimit:4;stroke-dasharray:none;stroke-dashoffset:0;stroke-opacity:1\"/>\n",
       "    <text id=\"text8782\" y=\"254.10316\" x=\"83.655487\" style=\"font-style:normal;font-variant:normal;font-weight:normal;font-stretch:normal;font-size:4.23333311px;line-height:1.10000002;font-family:'Nimbus Sans';-inkscape-font-specification:'Nimbus Sans';font-variant-ligatures:normal;font-variant-position:normal;font-variant-caps:normal;font-variant-numeric:normal;font-variant-alternates:normal;font-feature-settings:normal;text-indent:0;text-align:center;text-decoration:none;text-decoration-line:none;text-decoration-style:solid;text-decoration-color:#000000;letter-spacing:0px;word-spacing:0px;text-transform:none;writing-mode:lr-tb;direction:ltr;text-orientation:mixed;dominant-baseline:auto;baseline-shift:baseline;text-anchor:middle;white-space:normal;shape-padding:0;opacity:1;vector-effect:none;fill:#ff0000;fill-opacity:1;stroke:none;stroke-width:0.26458332;stroke-linecap:butt;stroke-linejoin:miter;stroke-miterlimit:4;stroke-dasharray:none;stroke-dashoffset:0;stroke-opacity:1\" xml:space=\"preserve\"><tspan style=\"font-style:normal;font-variant:normal;font-weight:normal;font-stretch:normal;font-size:4.23333311px;line-height:1.10000002;font-family:'Nimbus Sans';-inkscape-font-specification:'Nimbus Sans';font-variant-ligatures:normal;font-variant-position:normal;font-variant-caps:normal;font-variant-numeric:normal;font-variant-alternates:normal;font-feature-settings:normal;text-indent:0;text-align:center;text-decoration:none;text-decoration-line:none;text-decoration-style:solid;text-decoration-color:#000000;letter-spacing:0px;word-spacing:0px;text-transform:none;writing-mode:lr-tb;direction:ltr;text-orientation:mixed;dominant-baseline:auto;baseline-shift:baseline;text-anchor:middle;white-space:normal;shape-padding:0;vector-effect:none;fill:#ff0000;fill-opacity:1;stroke:none;stroke-width:0.26458332;stroke-linecap:butt;stroke-linejoin:miter;stroke-miterlimit:4;stroke-dasharray:none;stroke-dashoffset:0;stroke-opacity:1\" y=\"254.10316\" x=\"83.655487\" id=\"tspan8780\" sodipodi:role=\"line\">contains azimuthal and longitudinal</tspan></text>\n",
       "    <path style=\"opacity:1;vector-effect:none;fill:none;fill-opacity:1;stroke:#ff0000;stroke-width:0.52899998;stroke-linecap:butt;stroke-linejoin:miter;stroke-miterlimit:4;stroke-dasharray:none;stroke-dashoffset:0;stroke-opacity:1;marker-end:url(#marker9208)\" d=\"M 208.40292,284.28771 V 301.2669\" id=\"path2599\" inkscape:connector-curvature=\"0\" sodipodi:nodetypes=\"cc\"/>\n",
       "    <path style=\"opacity:1;vector-effect:none;fill:none;fill-opacity:1;stroke:#ff0000;stroke-width:0.52899998;stroke-linecap:butt;stroke-linejoin:miter;stroke-miterlimit:4;stroke-dasharray:none;stroke-dashoffset:0;stroke-opacity:1;marker-end:url(#marker7725)\" d=\"M 148.24803,236.08527 V 301.2669\" id=\"path2606\" inkscape:connector-curvature=\"0\" sodipodi:nodetypes=\"cc\"/>\n",
       "    <path sodipodi:nodetypes=\"cc\" inkscape:connector-curvature=\"0\" id=\"path2781\" d=\"m 144.01467,236.08527 v 19.96296\" style=\"opacity:1;vector-effect:none;fill:none;fill-opacity:1;stroke:#ff0000;stroke-width:0.52899998;stroke-linecap:butt;stroke-linejoin:miter;stroke-miterlimit:4;stroke-dasharray:none;stroke-dashoffset:0;stroke-opacity:1;marker-end:url(#marker2785)\"/>\n",
       "    <path sodipodi:nodetypes=\"cc\" inkscape:connector-curvature=\"0\" id=\"path2876\" d=\"m -108.12461,183.60449 v 34.89479\" style=\"opacity:1;vector-effect:none;fill:none;fill-opacity:1;stroke:#000000;stroke-width:0.52899998;stroke-linecap:butt;stroke-linejoin:miter;stroke-miterlimit:4;stroke-dasharray:none;stroke-dashoffset:0;stroke-opacity:1;marker-end:url(#marker2882)\"/>\n",
       "    <path sodipodi:nodetypes=\"cc\" inkscape:connector-curvature=\"0\" id=\"path2878\" d=\"m -108.12461,228.63941 v 34.89476\" style=\"opacity:1;vector-effect:none;fill:none;fill-opacity:1;stroke:#000000;stroke-width:0.52899998;stroke-linecap:butt;stroke-linejoin:miter;stroke-miterlimit:4;stroke-dasharray:none;stroke-dashoffset:0;stroke-opacity:1;marker-end:url(#marker10628)\"/>\n",
       "    <path style=\"opacity:1;vector-effect:none;fill:none;fill-opacity:1;stroke:#000000;stroke-width:0.52899998;stroke-linecap:butt;stroke-linejoin:miter;stroke-miterlimit:4;stroke-dasharray:none;stroke-dashoffset:0;stroke-opacity:1;marker-end:url(#marker4298)\" d=\"m -108.12461,146.27935 v 27.05178\" id=\"path4294\" inkscape:connector-curvature=\"0\" sodipodi:nodetypes=\"cc\"/>\n",
       "    <path sodipodi:nodetypes=\"ccc\" style=\"opacity:1;vector-effect:none;fill:none;fill-opacity:1;stroke:#000000;stroke-width:0.52899998;stroke-linecap:butt;stroke-linejoin:miter;stroke-miterlimit:4;stroke-dasharray:none;stroke-dashoffset:0;stroke-opacity:1;marker-end:url(#marker5792)\" d=\"m -88.645134,179.13923 h 66.361466 l 8.504468,6.94876\" id=\"path5788\" inkscape:connector-curvature=\"0\"/>\n",
       "    <path inkscape:connector-curvature=\"0\" id=\"path7330\" d=\"m -88.645134,224.2252 h 66.361466 l 8.504468,6.94876\" style=\"opacity:1;vector-effect:none;fill:none;fill-opacity:1;stroke:#000000;stroke-width:0.52899998;stroke-linecap:butt;stroke-linejoin:miter;stroke-miterlimit:4;stroke-dasharray:none;stroke-dashoffset:0;stroke-opacity:1;marker-end:url(#marker7334)\" sodipodi:nodetypes=\"ccc\"/>\n",
       "    <path sodipodi:nodetypes=\"ccc\" style=\"opacity:1;vector-effect:none;fill:none;fill-opacity:1;stroke:#000000;stroke-width:0.52899998;stroke-linecap:butt;stroke-linejoin:miter;stroke-miterlimit:4;stroke-dasharray:none;stroke-dashoffset:0;stroke-opacity:1;marker-end:url(#marker8312)\" d=\"m -88.645134,269.39375 h 66.361466 l 8.504468,6.94876\" id=\"path8308\" inkscape:connector-curvature=\"0\"/>\n",
       "    <text xml:space=\"preserve\" style=\"font-style:normal;font-variant:normal;font-weight:normal;font-stretch:normal;font-size:4.23333311px;line-height:1.25;font-family:'Nimbus Sans';-inkscape-font-specification:'Nimbus Sans';font-variant-ligatures:normal;font-variant-position:normal;font-variant-caps:normal;font-variant-numeric:normal;font-variant-alternates:normal;font-feature-settings:normal;text-indent:0;text-align:center;text-decoration:none;text-decoration-line:none;text-decoration-style:solid;text-decoration-color:#000000;letter-spacing:0px;word-spacing:0px;text-transform:none;writing-mode:lr-tb;direction:ltr;text-orientation:mixed;dominant-baseline:auto;baseline-shift:baseline;text-anchor:middle;white-space:normal;shape-padding:0;opacity:1;vector-effect:none;fill:#000000;fill-opacity:1;stroke:none;stroke-width:0.26458332;stroke-linecap:butt;stroke-linejoin:miter;stroke-miterlimit:4;stroke-dasharray:none;stroke-dashoffset:0;stroke-opacity:1\" x=\"-86.021667\" y=\"279.91696\" id=\"text9618\"><tspan sodipodi:role=\"line\" id=\"tspan9616\" x=\"-86.021667\" y=\"279.91696\" style=\"font-style:normal;font-variant:normal;font-weight:normal;font-stretch:normal;font-size:4.23333311px;line-height:1.25;font-family:'Nimbus Sans';-inkscape-font-specification:'Nimbus Sans';font-variant-ligatures:normal;font-variant-position:normal;font-variant-caps:normal;font-variant-numeric:normal;font-variant-alternates:normal;font-feature-settings:normal;text-indent:0;text-align:start;text-decoration:none;text-decoration-line:none;text-decoration-style:solid;text-decoration-color:#000000;letter-spacing:0px;word-spacing:0px;text-transform:none;writing-mode:lr-tb;direction:ltr;text-orientation:mixed;dominant-baseline:auto;baseline-shift:baseline;text-anchor:start;white-space:normal;shape-padding:0;vector-effect:none;fill:#000000;fill-opacity:1;stroke:none;stroke-width:0.26458332;stroke-linecap:butt;stroke-linejoin:miter;stroke-miterlimit:4;stroke-dasharray:none;stroke-dashoffset:0;stroke-opacity:1\">Generic vector mix-ins</tspan><tspan sodipodi:role=\"line\" x=\"-86.021667\" y=\"285.20862\" style=\"font-style:normal;font-variant:normal;font-weight:normal;font-stretch:normal;font-size:4.23333311px;line-height:1.25;font-family:'Nimbus Sans';-inkscape-font-specification:'Nimbus Sans';font-variant-ligatures:normal;font-variant-position:normal;font-variant-caps:normal;font-variant-numeric:normal;font-variant-alternates:normal;font-feature-settings:normal;text-indent:0;text-align:start;text-decoration:none;text-decoration-line:none;text-decoration-style:solid;text-decoration-color:#000000;letter-spacing:0px;word-spacing:0px;text-transform:none;writing-mode:lr-tb;direction:ltr;text-orientation:mixed;dominant-baseline:auto;baseline-shift:baseline;text-anchor:start;white-space:normal;shape-padding:0;vector-effect:none;fill:#000000;fill-opacity:1;stroke:none;stroke-width:0.26458332;stroke-linecap:butt;stroke-linejoin:miter;stroke-miterlimit:4;stroke-dasharray:none;stroke-dashoffset:0;stroke-opacity:1\" id=\"tspan9622\">reduce objects to numbers</tspan><tspan sodipodi:role=\"line\" x=\"-86.021667\" y=\"290.50031\" style=\"font-style:normal;font-variant:normal;font-weight:normal;font-stretch:normal;font-size:4.23333311px;line-height:1.25;font-family:'Nimbus Sans';-inkscape-font-specification:'Nimbus Sans';font-variant-ligatures:normal;font-variant-position:normal;font-variant-caps:normal;font-variant-numeric:normal;font-variant-alternates:normal;font-feature-settings:normal;text-indent:0;text-align:start;text-decoration:none;text-decoration-line:none;text-decoration-style:solid;text-decoration-color:#000000;letter-spacing:0px;word-spacing:0px;text-transform:none;writing-mode:lr-tb;direction:ltr;text-orientation:mixed;dominant-baseline:auto;baseline-shift:baseline;text-anchor:start;white-space:normal;shape-padding:0;vector-effect:none;fill:#000000;fill-opacity:1;stroke:none;stroke-width:0.26458332;stroke-linecap:butt;stroke-linejoin:miter;stroke-miterlimit:4;stroke-dasharray:none;stroke-dashoffset:0;stroke-opacity:1\" id=\"tspan9628\">and call a flat-function in</tspan><tspan sodipodi:role=\"line\" x=\"-86.021667\" y=\"295.79196\" style=\"font-style:normal;font-variant:normal;font-weight:normal;font-stretch:normal;font-size:4.23333311px;line-height:1.25;font-family:'Nimbus Sans';-inkscape-font-specification:'Nimbus Sans';font-variant-ligatures:normal;font-variant-position:normal;font-variant-caps:normal;font-variant-numeric:normal;font-variant-alternates:normal;font-feature-settings:normal;text-indent:0;text-align:start;text-decoration:none;text-decoration-line:none;text-decoration-style:solid;text-decoration-color:#000000;letter-spacing:0px;word-spacing:0px;text-transform:none;writing-mode:lr-tb;direction:ltr;text-orientation:mixed;dominant-baseline:auto;baseline-shift:baseline;text-anchor:start;white-space:normal;shape-padding:0;vector-effect:none;fill:#000000;fill-opacity:1;stroke:none;stroke-width:0.26458332;stroke-linecap:butt;stroke-linejoin:miter;stroke-miterlimit:4;stroke-dasharray:none;stroke-dashoffset:0;stroke-opacity:1\" id=\"tspan9632\">the &quot;compute&quot; module</tspan><tspan sodipodi:role=\"line\" x=\"-86.021667\" y=\"301.08362\" style=\"font-style:normal;font-variant:normal;font-weight:normal;font-stretch:normal;font-size:4.23333311px;line-height:1.25;font-family:'Nimbus Sans';-inkscape-font-specification:'Nimbus Sans';font-variant-ligatures:normal;font-variant-position:normal;font-variant-caps:normal;font-variant-numeric:normal;font-variant-alternates:normal;font-feature-settings:normal;text-indent:0;text-align:start;text-decoration:none;text-decoration-line:none;text-decoration-style:solid;text-decoration-color:#000000;letter-spacing:0px;word-spacing:0px;text-transform:none;writing-mode:lr-tb;direction:ltr;text-orientation:mixed;dominant-baseline:auto;baseline-shift:baseline;text-anchor:start;white-space:normal;shape-padding:0;vector-effect:none;fill:#000000;fill-opacity:1;stroke:none;stroke-width:0.26458332;stroke-linecap:butt;stroke-linejoin:miter;stroke-miterlimit:4;stroke-dasharray:none;stroke-dashoffset:0;stroke-opacity:1\" id=\"tspan9636\">corresponding to its</tspan><tspan sodipodi:role=\"line\" x=\"-86.021667\" y=\"306.37531\" style=\"font-style:normal;font-variant:normal;font-weight:normal;font-stretch:normal;font-size:4.23333311px;line-height:1.25;font-family:'Nimbus Sans';-inkscape-font-specification:'Nimbus Sans';font-variant-ligatures:normal;font-variant-position:normal;font-variant-caps:normal;font-variant-numeric:normal;font-variant-alternates:normal;font-feature-settings:normal;text-indent:0;text-align:start;text-decoration:none;text-decoration-line:none;text-decoration-style:solid;text-decoration-color:#000000;letter-spacing:0px;word-spacing:0px;text-transform:none;writing-mode:lr-tb;direction:ltr;text-orientation:mixed;dominant-baseline:auto;baseline-shift:baseline;text-anchor:start;white-space:normal;shape-padding:0;vector-effect:none;fill:#000000;fill-opacity:1;stroke:none;stroke-width:0.26458332;stroke-linecap:butt;stroke-linejoin:miter;stroke-miterlimit:4;stroke-dasharray:none;stroke-dashoffset:0;stroke-opacity:1\" id=\"tspan9640\">coordinate system.</tspan></text>\n",
       "    <text xml:space=\"preserve\" style=\"font-style:normal;font-variant:normal;font-weight:normal;font-stretch:normal;font-size:4.23333311px;line-height:1.10000002;font-family:'Nimbus Sans';-inkscape-font-specification:'Nimbus Sans';text-align:start;letter-spacing:0px;word-spacing:0px;text-anchor:start;fill:#000000;fill-opacity:1;stroke:none;stroke-width:0.26458332\" x=\"-126.25536\" y=\"283.11734\" id=\"text9744\"><tspan sodipodi:role=\"line\" x=\"-126.25536\" y=\"283.11734\" style=\"stroke-width:0.26458332\" id=\"tspan9746\">Momentum mix-ins</tspan><tspan sodipodi:role=\"line\" x=\"-126.25536\" y=\"287.77402\" style=\"stroke-width:0.26458332\" id=\"tspan9750\">provide synonyms</tspan><tspan sodipodi:role=\"line\" x=\"-126.25536\" y=\"292.43066\" style=\"stroke-width:0.26458332\" id=\"tspan9752\">for a momentum</tspan><tspan sodipodi:role=\"line\" x=\"-126.25536\" y=\"297.08734\" style=\"stroke-width:0.26458332\" id=\"tspan9754\">interpretation</tspan><tspan sodipodi:role=\"line\" x=\"-126.25536\" y=\"301.74402\" style=\"stroke-width:0.26458332\" id=\"tspan9756\">(e.g. &quot;rho&quot; → &quot;pt&quot;,</tspan><tspan sodipodi:role=\"line\" x=\"-126.25536\" y=\"306.40067\" style=\"stroke-width:0.26458332\" id=\"tspan10172\">&quot;tau&quot; → &quot;mass&quot;).</tspan></text>\n",
       "    <rect y=\"137.82124\" x=\"-128.03123\" height=\"8.5526276\" width=\"39.823174\" id=\"rect8766\" style=\"opacity:1;vector-effect:none;fill:#fff6d5;fill-opacity:1;fill-rule:evenodd;stroke:#000000;stroke-width:0.52916682;stroke-linecap:butt;stroke-linejoin:miter;stroke-miterlimit:4;stroke-dasharray:none;stroke-dashoffset:0;stroke-opacity:1\"/>\n",
       "    <text id=\"text8770\" y=\"143.59192\" x=\"-108.12801\" style=\"font-style:normal;font-variant:normal;font-weight:normal;font-stretch:normal;font-size:4.23333311px;line-height:1.10000002;font-family:'Nimbus Sans';-inkscape-font-specification:'Nimbus Sans';text-align:center;letter-spacing:0px;word-spacing:0px;text-anchor:middle;fill:#000000;fill-opacity:1;stroke:none;stroke-width:0.26458332\" xml:space=\"preserve\"><tspan id=\"tspan8768\" style=\"stroke-width:0.26458332\" y=\"143.59192\" x=\"-108.12801\" sodipodi:role=\"line\">Momentum</tspan></text>\n",
       "    <rect y=\"174.86295\" x=\"-128.03123\" height=\"8.5526276\" width=\"39.823174\" id=\"rect2832\" style=\"opacity:1;vector-effect:none;fill:#ccffaa;fill-opacity:1;fill-rule:evenodd;stroke:#000000;stroke-width:0.52916682;stroke-linecap:butt;stroke-linejoin:miter;stroke-miterlimit:4;stroke-dasharray:none;stroke-dashoffset:0;stroke-opacity:1\"/>\n",
       "    <rect y=\"219.89786\" x=\"-128.03123\" height=\"8.5526276\" width=\"39.823174\" id=\"rect2834\" style=\"opacity:1;vector-effect:none;fill:#ccffaa;fill-opacity:1;fill-rule:evenodd;stroke:#000000;stroke-width:0.52916682;stroke-linecap:butt;stroke-linejoin:miter;stroke-miterlimit:4;stroke-dasharray:none;stroke-dashoffset:0;stroke-opacity:1\"/>\n",
       "    <rect y=\"264.93265\" x=\"-128.03123\" height=\"8.5526276\" width=\"39.823174\" id=\"rect2836\" style=\"opacity:1;vector-effect:none;fill:#ccffaa;fill-opacity:1;fill-rule:evenodd;stroke:#000000;stroke-width:0.52916682;stroke-linecap:butt;stroke-linejoin:miter;stroke-miterlimit:4;stroke-dasharray:none;stroke-dashoffset:0;stroke-opacity:1\"/>\n",
       "    <text id=\"text2840\" y=\"180.63362\" x=\"-108.28677\" style=\"font-style:normal;font-variant:normal;font-weight:normal;font-stretch:normal;font-size:4.23333311px;line-height:1.10000002;font-family:'Nimbus Sans';-inkscape-font-specification:'Nimbus Sans';text-align:center;letter-spacing:0px;word-spacing:0px;text-anchor:middle;fill:#000000;fill-opacity:1;stroke:none;stroke-width:0.26458332\" xml:space=\"preserve\"><tspan id=\"tspan2838\" style=\"stroke-width:0.26458332\" y=\"180.63362\" x=\"-108.28677\" sodipodi:role=\"line\">PlanarMomentum</tspan></text>\n",
       "    <text id=\"text2844\" y=\"225.28119\" x=\"-108.073\" style=\"font-style:normal;font-variant:normal;font-weight:normal;font-stretch:normal;font-size:4.23333311px;line-height:1.10000002;font-family:'Nimbus Sans';-inkscape-font-specification:'Nimbus Sans';text-align:center;letter-spacing:0px;word-spacing:0px;text-anchor:middle;fill:#000000;fill-opacity:1;stroke:none;stroke-width:0.26458332\" xml:space=\"preserve\"><tspan id=\"tspan2842\" style=\"stroke-width:0.26458332\" y=\"225.28119\" x=\"-108.073\" sodipodi:role=\"line\">SpatialMomentum</tspan></text>\n",
       "    <text id=\"text2848\" y=\"270.70331\" x=\"-108.19788\" style=\"font-style:normal;font-variant:normal;font-weight:normal;font-stretch:normal;font-size:4.23333311px;line-height:1.10000002;font-family:'Nimbus Sans';-inkscape-font-specification:'Nimbus Sans';text-align:center;letter-spacing:0px;word-spacing:0px;text-anchor:middle;fill:#000000;fill-opacity:1;stroke:none;stroke-width:0.26458332\" xml:space=\"preserve\"><tspan id=\"tspan2846\" style=\"stroke-width:0.26458332\" y=\"270.70331\" x=\"-108.19788\" sodipodi:role=\"line\">LorentzMomentum</tspan></text>\n",
       "  </g>\n",
       "</svg>"
      ],
      "text/plain": [
       "<IPython.core.display.SVG object>"
      ]
     },
     "metadata": {},
     "output_type": "display_data"
    }
   ],
   "source": [
    "from IPython.display import SVG, display\n",
    "\n",
    "display(SVG(\"./inheritance.svg\"))\n",
    "\n",
    "# better here - https://github.com/scikit-hep/vector/blob/main/docs/api/inheritance.svg"
   ]
  },
  {
   "cell_type": "code",
   "execution_count": 6,
   "id": "d095107f",
   "metadata": {},
   "outputs": [
    {
     "data": {
      "text/plain": [
       "(vector.backends.object.VectorObject2D,\n",
       " vector.backends.object.VectorObject3D,\n",
       " vector.backends.object.VectorObject4D)"
      ]
     },
     "execution_count": 6,
     "metadata": {},
     "output_type": "execute_result"
    }
   ],
   "source": [
    "vec2D = vector.obj(x=1., y=2.)\n",
    "vec3D = vector.obj(x=1., y=2., z=3.)\n",
    "vec4D = vector.obj(x=1., y=2., z=3. , tau=4.)\n",
    "\n",
    "type(vec2D), type(vec3D), type(vec4D)"
   ]
  },
  {
   "cell_type": "markdown",
   "id": "9b3c2b26",
   "metadata": {},
   "source": [
    "- All vector classes are the subclass of `Vector`.\n",
    "- Every backend has its own `Vector<Backend><X>D` classes, which is a subclass of `Vector<Backend>`.\n",
    "- All `2D` vector classes are a subclass of `Vector2D`, and so on ..."
   ]
  },
  {
   "cell_type": "code",
   "execution_count": 7,
   "id": "1d706a23",
   "metadata": {},
   "outputs": [
    {
     "data": {
      "text/plain": [
       "True"
      ]
     },
     "execution_count": 7,
     "metadata": {},
     "output_type": "execute_result"
    }
   ],
   "source": [
    "isinstance(vec2D, (vector.Vector, vector.Vector2D, vector.VectorObject, vector.VectorObject2D))"
   ]
  },
  {
   "cell_type": "markdown",
   "id": "8581d58c",
   "metadata": {},
   "source": [
    "Additionally, vector classes are also a subclass of `Planar`, `Spatial`, and/or `Temporal`."
   ]
  },
  {
   "cell_type": "code",
   "execution_count": 8,
   "id": "04e5778b",
   "metadata": {},
   "outputs": [
    {
     "data": {
      "text/plain": [
       "(True, False, True)"
      ]
     },
     "execution_count": 8,
     "metadata": {},
     "output_type": "execute_result"
    }
   ],
   "source": [
    "isinstance(vec3D, vector.Planar), isinstance(vec2D, vector.Spatial), isinstance(vec4D, vector.Lorentz)"
   ]
  },
  {
   "cell_type": "markdown",
   "id": "0a90ec68",
   "metadata": {},
   "source": [
    "Similarly for `MomentumVectors` -"
   ]
  },
  {
   "cell_type": "code",
   "execution_count": 9,
   "id": "17cb06ef",
   "metadata": {},
   "outputs": [
    {
     "data": {
      "text/plain": [
       "True"
      ]
     },
     "execution_count": 9,
     "metadata": {},
     "output_type": "execute_result"
    }
   ],
   "source": [
    "vecm = vector.obj(px=1., py=2., pz=3., E=4.)\n",
    "isinstance(\n",
    "    vecm, \n",
    "    (\n",
    "        vector.Momentum,\n",
    "        vector.MomentumObject2D,\n",
    "        vector.Vector,\n",
    "        vector.Vector2D,\n",
    "        vector.VectorObject2D,\n",
    "        vector.Planar,\n",
    "        vector.Spatial,\n",
    "        vector.Temporal,\n",
    "    )\n",
    ")"
   ]
  },
  {
   "cell_type": "markdown",
   "id": "1c64714b",
   "metadata": {},
   "source": [
    "And `Azimuthal`, `Longitudinal`, `Temporal` classes -"
   ]
  },
  {
   "cell_type": "code",
   "execution_count": 10,
   "id": "b76c9f46",
   "metadata": {},
   "outputs": [],
   "source": [
    "vec4D = vector.obj(x=1., y=2., z=3., tau=4.)\n",
    "\n",
    "assert isinstance(\n",
    "    vec4D.azimuthal,\n",
    "    (\n",
    "        vector.Azimuthal,\n",
    "        vector.AzimuthalXY,\n",
    "        vector.backends.object.AzimuthalObject,\n",
    "        vector.backends.object.AzimuthalObjectXY,\n",
    "    )\n",
    ")\n",
    "\n",
    "assert isinstance(\n",
    "    vec4D.longitudinal,\n",
    "    (\n",
    "        vector.Longitudinal,\n",
    "        vector.LongitudinalZ,\n",
    "        vector.backends.object.LongitudinalObject,\n",
    "        vector.backends.object.LongitudinalObjectZ,\n",
    "    )\n",
    ")\n",
    "\n",
    "assert isinstance(\n",
    "    vec4D.temporal,\n",
    "    (\n",
    "        vector.Temporal,\n",
    "        vector.TemporalTau,\n",
    "        vector.backends.object.TemporalObject,\n",
    "        vector.backends.object.TemporalObjectTau,\n",
    "    )\n",
    ")"
   ]
  },
  {
   "cell_type": "markdown",
   "id": "12d9f5e1",
   "metadata": {},
   "source": [
    "### Methods and properties"
   ]
  },
  {
   "cell_type": "markdown",
   "id": "a6b791f3",
   "metadata": {
    "jupyter": {
     "source_hidden": true
    }
   },
   "source": [
    "`Vector` comes loaded with numerous methods and properties which are flowed down using inheritance or are directly defined in the child class.\n",
    "\n",
    "- `x`, `y`, `z`, `t`, `rho`, `phi`, ...\n",
    "\n",
    "- `add`, `subtract`, `cross`, `dot`, `equal`, ...\n",
    "\n",
    "- `to_xyz`, `to_xyzt`, `to_rhophithetatau`, ..., `to_Vector2D` `to_Vector3D`, ...\n",
    "\n",
    "- `azimuthal`, `longitudinal`, `temporal`\n",
    "\n",
    "- `costheta`, `cottheta`\n",
    "\n",
    "- `deltaangle`, `deltaphi`, `deltaeta`, `deltaR`, `deltaR2`\n",
    "\n",
    "-  ..."
   ]
  },
  {
   "cell_type": "markdown",
   "id": "259b6878",
   "metadata": {},
   "source": [
    "A great way to go through these methods and properties is to press TAB!\n",
    "\n",
    "An even greater way is to go through the documentation!\n",
    "\n",
    "A complete list of vector properties and methods is available here - https://github.com/scikit-hep/vector#vector-properties "
   ]
  },
  {
   "cell_type": "code",
   "execution_count": 11,
   "id": "a2e83bd4",
   "metadata": {},
   "outputs": [],
   "source": [
    "vec3D = vector.obj(x=1., y=3., z=3.)"
   ]
  },
  {
   "cell_type": "code",
   "execution_count": null,
   "id": "962f1ab5",
   "metadata": {},
   "outputs": [],
   "source": [
    "vec3D."
   ]
  },
  {
   "cell_type": "markdown",
   "id": "bc0a0c3a",
   "metadata": {},
   "source": [
    "Let's say we want to gather the azimuthal coordinates. We will start by obtaining the `Azimuthal` object -"
   ]
  },
  {
   "cell_type": "code",
   "execution_count": 12,
   "id": "1a6e4b64",
   "metadata": {},
   "outputs": [
    {
     "data": {
      "text/plain": [
       "AzimuthalObjectXY(x=1.0, y=3.0)"
      ]
     },
     "execution_count": 12,
     "metadata": {},
     "output_type": "execute_result"
    }
   ],
   "source": [
    "vec3D.azimuthal"
   ]
  },
  {
   "cell_type": "markdown",
   "id": "fc2fe57c",
   "metadata": {},
   "source": [
    "Next, let's quickly go through the docs of `AzimuthalObjectXY."
   ]
  },
  {
   "cell_type": "code",
   "execution_count": 13,
   "id": "626aeb5b",
   "metadata": {},
   "outputs": [
    {
     "data": {
      "text/plain": [
       "\u001b[1;31mInit signature:\u001b[0m\n",
       "\u001b[0mvector\u001b[0m\u001b[1;33m.\u001b[0m\u001b[0mbackends\u001b[0m\u001b[1;33m.\u001b[0m\u001b[0mobject\u001b[0m\u001b[1;33m.\u001b[0m\u001b[0mAzimuthalObjectXY\u001b[0m\u001b[1;33m(\u001b[0m\u001b[1;33m\n",
       "\u001b[0m    \u001b[0mx\u001b[0m\u001b[1;33m:\u001b[0m \u001b[0mForwardRef\u001b[0m\u001b[1;33m(\u001b[0m\u001b[1;34m'float'\u001b[0m\u001b[1;33m)\u001b[0m\u001b[1;33m,\u001b[0m\u001b[1;33m\n",
       "\u001b[0m    \u001b[0my\u001b[0m\u001b[1;33m:\u001b[0m \u001b[0mForwardRef\u001b[0m\u001b[1;33m(\u001b[0m\u001b[1;34m'float'\u001b[0m\u001b[1;33m)\u001b[0m\u001b[1;33m,\u001b[0m\u001b[1;33m\n",
       "\u001b[0m\u001b[1;33m)\u001b[0m\u001b[1;33m\u001b[0m\u001b[1;33m\u001b[0m\u001b[0m\n",
       "\u001b[1;31mDocstring:\u001b[0m     \n",
       "Class for the ``x`` and ``y`` (azimuthal) coordinates of Object backend.\n",
       "Use the ``elements`` property to retrieve the coordinates.\n",
       "\u001b[1;31mFile:\u001b[0m           c:\\users\\saransh\\saransh_softwares\\python_3.9\\lib\\site-packages\\vector\\backends\\object.py\n",
       "\u001b[1;31mType:\u001b[0m           type\n",
       "\u001b[1;31mSubclasses:\u001b[0m     \n"
      ]
     },
     "metadata": {},
     "output_type": "display_data"
    }
   ],
   "source": [
    "?vector.backends.object.AzimuthalObjectXY"
   ]
  },
  {
   "cell_type": "markdown",
   "id": "9591689d",
   "metadata": {},
   "source": [
    "Now we know that we can use the `elements` property to access the coordinates!"
   ]
  },
  {
   "cell_type": "code",
   "execution_count": 14,
   "id": "e2295153",
   "metadata": {},
   "outputs": [
    {
     "data": {
      "text/plain": [
       "(1.0, 3.0)"
      ]
     },
     "execution_count": 14,
     "metadata": {},
     "output_type": "execute_result"
    }
   ],
   "source": [
    "vec3D.azimuthal.elements"
   ]
  },
  {
   "cell_type": "markdown",
   "id": "ff7f00b9",
   "metadata": {},
   "source": [
    "### Allowed coordinate combinations"
   ]
  },
  {
   "cell_type": "markdown",
   "id": "4ea9bc8f",
   "metadata": {
    "jupyter": {
     "source_hidden": true
    }
   },
   "source": [
    "The allowed keyword arguments for 2D vectors are:\n",
    "\n",
    "- `x` and `y` for Cartesian azimuthal coordinates,\n",
    "- `px` and `py` for momentum,\n",
    "- `rho` and `phi` for polar azimuthal coordinates,\n",
    "- `pt` and `phi` for momentum.\n",
    "\n",
    "For 3D vectors, you need the above and:\n",
    "\n",
    "- `z` for the Cartesian longitudinal coordinate,\n",
    "- `pz` for momentum,\n",
    "- `theta` for the spherical polar angle (from $0$ to $\\pi$, inclusive),\n",
    "- `eta` for pseudorapidity, which is a kind of spherical polar angle.\n",
    "\n",
    "For 4D vectors, you need the above and:\n",
    "\n",
    "- `t` for the Cartesian temporal coordinate,\n",
    "- `E` or `energy` to get four-momentum,\n",
    "- `tau` for the \"proper time\" (temporal coordinate in the vector's rest coordinate system),\n",
    "- `M` or `mass` to get four-momentum.\n",
    "\n",
    "All possible combinations (replace with momentum coordinates for momentum vectors)\n",
    "\n",
    "- (2D) `x` `y`\n",
    "- (2D) `rho` `phi`\n",
    "- (3D) `x` `y` `z`\n",
    "- (3D) `x` `y` `theta`\n",
    "- (3D) `x` `y` `eta`\n",
    "- (3D) `rho` `phi` `z`\n",
    "- (3D) `rho` `phi` `theta`\n",
    "- (3D) `rho` `phi` `eta`\n",
    "- (4D) `x` `y` `z` `t`\n",
    "- (4D) `x` `y` `z` `tau`\n",
    "- (4D) `x` `y` `theta` `t`\n",
    "- (4D) `x` `y` `theta` `tau`\n",
    "- (4D) `x` `y` `eta` `t`\n",
    "- (4D) `x` `y` `eta` `tau`\n",
    "- (4D) `rho` `phi` `z` `t`\n",
    "- (4D) `rho` `phi` `z` `tau`\n",
    "- (4D) `rho` `phi` `theta` `t`\n",
    "- (4D) `rho` `phi` `theta` `tau`\n",
    "- (4D) `rho` `phi` `eta` `t`\n",
    "- (4D) `rho` `phi` `eta` `tau`"
   ]
  },
  {
   "cell_type": "markdown",
   "id": "0a185046",
   "metadata": {},
   "source": [
    "## NumPy vectors"
   ]
  },
  {
   "cell_type": "markdown",
   "id": "7f486ea9",
   "metadata": {},
   "source": [
    "`Vector` provides `vector.VectorNumpyXD` classes and `vector.array`constructor to construct `NumPy` vectors. The `VectorNumpyXD` classes are subclasses of `NumPy` array; hence they behave a lot like a structured `NumPy` array.\n",
    "\n",
    "Currently, vector only accepts structured `NumPy` arrays to construct vectors. The `NumPy` dtype of a structured array is `object`; hence, these arrays are not as fast as the conventional `NumPy` arrays. "
   ]
  },
  {
   "cell_type": "code",
   "execution_count": 15,
   "id": "26480c1b",
   "metadata": {},
   "outputs": [
    {
     "data": {
      "text/plain": [
       "VectorNumpy2D([(1.,  2.), (3.,  4.), (5.,  6.), (7.,  8.), (9., 10.)],\n",
       "              dtype=[('x', '<f8'), ('y', '<f8')])"
      ]
     },
     "execution_count": 15,
     "metadata": {},
     "output_type": "execute_result"
    }
   ],
   "source": [
    "vector.array(\n",
    "    [(1., 2.), (3., 4.), (5., 6.), (7., 8.), (9., 10.)],\n",
    "    dtype=[(\"x\", float), (\"y\", float)],\n",
    ")"
   ]
  },
  {
   "cell_type": "code",
   "execution_count": 16,
   "id": "09fbd2b9",
   "metadata": {},
   "outputs": [
    {
     "data": {
      "text/plain": [
       "VectorNumpy2D([(1.,  2.), (3.,  4.), (5.,  6.), (7.,  8.), (9., 10.)],\n",
       "              dtype=[('x', '<f8'), ('y', '<f8')])"
      ]
     },
     "execution_count": 16,
     "metadata": {},
     "output_type": "execute_result"
    }
   ],
   "source": [
    "vector.VectorNumpy2D(\n",
    "    [(1., 2.), (3., 4.), (5., 6.), (7., 8.), (9., 10.)],\n",
    "    dtype=[(\"x\", float), (\"y\", float)],\n",
    ")"
   ]
  },
  {
   "cell_type": "markdown",
   "id": "694da759",
   "metadata": {},
   "source": [
    "One can also pass `pandas` like columns to the `vector.array` constructors."
   ]
  },
  {
   "cell_type": "code",
   "execution_count": 17,
   "id": "c07bdf6c",
   "metadata": {},
   "outputs": [
    {
     "data": {
      "text/plain": [
       "VectorNumpy2D([(1., 2.), (2., 3.), (3., 4.), (4., 5.), (5., 6.)],\n",
       "              dtype=[('x', '<f8'), ('y', '<f8')])"
      ]
     },
     "execution_count": 17,
     "metadata": {},
     "output_type": "execute_result"
    }
   ],
   "source": [
    "vector.array({\"x\": [1., 2., 3., 4., 5.], \"y\": [2., 3., 4., 5., 6.]})"
   ]
  },
  {
   "cell_type": "markdown",
   "id": "2b4decf0",
   "metadata": {},
   "source": [
    "Existing NumPy arrays can be viewed as arrays of vectors, but it needs to be a structured array with recognized field names."
   ]
  },
  {
   "cell_type": "code",
   "execution_count": 18,
   "id": "ba6b5582",
   "metadata": {},
   "outputs": [
    {
     "data": {
      "text/plain": [
       "VectorNumpy4D([( 0.,  0.5,  1.,  1.5), ( 2.,  2.5,  3.,  3.5),\n",
       "               ( 4.,  4.5,  5.,  5.5), ( 6.,  6.5,  7.,  7.5),\n",
       "               ( 8.,  8.5,  9.,  9.5), (10., 10.5, 11., 11.5),\n",
       "               (12., 12.5, 13., 13.5), (14., 14.5, 15., 15.5),\n",
       "               (16., 16.5, 17., 17.5), (18., 18.5, 19., 19.5),\n",
       "               (20., 20.5, 21., 21.5), (22., 22.5, 23., 23.5)],\n",
       "              dtype=[('x', '<f8'), ('y', '<f8'), ('z', '<f8'), ('t', '<f8')])"
      ]
     },
     "execution_count": 18,
     "metadata": {},
     "output_type": "execute_result"
    }
   ],
   "source": [
    "import numpy as np\n",
    "\n",
    "vec = np.arange(0, 24, 0.5).view(\n",
    "    [\n",
    "        (\"x\", float),\n",
    "        (\"y\", float),\n",
    "        (\"z\", float),\n",
    "        (\"t\", float),\n",
    "    ]\n",
    ").view(\n",
    "    vector.VectorNumpy4D\n",
    ")\n",
    "\n",
    "vec"
   ]
  },
  {
   "cell_type": "markdown",
   "id": "c9f0f74c",
   "metadata": {},
   "source": [
    "Since VectorNumpy2D, VectorNumpy3D, VectorNumpy4D, and their momentum equivalents are NumPy array subclasses, all of the normal NumPy methods and functions work on them."
   ]
  },
  {
   "cell_type": "code",
   "execution_count": 19,
   "id": "a6b176bd",
   "metadata": {},
   "outputs": [
    {
     "data": {
      "text/plain": [
       "VectorNumpy4D([[[( 0.,  0.5,  1.,  1.5), ( 2.,  2.5,  3.,  3.5),\n",
       "                 ( 4.,  4.5,  5.,  5.5), ( 6.,  6.5,  7.,  7.5)],\n",
       "                [( 8.,  8.5,  9.,  9.5), (10., 10.5, 11., 11.5),\n",
       "                 (12., 12.5, 13., 13.5), (14., 14.5, 15., 15.5)],\n",
       "                [(16., 16.5, 17., 17.5), (18., 18.5, 19., 19.5),\n",
       "                 (20., 20.5, 21., 21.5), (22., 22.5, 23., 23.5)]]],\n",
       "              dtype=[('x', '<f8'), ('y', '<f8'), ('z', '<f8'), ('t', '<f8')])"
      ]
     },
     "execution_count": 19,
     "metadata": {},
     "output_type": "execute_result"
    }
   ],
   "source": [
    "vec.reshape(1, 3, 4)"
   ]
  },
  {
   "cell_type": "markdown",
   "id": "b28ec35d",
   "metadata": {},
   "source": [
    "Similarly, momentum vectors can be created by either passing in momentum coordinates or by using the `MomentumNumpyXD` classes."
   ]
  },
  {
   "cell_type": "code",
   "execution_count": 20,
   "id": "79c5e66c",
   "metadata": {},
   "outputs": [
    {
     "data": {
      "text/plain": [
       "MomentumNumpy3D([(1., 1.1, 0.1), (2., 2.2, 0.2), (3., 3.3, 0.3), (4., 4.4, 0.4)],\n",
       "                dtype=[('x', '<f8'), ('y', '<f8'), ('z', '<f8')])"
      ]
     },
     "execution_count": 20,
     "metadata": {},
     "output_type": "execute_result"
    }
   ],
   "source": [
    "vector.array({\"px\": [1, 2, 3, 4], \"py\": [1.1, 2.2, 3.3, 4.4], \"pz\": [0.1, 0.2, 0.3, 0.4]})"
   ]
  },
  {
   "cell_type": "code",
   "execution_count": 21,
   "id": "c448afc4",
   "metadata": {},
   "outputs": [
    {
     "data": {
      "text/plain": [
       "MomentumNumpy2D([(1.,  2.), (3.,  4.), (5.,  6.), (7.,  8.), (9., 10.)],\n",
       "                dtype=[('x', '<f8'), ('y', '<f8')])"
      ]
     },
     "execution_count": 21,
     "metadata": {},
     "output_type": "execute_result"
    }
   ],
   "source": [
    "vector.MomentumNumpy2D(\n",
    "    [(1., 2.), (3., 4.), (5., 6.), (7., 8.), (9., 10.)],\n",
    "    dtype=[(\"px\", float), (\"py\", float)],\n",
    ")"
   ]
  },
  {
   "cell_type": "markdown",
   "id": "98922ee3",
   "metadata": {},
   "source": [
    "## Awkward vectors"
   ]
  },
  {
   "cell_type": "markdown",
   "id": "5ba6a60c",
   "metadata": {},
   "source": [
    "Similar to the `NumPy` backend, `Vector` provides `vector.VectorArrayXD` classes and `vector.Array`constructor to construct `Awkward` vectors. The `VectorArayXD` classes are subclasses of `Awkward` array.\n",
    "\n",
    "Additionally, `vector` also provides the `vector.zip` constructor which acts similar to `awkward.zip`."
   ]
  },
  {
   "cell_type": "code",
   "execution_count": 22,
   "id": "2a2a9ab6",
   "metadata": {},
   "outputs": [
    {
     "data": {
      "text/plain": [
       "<VectorArray3D [[{x: 1, y: 1.1, z: 0.1, ... z: 0.3}]] type='3 * var * Vector3D[\"...'>"
      ]
     },
     "execution_count": 22,
     "metadata": {},
     "output_type": "execute_result"
    }
   ],
   "source": [
    "vec = vector.awk(\n",
    "    [\n",
    "        [{\"x\": 1, \"y\": 1.1, \"z\": 0.1}, {\"x\": 2, \"y\": 2.2, \"z\": 0.2}],\n",
    "        [],\n",
    "        [{\"x\": 3, \"y\": 3.3, \"z\": 0.3}],\n",
    "    ]\n",
    ")\n",
    "\n",
    "vec"
   ]
  },
  {
   "cell_type": "code",
   "execution_count": 23,
   "id": "546e7fa8",
   "metadata": {},
   "outputs": [
    {
     "data": {
      "text/plain": [
       "<VectorArray3D [{x: 1, y: 1, z: 1}, ... y: 3, z: 3}] type='3 * Vector3D[\"x\": int...'>"
      ]
     },
     "execution_count": 23,
     "metadata": {},
     "output_type": "execute_result"
    }
   ],
   "source": [
    "vec = vector.zip({\"x\": [1, 2 ,3], \"y\": [1, 2, 3], \"z\": [1, 2, 3]})\n",
    "\n",
    "vec"
   ]
  },
  {
   "cell_type": "markdown",
   "id": "b360657b",
   "metadata": {},
   "source": [
    "Similar to `NumPy` and `Object` vectors, `Awkward` vectors can also access the vector properties.\n",
    "\n",
    "Note: An array of vectors returns an array of coordinates, and an awkward vector returns an awkward array of coordinates."
   ]
  },
  {
   "cell_type": "code",
   "execution_count": 24,
   "id": "52f23940",
   "metadata": {},
   "outputs": [
    {
     "data": {
      "text/plain": [
       "AzimuthalAwkwardXY(<Array [1, 2, 3] type='3 * int64'>, <Array [1, 2, 3] type='3 * int64'>)"
      ]
     },
     "execution_count": 24,
     "metadata": {},
     "output_type": "execute_result"
    }
   ],
   "source": [
    "vec.azimuthal"
   ]
  },
  {
   "cell_type": "code",
   "execution_count": 25,
   "id": "c3741c63",
   "metadata": {},
   "outputs": [
    {
     "data": {
      "text/plain": [
       "<Array [1, 2, 3] type='3 * int64'>"
      ]
     },
     "execution_count": 25,
     "metadata": {},
     "output_type": "execute_result"
    }
   ],
   "source": [
    "vec.x"
   ]
  },
  {
   "cell_type": "markdown",
   "id": "17228143",
   "metadata": {},
   "source": [
    "If you want any records named `Vector2D`, `Vector3D`, `Vector4D`, `Momentum2D`, `Momentum3D`, or `Momentum4D` to be interpreted as vectors, register the behaviors globally."
   ]
  },
  {
   "cell_type": "code",
   "execution_count": 26,
   "id": "f2372aaf",
   "metadata": {},
   "outputs": [
    {
     "data": {
      "text/plain": [
       "<VectorArray3D [[{x: 1, y: 1.1, z: 0.1, ... z: 0.3}]] type='3 * var * Vector3D[\"...'>"
      ]
     },
     "execution_count": 26,
     "metadata": {},
     "output_type": "execute_result"
    }
   ],
   "source": [
    "import awkward as ak\n",
    "\n",
    "vector.register_awkward()\n",
    "\n",
    "ak.Array(\n",
    "    [\n",
    "        [{\"x\": 1, \"y\": 1.1, \"z\": 0.1}, {\"x\": 2, \"y\": 2.2, \"z\": 0.2}],\n",
    "        [],\n",
    "        [{\"x\": 3, \"y\": 3.3, \"z\": 0.3}],\n",
    "    ],\n",
    "    with_name=\"Vector3D\",\n",
    ")"
   ]
  },
  {
   "cell_type": "markdown",
   "id": "e092a636",
   "metadata": {},
   "source": [
    "Momentum vectors work in the same way!"
   ]
  },
  {
   "cell_type": "code",
   "execution_count": 27,
   "id": "e2dd7b30",
   "metadata": {},
   "outputs": [
    {
     "data": {
      "text/plain": [
       "<MomentumArray3D [[{x: 1, y: 1.1, z: 0.1, ... z: 0.3}]] type='3 * var * Momentum...'>"
      ]
     },
     "execution_count": 27,
     "metadata": {},
     "output_type": "execute_result"
    }
   ],
   "source": [
    "vector.awk(\n",
    "    [\n",
    "        [{\"px\": 1, \"py\": 1.1, \"pz\": 0.1}, {\"px\": 2, \"py\": 2.2, \"pz\": 0.2}],\n",
    "        [],\n",
    "        [{\"px\": 3, \"py\": 3.3, \"pz\": 0.3}],\n",
    "    ]\n",
    ")"
   ]
  },
  {
   "cell_type": "markdown",
   "id": "e864d8e5",
   "metadata": {},
   "source": [
    "## Compiling vectors with Numba"
   ]
  },
  {
   "cell_type": "markdown",
   "id": "7da96ffe",
   "metadata": {},
   "source": [
    "Vector also comes loaded with `Numba-X` backends. `VectorObject`s and `VectorArray`s are currently compatible with `numba`, and `VectorNumpy` will be supported in the near future."
   ]
  },
  {
   "cell_type": "code",
   "execution_count": 28,
   "id": "52783e4c",
   "metadata": {},
   "outputs": [
    {
     "data": {
      "text/plain": [
       "8.0"
      ]
     },
     "execution_count": 28,
     "metadata": {},
     "output_type": "execute_result"
    }
   ],
   "source": [
    "import numba as nb\n",
    "\n",
    "\n",
    "@nb.njit\n",
    "def compute_mass(v1, v2):\n",
    "    return (v1 + v2).mass\n",
    "\n",
    "\n",
    "compute_mass(vector.obj(px=1, py=2, pz=3, E=4), vector.obj(px=-1, py=-2, pz=-3, E=4))"
   ]
  },
  {
   "cell_type": "markdown",
   "id": "fdfbd45b",
   "metadata": {},
   "source": [
    "When the two `MomentumObject4D` objects are passed as arguments, Numba recognizes them and replaces the Python objects with low-level structs. When it compiles the function, it recognizes `+` as the 4D `add` function and recognizes `.mass` as the `tau` component of the result.\n",
    "\n",
    "Although this demonstrates that Numba can manipulate vector objects, there is no performance advantage (and a likely disadvantage) to compiling a calculation on just a few vectors. The advantage comes when many vectors are involved, in arrays."
   ]
  },
  {
   "cell_type": "code",
   "execution_count": 29,
   "id": "bb6b995c",
   "metadata": {},
   "outputs": [
    {
     "data": {
      "text/plain": [
       "array([20.35408707,  0.        ,  0.        , 16.37323993, 16.1791316 ,\n",
       "        7.61979402,  0.        , 43.31649696, 10.30444616, 28.36015941,\n",
       "       17.50359196, 31.33703547,  0.        , 20.40584206,  0.        ,\n",
       "       30.41042796,  0.        , 22.64970101,  0.        , 20.21723856,\n",
       "       30.41110204, 38.24025183,  0.        , 17.02774259, 10.00109102,\n",
       "       26.20285517, 18.4551203 , 19.94862735,  9.41898045, 19.03342662,\n",
       "       18.91032075, 19.46232019, 10.06063365,  0.        ,  0.        ,\n",
       "        0.        ,  0.        ,  0.        , 50.53926896,  8.21861273,\n",
       "       22.43874951,  9.24634698,  0.        , 19.81575297, 11.17688895,\n",
       "       38.60135522, 11.01415957, 10.55559781, 10.11180745,  9.03170103])"
      ]
     },
     "execution_count": 29,
     "metadata": {},
     "output_type": "execute_result"
    }
   ],
   "source": [
    "array = vector.awk(\n",
    "    [\n",
    "        [\n",
    "            dict(\n",
    "                {x: np.random.normal(0, 1) for x in (\"px\", \"py\", \"pz\")},\n",
    "                E=np.random.normal(10, 1),\n",
    "            )\n",
    "            for inner in range(np.random.poisson(1.5))\n",
    "        ]\n",
    "        for outer in range(50)\n",
    "    ]\n",
    ")\n",
    "\n",
    "\n",
    "@nb.njit\n",
    "def compute_masses(array):\n",
    "    out = np.empty(len(array), np.float64)\n",
    "    for i, event in enumerate(array):\n",
    "        total = vector.obj(px=0.0, py=0.0, pz=0.0, E=0.0)\n",
    "        for vec in event:\n",
    "            total = total + vec\n",
    "        out[i] = total.mass\n",
    "    return out\n",
    "\n",
    "\n",
    "compute_masses(array)"
   ]
  },
  {
   "cell_type": "markdown",
   "id": "cd164541",
   "metadata": {},
   "source": [
    "## Uproot, Awkward, and Vector"
   ]
  },
  {
   "cell_type": "markdown",
   "id": "4664d426",
   "metadata": {},
   "source": [
    "Let us look at how vector integrates with the rest of the HEP ecosystem! We'll start by reading a root file using `uproot`, look at its content using `awkward`, and perform some data analysis using `vector`!\n",
    "\n",
    "Let's read a data file from `scikit-hep-testdata` -"
   ]
  },
  {
   "cell_type": "code",
   "execution_count": 30,
   "id": "1923d7d3",
   "metadata": {},
   "outputs": [],
   "source": [
    "import skhep_testdata\n",
    "import uproot\n",
    "\n",
    "data = uproot.open(skhep_testdata.data_path(\"uproot-HZZ.root\"))"
   ]
  },
  {
   "cell_type": "markdown",
   "id": "395d3002",
   "metadata": {},
   "source": [
    "Looking at the keys of the retrieved data -"
   ]
  },
  {
   "cell_type": "code",
   "execution_count": 31,
   "id": "22dd551a",
   "metadata": {},
   "outputs": [
    {
     "data": {
      "text/plain": [
       "['events;1']"
      ]
     },
     "execution_count": 31,
     "metadata": {},
     "output_type": "execute_result"
    }
   ],
   "source": [
    "data.keys()"
   ]
  },
  {
   "cell_type": "markdown",
   "id": "f5c6c7b5",
   "metadata": {},
   "source": [
    "We can now extract the `TTree` using the 'Events' key -"
   ]
  },
  {
   "cell_type": "code",
   "execution_count": 32,
   "id": "d54e4843",
   "metadata": {},
   "outputs": [
    {
     "data": {
      "text/plain": [
       "<TTree 'events' (51 branches) at 0x0236d49587c0>"
      ]
     },
     "execution_count": 32,
     "metadata": {},
     "output_type": "execute_result"
    }
   ],
   "source": [
    "tree = data['events']\n",
    "\n",
    "tree"
   ]
  },
  {
   "cell_type": "markdown",
   "id": "35738594",
   "metadata": {},
   "source": [
    "Now we can extract the actual data in the form of `awkward` arrays.\n",
    "\n",
    "`Awkward` arrays are jagged arrays which are required to manipulate HEP data. `Awkward` smoothly integrates with other HEP packages, like `uproot` and `vector` which we will be seeing ahead. Additionally, `awkward` is fast; hence `Awkward` is to jagged arrays the same way `NumPy` is to regular arrays!\n",
    "\n",
    "\"Arrays are dynamically typed, but operations on them are compiled and fast. Their behavior coincides with NumPy when array dimensions are regular and generalizes when they're not.\""
   ]
  },
  {
   "cell_type": "code",
   "execution_count": 33,
   "id": "cc5667c2",
   "metadata": {},
   "outputs": [
    {
     "data": {
      "text/plain": [
       "<Array [{NJet: 0, ... EventWeight: 0.00876}] type='2421 * {\"NJet\": int32, \"Jet_P...'>"
      ]
     },
     "execution_count": 33,
     "metadata": {},
     "output_type": "execute_result"
    }
   ],
   "source": [
    "branches = tree.arrays()\n",
    "\n",
    "branches  # awkward array"
   ]
  },
  {
   "cell_type": "markdown",
   "id": "a50985ce",
   "metadata": {},
   "source": [
    "As the data is now present in the form of `awkward` arrays, we can use the properties and methods provided by `awkward`. For instance, using the `fields` property to extract the fields - "
   ]
  },
  {
   "cell_type": "code",
   "execution_count": 34,
   "id": "3b724b34",
   "metadata": {},
   "outputs": [
    {
     "data": {
      "text/plain": [
       "['NJet',\n",
       " 'Jet_Px',\n",
       " 'Jet_Py',\n",
       " 'Jet_Pz',\n",
       " 'Jet_E',\n",
       " 'Jet_btag',\n",
       " 'Jet_ID',\n",
       " 'NMuon',\n",
       " 'Muon_Px',\n",
       " 'Muon_Py',\n",
       " 'Muon_Pz',\n",
       " 'Muon_E',\n",
       " 'Muon_Charge',\n",
       " 'Muon_Iso',\n",
       " 'NElectron',\n",
       " 'Electron_Px',\n",
       " 'Electron_Py',\n",
       " 'Electron_Pz',\n",
       " 'Electron_E',\n",
       " 'Electron_Charge',\n",
       " 'Electron_Iso',\n",
       " 'NPhoton',\n",
       " 'Photon_Px',\n",
       " 'Photon_Py',\n",
       " 'Photon_Pz',\n",
       " 'Photon_E',\n",
       " 'Photon_Iso',\n",
       " 'MET_px',\n",
       " 'MET_py',\n",
       " 'MChadronicBottom_px',\n",
       " 'MChadronicBottom_py',\n",
       " 'MChadronicBottom_pz',\n",
       " 'MCleptonicBottom_px',\n",
       " 'MCleptonicBottom_py',\n",
       " 'MCleptonicBottom_pz',\n",
       " 'MChadronicWDecayQuark_px',\n",
       " 'MChadronicWDecayQuark_py',\n",
       " 'MChadronicWDecayQuark_pz',\n",
       " 'MChadronicWDecayQuarkBar_px',\n",
       " 'MChadronicWDecayQuarkBar_py',\n",
       " 'MChadronicWDecayQuarkBar_pz',\n",
       " 'MClepton_px',\n",
       " 'MClepton_py',\n",
       " 'MClepton_pz',\n",
       " 'MCleptonPDGid',\n",
       " 'MCneutrino_px',\n",
       " 'MCneutrino_py',\n",
       " 'MCneutrino_pz',\n",
       " 'NPrimaryVertices',\n",
       " 'triggerIsoMu24',\n",
       " 'EventWeight']"
      ]
     },
     "execution_count": 34,
     "metadata": {},
     "output_type": "execute_result"
    }
   ],
   "source": [
    "branches.fields"
   ]
  },
  {
   "cell_type": "markdown",
   "id": "16726bcd",
   "metadata": {},
   "source": [
    "Every field corresponds to an `awkward` array too -"
   ]
  },
  {
   "cell_type": "code",
   "execution_count": 35,
   "id": "a3ce6862",
   "metadata": {},
   "outputs": [
    {
     "data": {
      "text/plain": [
       "<Array [[-52.9, 37.7], ... 1.14], [23.9]] type='2421 * var * float32'>"
      ]
     },
     "execution_count": 35,
     "metadata": {},
     "output_type": "execute_result"
    }
   ],
   "source": [
    "branches.Muon_Px"
   ]
  },
  {
   "cell_type": "markdown",
   "id": "40cc2dcc",
   "metadata": {},
   "source": [
    "Let's construct a vector using the \"Muon\" fields. Again, `vector` provides the `vector.zip` constructor for this task, and this constructor behaves similar to the `awkward.zip` constructor!"
   ]
  },
  {
   "cell_type": "code",
   "execution_count": 36,
   "id": "85f56ddc",
   "metadata": {},
   "outputs": [],
   "source": [
    "muons = vector.zip(\n",
    "    {\n",
    "        'px': branches['Muon_Px'],\n",
    "        'py': branches['Muon_Py'],\n",
    "        'pz': branches['Muon_Pz'],\n",
    "        'E': branches['Muon_E']\n",
    "    }\n",
    ")"
   ]
  },
  {
   "cell_type": "markdown",
   "id": "70f8bf30",
   "metadata": {},
   "source": [
    "We now have a `MomentumArray4D` vector!\n",
    "\n",
    "Remember, `VectorArray` classes inherit `awkward.Array`, which means we can use `awkward.Array`'s properties on it. Checking the type and fields -"
   ]
  },
  {
   "cell_type": "code",
   "execution_count": 37,
   "id": "27649a5a",
   "metadata": {},
   "outputs": [
    {
     "data": {
      "text/plain": [
       "<MomentumArray4D [[{x: -52.9, y: -11.7, ... t: 69.6}]] type='2421 * var * Moment...'>"
      ]
     },
     "execution_count": 37,
     "metadata": {},
     "output_type": "execute_result"
    }
   ],
   "source": [
    "muons"
   ]
  },
  {
   "cell_type": "code",
   "execution_count": 38,
   "id": "952b623f",
   "metadata": {
    "collapsed": true,
    "jupyter": {
     "outputs_hidden": true,
     "source_hidden": true
    }
   },
   "outputs": [
    {
     "data": {
      "text/plain": [
       "2421 * var * Momentum4D[\"x\": float32, \"y\": float32, \"z\": float32, \"t\": float32]"
      ]
     },
     "execution_count": 38,
     "metadata": {},
     "output_type": "execute_result"
    }
   ],
   "source": [
    "muons.type"
   ]
  },
  {
   "cell_type": "code",
   "execution_count": 39,
   "id": "bab8c729",
   "metadata": {
    "collapsed": true,
    "jupyter": {
     "outputs_hidden": true,
     "source_hidden": true
    }
   },
   "outputs": [
    {
     "data": {
      "text/plain": [
       "['x', 'y', 'z', 't']"
      ]
     },
     "execution_count": 39,
     "metadata": {},
     "output_type": "execute_result"
    }
   ],
   "source": [
    "muons.fields"
   ]
  },
  {
   "cell_type": "markdown",
   "id": "d29d51be",
   "metadata": {},
   "source": [
    "`2421 * var * Momentum4D` here shows that we have `2421` lists of `Momentum4D` vectors with each list having a variable length."
   ]
  },
  {
   "cell_type": "markdown",
   "id": "4cbaf783",
   "metadata": {},
   "source": [
    "We can also use the methods and properties (discussed above) offered by vector. Let's say we want the `azimuthal` coordinates of the created vector -"
   ]
  },
  {
   "cell_type": "code",
   "execution_count": 40,
   "id": "cd0316d4",
   "metadata": {},
   "outputs": [
    {
     "data": {
      "text/plain": [
       "AzimuthalAwkwardXY(<Array [[-52.9, 37.7], ... 1.14], [23.9]] type='2421 * var * float32'>, <Array [[-11.7, 0.693], ... 63.6], [-35.7]] type='2421 * var * float32'>)"
      ]
     },
     "execution_count": 40,
     "metadata": {},
     "output_type": "execute_result"
    }
   ],
   "source": [
    "muons.azimuthal"
   ]
  },
  {
   "cell_type": "code",
   "execution_count": 41,
   "id": "503dc1f9",
   "metadata": {},
   "outputs": [
    {
     "data": {
      "text/plain": [
       "(<Array [[-52.9, 37.7], ... 1.14], [23.9]] type='2421 * var * float32'>,\n",
       " <Array [[-11.7, 0.693], ... 63.6], [-35.7]] type='2421 * var * float32'>)"
      ]
     },
     "execution_count": 41,
     "metadata": {},
     "output_type": "execute_result"
    }
   ],
   "source": [
    "muons.azimuthal.elements"
   ]
  },
  {
   "cell_type": "markdown",
   "id": "62b2a076",
   "metadata": {},
   "source": [
    "Similarly for other coordinate types -"
   ]
  },
  {
   "cell_type": "markdown",
   "id": "8f1e8a1b",
   "metadata": {},
   "source": [
    "Similarly, we can use vector methods on this `MomentumArray`. For instance, let's say we want to convert this vector's coordinates to `rho`, `phi`, **`theta`**, and **`tau`**. Just to be a 100% sure, let's also check the fields -"
   ]
  },
  {
   "cell_type": "code",
   "execution_count": 42,
   "id": "9f7808c4",
   "metadata": {},
   "outputs": [
    {
     "data": {
      "text/plain": [
       "<MomentumArray4D [[{rho: 54.2, ... tau: 0.106}]] type='2421 * var * Momentum4D[\"...'>"
      ]
     },
     "execution_count": 42,
     "metadata": {},
     "output_type": "execute_result"
    }
   ],
   "source": [
    "muons.to_rhophithetatau()"
   ]
  },
  {
   "cell_type": "code",
   "execution_count": 43,
   "id": "9324e5ec",
   "metadata": {
    "collapsed": true,
    "jupyter": {
     "outputs_hidden": true,
     "source_hidden": true
    }
   },
   "outputs": [
    {
     "data": {
      "text/plain": [
       "['rho', 'phi', 'theta', 'tau']"
      ]
     },
     "execution_count": 43,
     "metadata": {},
     "output_type": "execute_result"
    }
   ],
   "source": [
    "muons.to_rhophithetatau().fields"
   ]
  },
  {
   "cell_type": "markdown",
   "id": "86d9cbd9",
   "metadata": {},
   "source": [
    "We can also use other such methods, for example, `to_Vector2D` converts N dimensional vector to a 2D vector. Again, we can check the fields -"
   ]
  },
  {
   "cell_type": "code",
   "execution_count": 44,
   "id": "771e8647",
   "metadata": {},
   "outputs": [
    {
     "data": {
      "text/plain": [
       "<MomentumArray2D [[{x: -52.9, y: -11.7, ... y: -35.7}]] type='2421 * var * Momen...'>"
      ]
     },
     "execution_count": 44,
     "metadata": {},
     "output_type": "execute_result"
    }
   ],
   "source": [
    "muons.to_Vector2D()"
   ]
  },
  {
   "cell_type": "code",
   "execution_count": 45,
   "id": "6f2f9b1d",
   "metadata": {
    "collapsed": true,
    "jupyter": {
     "outputs_hidden": true,
     "source_hidden": true
    }
   },
   "outputs": [
    {
     "data": {
      "text/plain": [
       "['x', 'y']"
      ]
     },
     "execution_count": 45,
     "metadata": {},
     "output_type": "execute_result"
    }
   ],
   "source": [
    "muons.to_Vector2D().fields"
   ]
  },
  {
   "cell_type": "markdown",
   "id": "f942507b",
   "metadata": {},
   "source": [
    "We can also slice these lists using the regular `Python` syntax -"
   ]
  },
  {
   "cell_type": "code",
   "execution_count": 46,
   "id": "baa2b87b",
   "metadata": {},
   "outputs": [
    {
     "data": {
      "text/plain": [
       "99 * var * Momentum4D[\"x\": float32, \"y\": float32, \"z\": float32, \"t\": float32]"
      ]
     },
     "execution_count": 46,
     "metadata": {},
     "output_type": "execute_result"
    }
   ],
   "source": [
    "muons[1:100].type"
   ]
  },
  {
   "cell_type": "markdown",
   "id": "9c0bfb62",
   "metadata": {},
   "source": [
    "Remember how these lists are of variable length (indicated by `* var`). Let's verify this quickly -"
   ]
  },
  {
   "cell_type": "code",
   "execution_count": 47,
   "id": "1061afe8",
   "metadata": {},
   "outputs": [
    {
     "data": {
      "text/plain": [
       "(1, 2)"
      ]
     },
     "execution_count": 47,
     "metadata": {},
     "output_type": "execute_result"
    }
   ],
   "source": [
    "len(muons[1]), len(muons[2])"
   ]
  },
  {
   "cell_type": "markdown",
   "id": "ff91a562",
   "metadata": {},
   "source": [
    "We could have also checked this using `awkward`'s `type` -"
   ]
  },
  {
   "cell_type": "code",
   "execution_count": 48,
   "id": "55f13629",
   "metadata": {},
   "outputs": [
    {
     "data": {
      "text/plain": [
       "(1 * Momentum4D[\"x\": float32, \"y\": float32, \"z\": float32, \"t\": float32],\n",
       " 2 * Momentum4D[\"x\": float32, \"y\": float32, \"z\": float32, \"t\": float32])"
      ]
     },
     "execution_count": 48,
     "metadata": {},
     "output_type": "execute_result"
    }
   ],
   "source": [
    "muons[1].type, muons[2].type"
   ]
  },
  {
   "cell_type": "markdown",
   "id": "0d1a390b",
   "metadata": {},
   "source": [
    "And as usual, these lists are also iterable -"
   ]
  },
  {
   "cell_type": "code",
   "execution_count": 49,
   "id": "4da305ed",
   "metadata": {},
   "outputs": [
    {
     "data": {
      "text/plain": [
       "<MomentumRecord4D ... y: -24.4, z: 20.2, t: 31.7} type='Momentum4D[\"x\": float32,...'>"
      ]
     },
     "execution_count": 49,
     "metadata": {},
     "output_type": "execute_result"
    }
   ],
   "source": [
    "muons[1][0]"
   ]
  },
  {
   "cell_type": "markdown",
   "id": "10f18937",
   "metadata": {},
   "source": [
    "Note: the first list had only 1 element; hence, an index of `>0` should throw an error -"
   ]
  },
  {
   "cell_type": "code",
   "execution_count": 50,
   "id": "16035f2e",
   "metadata": {},
   "outputs": [
    {
     "ename": "ValueError",
     "evalue": "in RecordArray attempting to get 1, index out of range\n\n(https://github.com/scikit-hep/awkward-1.0/blob/1.9.0/src/libawkward/array/RecordArray.cpp#L792)",
     "output_type": "error",
     "traceback": [
      "\u001b[1;31m---------------------------------------------------------------------------\u001b[0m",
      "\u001b[1;31mValueError\u001b[0m                                Traceback (most recent call last)",
      "Cell \u001b[1;32mIn [50], line 1\u001b[0m\n\u001b[1;32m----> 1\u001b[0m \u001b[43mmuons\u001b[49m\u001b[43m[\u001b[49m\u001b[38;5;241;43m1\u001b[39;49m\u001b[43m]\u001b[49m\u001b[43m[\u001b[49m\u001b[38;5;241;43m1\u001b[39;49m\u001b[43m]\u001b[49m\n",
      "File \u001b[1;32mc:\\users\\saransh\\saransh_softwares\\python_3.9\\lib\\site-packages\\awkward\\highlevel.py:991\u001b[0m, in \u001b[0;36mArray.__getitem__\u001b[1;34m(self, where)\u001b[0m\n\u001b[0;32m    579\u001b[0m \u001b[38;5;124;03m\"\"\"\u001b[39;00m\n\u001b[0;32m    580\u001b[0m \u001b[38;5;124;03mArgs:\u001b[39;00m\n\u001b[0;32m    581\u001b[0m \u001b[38;5;124;03m    where (many types supported; see below): Index of positions to\u001b[39;00m\n\u001b[1;32m   (...)\u001b[0m\n\u001b[0;32m    988\u001b[0m \u001b[38;5;124;03mhave the same dimension as the array being indexed.\u001b[39;00m\n\u001b[0;32m    989\u001b[0m \u001b[38;5;124;03m\"\"\"\u001b[39;00m\n\u001b[0;32m    990\u001b[0m \u001b[38;5;28;01mif\u001b[39;00m \u001b[38;5;129;01mnot\u001b[39;00m \u001b[38;5;28mhasattr\u001b[39m(\u001b[38;5;28mself\u001b[39m, \u001b[38;5;124m\"\u001b[39m\u001b[38;5;124m_tracers\u001b[39m\u001b[38;5;124m\"\u001b[39m):\n\u001b[1;32m--> 991\u001b[0m     tmp \u001b[38;5;241m=\u001b[39m ak\u001b[38;5;241m.\u001b[39m_util\u001b[38;5;241m.\u001b[39mwrap(\u001b[38;5;28;43mself\u001b[39;49m\u001b[38;5;241;43m.\u001b[39;49m\u001b[43mlayout\u001b[49m\u001b[43m[\u001b[49m\u001b[43mwhere\u001b[49m\u001b[43m]\u001b[49m, \u001b[38;5;28mself\u001b[39m\u001b[38;5;241m.\u001b[39m_behavior)\n\u001b[0;32m    992\u001b[0m \u001b[38;5;28;01melse\u001b[39;00m:\n\u001b[0;32m    993\u001b[0m     tmp \u001b[38;5;241m=\u001b[39m ak\u001b[38;5;241m.\u001b[39m_connect\u001b[38;5;241m.\u001b[39m_jax\u001b[38;5;241m.\u001b[39mjax_utils\u001b[38;5;241m.\u001b[39m_jaxtracers_getitem(\u001b[38;5;28mself\u001b[39m, where)\n",
      "\u001b[1;31mValueError\u001b[0m: in RecordArray attempting to get 1, index out of range\n\n(https://github.com/scikit-hep/awkward-1.0/blob/1.9.0/src/libawkward/array/RecordArray.cpp#L792)"
     ]
    }
   ],
   "source": [
    "muons[1][1]"
   ]
  },
  {
   "cell_type": "markdown",
   "id": "55461bff",
   "metadata": {},
   "source": [
    "Let us create a mask which will select all the events with exactly 2 muons -"
   ]
  },
  {
   "cell_type": "code",
   "execution_count": 51,
   "id": "11576c62",
   "metadata": {},
   "outputs": [],
   "source": [
    "two_muons_mask = branches.NMuon == 2"
   ]
  },
  {
   "cell_type": "markdown",
   "id": "bcf1fa2b",
   "metadata": {},
   "source": [
    "We can now obtain a momentum vector of these 2 muon events -"
   ]
  },
  {
   "cell_type": "code",
   "execution_count": 52,
   "id": "ddf8b06a",
   "metadata": {},
   "outputs": [
    {
     "data": {
      "text/plain": [
       "<MomentumArray4D [[{x: -52.9, y: -11.7, ... t: 116}]] type='1371 * var * Momentu...'>"
      ]
     },
     "execution_count": 52,
     "metadata": {},
     "output_type": "execute_result"
    }
   ],
   "source": [
    "two_muons = muons[two_muons_mask]\n",
    "\n",
    "two_muons"
   ]
  },
  {
   "cell_type": "code",
   "execution_count": 53,
   "id": "50f3c459",
   "metadata": {},
   "outputs": [
    {
     "data": {
      "text/plain": [
       "<MomentumArray4D [{x: -52.9, y: -11.7, ... t: 157}] type='1371 * Momentum4D[\"x\":...'>"
      ]
     },
     "execution_count": 53,
     "metadata": {},
     "output_type": "execute_result"
    }
   ],
   "source": [
    "first_muon = two_muons[:, 0]\n",
    "\n",
    "first_muon"
   ]
  },
  {
   "cell_type": "code",
   "execution_count": 54,
   "id": "01110a6d",
   "metadata": {},
   "outputs": [
    {
     "data": {
      "text/plain": [
       "<MomentumArray4D [{x: 37.7, y: 0.693, ... t: 116}] type='1371 * Momentum4D[\"x\": ...'>"
      ]
     },
     "execution_count": 54,
     "metadata": {},
     "output_type": "execute_result"
    }
   ],
   "source": [
    "second_muon = two_muons[:, 1]\n",
    "\n",
    "second_muon"
   ]
  },
  {
   "cell_type": "markdown",
   "id": "6779ef6c",
   "metadata": {},
   "source": [
    "Using `deltaR` from `vector` -"
   ]
  },
  {
   "cell_type": "code",
   "execution_count": 55,
   "id": "c2e2fc22",
   "metadata": {},
   "outputs": [],
   "source": [
    "dR = first_muon.deltaR(second_muon)"
   ]
  },
  {
   "cell_type": "code",
   "execution_count": 56,
   "id": "1a2c172c",
   "metadata": {},
   "outputs": [
    {
     "data": {
      "image/png": "[encoded data removed]",
      "text/plain": [
       "<Figure size 640x480 with 1 Axes>"
      ]
     },
     "metadata": {},
     "output_type": "display_data"
    }
   ],
   "source": [
    "import matplotlib.pyplot as plt\n",
    "\n",
    "plt.hist(dR, bins=100)\n",
    "plt.xlabel(r'$\\Delta R$ between muons')\n",
    "plt.ylabel('Number of two-muon events')\n",
    "plt.show()"
   ]
  },
  {
   "cell_type": "markdown",
   "id": "50cb4a1b",
   "metadata": {},
   "source": [
    "## Recent developments"
   ]
  },
  {
   "cell_type": "markdown",
   "id": "ed52239e",
   "metadata": {
    "jupyter": {
     "source_hidden": true
    }
   },
   "source": [
    "Vector [`v0.9.0`](https://github.com/scikit-hep/vector/releases/tag/v0.9.0) is out!\n",
    "- Features: improved reprs, deltaRapidityPhi, backends are public now, …\n",
    "- Documentation: major documentation overhaul, doctests, CITATION.cff, …\n",
    "- Bug fixes: type checks, fix nan_to_num, …\n",
    "- Maintenance: hatchling backend, support awkward._v2 in tests, build and test on Python 3.10 and 3.11-dev, …\n",
    "\n",
    "More about `v0.9.0` here - https://vector.readthedocs.io/en/latest/changelog.html#version-0-9 \n",
    "\n",
    "---\n",
    "\n",
    "Vector [`v0.10.0`](https://github.com/scikit-hep/vector/releases/tag/v0.10.0) is out too!\n",
    "- Removed support for Python 3.6\n",
    "\n",
    "More about `v0.10.0` here - https://vector.readthedocs.io/en/latest/changelog.html#version-0-10 "
   ]
  },
  {
   "cell_type": "markdown",
   "id": "086dacb6",
   "metadata": {},
   "source": [
    "## Near future development plans"
   ]
  },
  {
   "cell_type": "markdown",
   "id": "6743dc3c",
   "metadata": {
    "jupyter": {
     "source_hidden": true
    }
   },
   "source": [
    "- Better constructors (under work)\n",
    "- A benchmarking suite\n",
    "- Benchmarks against Root\n",
    "- A complete `awkward` `v2` support (scheduled for December)\n",
    "- NumPy-Numba backend\n",
    "- Other potential backends - \n",
    "\n",
    "Vector was scheduled to have a major release (`v1.0.0`) before `PyHEP 2022`, but that was unfortunately delayed. A major release can be expected in October, which would primarily be introducing new constructors.\n",
    "\n",
    "Open for user feedback and discussions!"
   ]
  },
  {
   "cell_type": "markdown",
   "id": "8fd64ee9",
   "metadata": {},
   "source": [
    "## Stuck somewhere? Reach out!"
   ]
  },
  {
   "cell_type": "markdown",
   "id": "fcf87fd8",
   "metadata": {
    "jupyter": {
     "source_hidden": true
    }
   },
   "source": [
    "- If something is not working the way it should, or if you want to request a new feature, create a [new issue](https://github.com/scikit-hep/vector/issues) on GitHub.\n",
    "- To discuss something related to vector, use the [discussions](https://github.com/scikit-hep/vector/discussions/) tab on GitHub or vector’s gitter ([Scikit-HEP/vector](https://gitter.im/Scikit-HEP/vector)) chat room.\n",
    "- Have a look at vector's [changelog](https://vector.readthedocs.io/en/latest/#changes-in-vector-s-api) to stay up-to-date!"
   ]
  },
  {
   "cell_type": "markdown",
   "id": "1435fb91",
   "metadata": {},
   "source": [
    "## Cite vector"
   ]
  },
  {
   "cell_type": "markdown",
   "id": "210fb572",
   "metadata": {
    "jupyter": {
     "source_hidden": true
    }
   },
   "source": [
    "If you use `vector` in your work, please cite it using the following metadata -\n",
    "\n",
    "```tex\n",
    "@software{Schreiner_vector,\n",
    "author = {Schreiner, Henry and Pivarski, Jim and Chopra, Saransh},\n",
    "doi = {10.5281/zenodo.5942082},\n",
    "license = {BSD-3-Clause},\n",
    "title = {{vector}},\n",
    "url = {https://github.com/scikit-hep/vector}\n",
    "}\n",
    "```"
   ]
  }
 ],
 "metadata": {
  "kernelspec": {
   "display_name": "Python 3 (ipykernel)",
   "language": "python",
   "name": "python3"
  },
  "language_info": {
   "codemirror_mode": {
    "name": "ipython",
    "version": 3
   },
   "file_extension": ".py",
   "mimetype": "text/x-python",
   "name": "python",
   "nbconvert_exporter": "python",
   "pygments_lexer": "ipython3",
   "version": "3.9.0"
  }
 },
 "nbformat": 4,
 "nbformat_minor": 5
}
