{
 "cells": [
  {
   "cell_type": "markdown",
   "id": "3fa65fca",
   "metadata": {},
   "source": [
    "# Constructing HEP vectors and analyzing HEP data using Vector\n",
    "\n",
    "**Henry Schreiner\\*, Jim Pivarski\\*, and Saransh Chopra<sup>+</sup> (speaker)**\n",
    "\n",
    "\\*: Princeton University </br>\n",
    "<sup>+</sup>: Cluster Innovation Centre, University of Delhi\n",
    "\n",
    "**Quick links**:\n",
    "- GitHub repository (of vector) - https://github.com/scikit-hep/vector\n",
    "- Vector's documentation - https://vector.readthedocs.io/\n",
    "- GitHub repository (of this talk) - https://github.com/Saransh-cpp/PyHEP22-Constructing-HEP-vectors-and-analyzing-HEP-data-using-Vector\n",
    "- Binder (to run the code with us) - https://mybinder.org/v2/gh/Saransh-cpp/PyHEP22-Constructing-HEP-vectors-and-analyzing-HEP-data-using-Vector/HEAD?urlpath=lab/tree/talk.ipynb\n",
    "- Slido ?"
   ]
  },
  {
   "cell_type": "markdown",
   "id": "86414586",
   "metadata": {},
   "source": [
    "## Table of contents\n",
    "\n",
    "1. [Introduction](#Introduction)\n",
    "2. [Goals](#Goals)\n",
    "3. [Setup](#Setup)\n",
    "4. [Pure Python Object vectors](#Pure-Python-Object-vectors)\n",
    "5. [NumPy vectors](#NumPy-vectors)\n",
    "6. [Awkward vectors](#Awkward-vectors)\n",
    "7. [Compiling vectors with Numba](#Compiling-vectors-with-Numba)\n",
    "8. [Uproot, Awkward, and Vector](#Uproot,-Awkward,-and-Vector)\n",
    "9. [Recent developments](#Recent-developments)\n",
    "10. [Near future development plans](#Near-future-development-plans)\n",
    "11. [Stuck somewhere? Reach out!](#Stuck-somewhere?-Reach-out!)"
   ]
  },
  {
   "cell_type": "markdown",
   "id": "c9665a05",
   "metadata": {},
   "source": [
    "## Introduction\n",
    "\n",
    "Vector is a Python library for 2D, 3D, and Lorentz vectors, including arrays of vectors, designed to solve common physics problems in a NumPy-like way. Vector currently supports pure Python Object, NumPy, Awkward, and Numba-based (Numba-Object, Numba-Awkward) backends.\n",
    "\n",
    "Main features of Vector:\n",
    "\n",
    "- Pure Python with NumPy as its only dependency. This makes it easier to install.\n",
    "- Vectors may be represented in a variety of coordinate systems: Cartesian, cylindrical, pseudorapidity, and any combination of these with time or proper time for Lorentz vectors. In all, there are 12 coordinate systems: {_x_-_y_ vs _ρ_-_φ_ in the azimuthal plane} × {_z_ vs _θ_ vs _η_ longitudinally} × {_t_ vs _τ_ temporally}.\n",
    "- Uses names and conventions set by [ROOT](https://root.cern/)'s [TLorentzVector](https://root.cern.ch/doc/master/classTLorentzVector.html) and [Math::LorentzVector](https://root.cern.ch/doc/master/classROOT_1_1Math_1_1LorentzVector.html), as well as [scikit-hep/math](https://github.com/scikit-hep/scikit-hep/tree/master/skhep/math), [uproot-methods TLorentzVector](https://github.com/scikit-hep/uproot3-methods/blob/master/uproot3_methods/classes/TLorentzVector.py), [henryiii/hepvector](https://github.com/henryiii/hepvector), and [coffea.nanoevents.methods.vector](https://coffeateam.github.io/coffea/modules/coffea.nanoevents.methods.vector.html).\n",
    "- Implemented on a variety of backends:\n",
    "  - pure Python objects\n",
    "  - NumPy arrays of vectors (as a [structured array](https://numpy.org/doc/stable/user/basics.rec.html) subclass)\n",
    "  - [Awkward Arrays](https://awkward-array.org/) of vectors\n",
    "  - potential for more: CuPy, TensorFlow, Torch, JAX...\n",
    "- NumPy/Awkward backends also implemented in [Numba](https://numba.pydata.org/) for JIT-compiled calculations on vectors.\n",
    "- Distinction between geometrical vectors, which have a minimum of attribute and method names, and vectors representing momentum, which have synonyms like `pt` = `rho`, `energy` = `t`, `mass` = `tau`."
   ]
  },
  {
   "cell_type": "markdown",
   "id": "08e882b6",
   "metadata": {},
   "source": [
    "## Goals\n",
    "\n",
    "This talk will focus on introducing Vector and its backends through a data analysis pipeline. The session will build up from pure Python Object based vectors to Awkward based vectors, ending with a demonstration of Numba support. Furthermore, we will discuss the latest developments in the library's API and showcase some recent enhancements."
   ]
  },
  {
   "cell_type": "markdown",
   "id": "c9f0dd1f",
   "metadata": {},
   "source": [
    "## Setup\n",
    "\n",
    "There are two ways to follow along (or run this notebook after the talk) -\n",
    "\n",
    "1. Locally\n",
    "\n",
    "    - Clone [this](https://github.com/Saransh-cpp/PyHEP22-Constructing-HEP-vectors-and-analyzing-HEP-data-using-Vector.git) repository -\n",
    "```bash\n",
    "git clone https://github.com/Saransh-cpp/PyHEP22-Constructing-HEP-vectors-and-analyzing-HEP-data-using-Vector.git\n",
    "```\n",
    "\n",
    "    - Change directory\n",
    "```bash\n",
    "cd Constructing-HEP-vectors-and-analyzing-HEP-data-using-Vector\n",
    "```\n",
    "\n",
    "    - Launch the classic Jupyter notebook or Jupyter lab -\n",
    "```bash\n",
    "jupyter notebook\n",
    "# or\n",
    "jupyter lab\n",
    "```\n",
    "\n",
    "2. On cloud (recommended)\n",
    "\n",
    "    - Binder (recommended)\n",
    "[![Binder](https://mybinder.org/badge_logo.svg)](https://mybinder.org/v2/gh/Saransh-cpp/PyHEP22-Constructing-HEP-vectors-and-analyzing-HEP-data-using-Vector/HEAD?urlpath=lab/tree/talk.ipynb)\n",
    "\n",
    "    - Google Colab\n",
    "[![Open In Colab](https://colab.research.google.com/assets/colab-badge.svg)](https://colab.research.google.com/github/Saransh-cpp/PyHEP22-Constructing-HEP-vectors-and-analyzing-HEP-data-using-Vector/blob/main/talk.ipynb)\n",
    "   \n",
    "We will be directly importing `vector`, `awkward` and `uproot` in this tutorial. Hence, a user must install these packages if this notebook is being run locally or on Google Colab."
   ]
  },
  {
   "cell_type": "code",
   "execution_count": 1,
   "id": "c0f35ca4",
   "metadata": {},
   "outputs": [],
   "source": [
    "# Python 3.6 -\n",
    "# !pip install vector==0.9.0 awkward==1.9.0 uproot==4.5.3\n",
    "\n",
    "# Python 3.7+ -\n",
    "# !pip install vector==0.10.0 awkward==1.10.0 uproot==4.5.3"
   ]
  },
  {
   "cell_type": "markdown",
   "id": "b5b101e1",
   "metadata": {},
   "source": [
    "## Pure Python Object vectors"
   ]
  },
  {
   "cell_type": "markdown",
   "id": "cfd91e4f",
   "metadata": {},
   "source": [
    "## NumPy vectors"
   ]
  },
  {
   "cell_type": "markdown",
   "id": "966db870",
   "metadata": {},
   "source": [
    "## Awkward vectors"
   ]
  },
  {
   "cell_type": "markdown",
   "id": "efeea765",
   "metadata": {},
   "source": [
    "## Compiling vectors with Numba"
   ]
  },
  {
   "cell_type": "markdown",
   "id": "a463ca4f",
   "metadata": {},
   "source": [
    "## Uproot, Awkward, and Vector"
   ]
  },
  {
   "cell_type": "markdown",
   "id": "aa6e7106",
   "metadata": {},
   "source": [
    "## Recent developments"
   ]
  },
  {
   "cell_type": "markdown",
   "id": "cbaec23d",
   "metadata": {},
   "source": [
    "## Near future development plans"
   ]
  },
  {
   "cell_type": "markdown",
   "id": "d304f6cc",
   "metadata": {},
   "source": [
    "## Stuck somewhere? Reach out!\n",
    "\n",
    "- If something is not working the way it should, or if you want to request a new feature, create a [new issue](https://github.com/scikit-hep/vector/issues) on GitHub.\n",
    "- To discuss something related to vector, use the [discussions](https://github.com/scikit-hep/vector/discussions/) tab on GitHub or vector’s gitter ([Scikit-HEP/vector](https://gitter.im/Scikit-HEP/vector)) chat room."
   ]
  }
 ],
 "metadata": {
  "kernelspec": {
   "display_name": "Python 3 (ipykernel)",
   "language": "python",
   "name": "python3"
  },
  "language_info": {
   "codemirror_mode": {
    "name": "ipython",
    "version": 3
   },
   "file_extension": ".py",
   "mimetype": "text/x-python",
   "name": "python",
   "nbconvert_exporter": "python",
   "pygments_lexer": "ipython3",
   "version": "3.9.0"
  }
 },
 "nbformat": 4,
 "nbformat_minor": 5
}
